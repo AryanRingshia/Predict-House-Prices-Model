{
 "cells": [
  {
   "cell_type": "code",
   "execution_count": 3,
   "metadata": {
    "_cell_guid": "3f720637-6601-4ad2-a29a-6e6aa5ad5cb5",
    "_uuid": "df1a6105-9e3d-4de1-be54-206fe5e0d0ad",
    "execution": {
     "iopub.execute_input": "2021-03-09T14:17:35.335326Z",
     "iopub.status.busy": "2021-03-09T14:17:35.334652Z",
     "iopub.status.idle": "2021-03-09T14:17:36.312167Z",
     "shell.execute_reply": "2021-03-09T14:17:36.311314Z"
    },
    "papermill": {
     "duration": 1.034621,
     "end_time": "2021-03-09T14:17:36.312380",
     "exception": false,
     "start_time": "2021-03-09T14:17:35.277759",
     "status": "completed"
    },
    "tags": []
   },
   "outputs": [],
   "source": [
    "import numpy as np\n",
    "import pandas as pd \n",
    "import matplotlib.pyplot as plt\n",
    "import seaborn as sns\n",
    "\n",
    "import os"
   ]
  },
  {
   "cell_type": "code",
   "execution_count": 4,
   "metadata": {
    "_cell_guid": "490a5c85-ae0d-499e-9fe3-d1f4a30e118a",
    "_uuid": "43f58136-11ba-415c-b747-ff40edb7bd60",
    "execution": {
     "iopub.execute_input": "2021-03-09T14:17:36.414976Z",
     "iopub.status.busy": "2021-03-09T14:17:36.414070Z",
     "iopub.status.idle": "2021-03-09T14:17:36.558749Z",
     "shell.execute_reply": "2021-03-09T14:17:36.558056Z"
    },
    "papermill": {
     "duration": 0.198255,
     "end_time": "2021-03-09T14:17:36.558898",
     "exception": false,
     "start_time": "2021-03-09T14:17:36.360643",
     "status": "completed"
    },
    "tags": []
   },
   "outputs": [
    {
     "data": {
      "text/html": [
       "<div>\n",
       "<style scoped>\n",
       "    .dataframe tbody tr th:only-of-type {\n",
       "        vertical-align: middle;\n",
       "    }\n",
       "\n",
       "    .dataframe tbody tr th {\n",
       "        vertical-align: top;\n",
       "    }\n",
       "\n",
       "    .dataframe thead th {\n",
       "        text-align: right;\n",
       "    }\n",
       "</style>\n",
       "<table border=\"1\" class=\"dataframe\">\n",
       "  <thead>\n",
       "    <tr style=\"text-align: right;\">\n",
       "      <th></th>\n",
       "      <th>MSSubClass</th>\n",
       "      <th>MSZoning</th>\n",
       "      <th>LotFrontage</th>\n",
       "      <th>LotArea</th>\n",
       "      <th>Alley</th>\n",
       "      <th>LotShape</th>\n",
       "      <th>LandContour</th>\n",
       "      <th>LotConfig</th>\n",
       "      <th>LandSlope</th>\n",
       "      <th>Neighborhood</th>\n",
       "      <th>...</th>\n",
       "      <th>PoolArea</th>\n",
       "      <th>PoolQC</th>\n",
       "      <th>Fence</th>\n",
       "      <th>MiscFeature</th>\n",
       "      <th>MiscVal</th>\n",
       "      <th>MoSold</th>\n",
       "      <th>YrSold</th>\n",
       "      <th>SaleType</th>\n",
       "      <th>SaleCondition</th>\n",
       "      <th>SalePrice</th>\n",
       "    </tr>\n",
       "  </thead>\n",
       "  <tbody>\n",
       "    <tr>\n",
       "      <th>0</th>\n",
       "      <td>60</td>\n",
       "      <td>RL</td>\n",
       "      <td>65.0</td>\n",
       "      <td>8450</td>\n",
       "      <td>NaN</td>\n",
       "      <td>Reg</td>\n",
       "      <td>Lvl</td>\n",
       "      <td>Inside</td>\n",
       "      <td>Gtl</td>\n",
       "      <td>CollgCr</td>\n",
       "      <td>...</td>\n",
       "      <td>0</td>\n",
       "      <td>NaN</td>\n",
       "      <td>NaN</td>\n",
       "      <td>NaN</td>\n",
       "      <td>0</td>\n",
       "      <td>2</td>\n",
       "      <td>2008</td>\n",
       "      <td>WD</td>\n",
       "      <td>Normal</td>\n",
       "      <td>208500</td>\n",
       "    </tr>\n",
       "    <tr>\n",
       "      <th>1</th>\n",
       "      <td>20</td>\n",
       "      <td>RL</td>\n",
       "      <td>80.0</td>\n",
       "      <td>9600</td>\n",
       "      <td>NaN</td>\n",
       "      <td>Reg</td>\n",
       "      <td>Lvl</td>\n",
       "      <td>FR2</td>\n",
       "      <td>Gtl</td>\n",
       "      <td>Veenker</td>\n",
       "      <td>...</td>\n",
       "      <td>0</td>\n",
       "      <td>NaN</td>\n",
       "      <td>NaN</td>\n",
       "      <td>NaN</td>\n",
       "      <td>0</td>\n",
       "      <td>5</td>\n",
       "      <td>2007</td>\n",
       "      <td>WD</td>\n",
       "      <td>Normal</td>\n",
       "      <td>181500</td>\n",
       "    </tr>\n",
       "    <tr>\n",
       "      <th>2</th>\n",
       "      <td>60</td>\n",
       "      <td>RL</td>\n",
       "      <td>68.0</td>\n",
       "      <td>11250</td>\n",
       "      <td>NaN</td>\n",
       "      <td>IR1</td>\n",
       "      <td>Lvl</td>\n",
       "      <td>Inside</td>\n",
       "      <td>Gtl</td>\n",
       "      <td>CollgCr</td>\n",
       "      <td>...</td>\n",
       "      <td>0</td>\n",
       "      <td>NaN</td>\n",
       "      <td>NaN</td>\n",
       "      <td>NaN</td>\n",
       "      <td>0</td>\n",
       "      <td>9</td>\n",
       "      <td>2008</td>\n",
       "      <td>WD</td>\n",
       "      <td>Normal</td>\n",
       "      <td>223500</td>\n",
       "    </tr>\n",
       "    <tr>\n",
       "      <th>3</th>\n",
       "      <td>70</td>\n",
       "      <td>RL</td>\n",
       "      <td>60.0</td>\n",
       "      <td>9550</td>\n",
       "      <td>NaN</td>\n",
       "      <td>IR1</td>\n",
       "      <td>Lvl</td>\n",
       "      <td>Corner</td>\n",
       "      <td>Gtl</td>\n",
       "      <td>Crawfor</td>\n",
       "      <td>...</td>\n",
       "      <td>0</td>\n",
       "      <td>NaN</td>\n",
       "      <td>NaN</td>\n",
       "      <td>NaN</td>\n",
       "      <td>0</td>\n",
       "      <td>2</td>\n",
       "      <td>2006</td>\n",
       "      <td>WD</td>\n",
       "      <td>Abnorml</td>\n",
       "      <td>140000</td>\n",
       "    </tr>\n",
       "    <tr>\n",
       "      <th>4</th>\n",
       "      <td>60</td>\n",
       "      <td>RL</td>\n",
       "      <td>84.0</td>\n",
       "      <td>14260</td>\n",
       "      <td>NaN</td>\n",
       "      <td>IR1</td>\n",
       "      <td>Lvl</td>\n",
       "      <td>FR2</td>\n",
       "      <td>Gtl</td>\n",
       "      <td>NoRidge</td>\n",
       "      <td>...</td>\n",
       "      <td>0</td>\n",
       "      <td>NaN</td>\n",
       "      <td>NaN</td>\n",
       "      <td>NaN</td>\n",
       "      <td>0</td>\n",
       "      <td>12</td>\n",
       "      <td>2008</td>\n",
       "      <td>WD</td>\n",
       "      <td>Normal</td>\n",
       "      <td>250000</td>\n",
       "    </tr>\n",
       "  </tbody>\n",
       "</table>\n",
       "<p>5 rows × 78 columns</p>\n",
       "</div>"
      ],
      "text/plain": [
       "   MSSubClass MSZoning  LotFrontage  LotArea Alley LotShape LandContour  \\\n",
       "0          60       RL         65.0     8450   NaN      Reg         Lvl   \n",
       "1          20       RL         80.0     9600   NaN      Reg         Lvl   \n",
       "2          60       RL         68.0    11250   NaN      IR1         Lvl   \n",
       "3          70       RL         60.0     9550   NaN      IR1         Lvl   \n",
       "4          60       RL         84.0    14260   NaN      IR1         Lvl   \n",
       "\n",
       "  LotConfig LandSlope Neighborhood  ... PoolArea PoolQC Fence MiscFeature  \\\n",
       "0    Inside       Gtl      CollgCr  ...        0    NaN   NaN         NaN   \n",
       "1       FR2       Gtl      Veenker  ...        0    NaN   NaN         NaN   \n",
       "2    Inside       Gtl      CollgCr  ...        0    NaN   NaN         NaN   \n",
       "3    Corner       Gtl      Crawfor  ...        0    NaN   NaN         NaN   \n",
       "4       FR2       Gtl      NoRidge  ...        0    NaN   NaN         NaN   \n",
       "\n",
       "   MiscVal  MoSold  YrSold  SaleType SaleCondition SalePrice  \n",
       "0        0       2    2008        WD        Normal    208500  \n",
       "1        0       5    2007        WD        Normal    181500  \n",
       "2        0       9    2008        WD        Normal    223500  \n",
       "3        0       2    2006        WD       Abnorml    140000  \n",
       "4        0      12    2008        WD        Normal    250000  \n",
       "\n",
       "[5 rows x 78 columns]"
      ]
     },
     "execution_count": 4,
     "metadata": {},
     "output_type": "execute_result"
    }
   ],
   "source": [
    "train = pd.read_csv(\"train.csv\")\n",
    "test = pd.read_csv(\"test.csv\")\n",
    "train = train[train.Utilities != 'NoSeWa']\n",
    "\n",
    "train=train.drop(columns=['Id','Utilities', 'Street'])\n",
    "test=test.drop(columns=['Id','Utilities', 'Street'])\n",
    "train.head()"
   ]
  },
  {
   "cell_type": "code",
   "execution_count": 5,
   "metadata": {
    "_cell_guid": "e9c94247-abde-488b-96bd-8a2169b09f65",
    "_uuid": "01adab91-769f-4735-b472-e8182bf5f059",
    "execution": {
     "iopub.execute_input": "2021-03-09T14:17:36.689913Z",
     "iopub.status.busy": "2021-03-09T14:17:36.685311Z",
     "iopub.status.idle": "2021-03-09T14:17:36.864825Z",
     "shell.execute_reply": "2021-03-09T14:17:36.863321Z"
    },
    "papermill": {
     "duration": 0.257725,
     "end_time": "2021-03-09T14:17:36.864994",
     "exception": false,
     "start_time": "2021-03-09T14:17:36.607269",
     "status": "completed"
    },
    "tags": []
   },
   "outputs": [
    {
     "data": {
      "text/plain": [
       "[<matplotlib.lines.Line2D at 0x7fc2c02f31c0>]"
      ]
     },
     "execution_count": 5,
     "metadata": {},
     "output_type": "execute_result"
    },
    {
     "data": {
      "image/png": "[encoded data removed]",
      "text/plain": [
       "<Figure size 432x288 with 1 Axes>"
      ]
     },
     "metadata": {
      "needs_background": "light"
     },
     "output_type": "display_data"
    }
   ],
   "source": [
    "#no null values in MSSubClass\n",
    "plt.plot(train[['MSSubClass', 'SalePrice']].groupby(['MSSubClass'], as_index=True).mean())"
   ]
  },
  {
   "cell_type": "code",
   "execution_count": 6,
   "metadata": {
    "_cell_guid": "370b4904-81f7-47cc-865e-70ad94b17cec",
    "_uuid": "eb2aa273-bd2a-4247-acac-b43e9c5e7a70",
    "execution": {
     "iopub.execute_input": "2021-03-09T14:17:36.990371Z",
     "iopub.status.busy": "2021-03-09T14:17:36.989665Z",
     "iopub.status.idle": "2021-03-09T14:17:37.019929Z",
     "shell.execute_reply": "2021-03-09T14:17:37.019305Z"
    },
    "papermill": {
     "duration": 0.100852,
     "end_time": "2021-03-09T14:17:37.020093",
     "exception": false,
     "start_time": "2021-03-09T14:17:36.919241",
     "status": "completed"
    },
    "tags": []
   },
   "outputs": [],
   "source": [
    "#null values in MSZoning test set. Drop C\n",
    "train.loc[(train['MSZoning'] == 'C (all)') , 'MSZoning'] = np.nan\n",
    "test.loc[(test['MSZoning'] == 'C (all)') , 'MSZoning'] = np.nan\n",
    "train['MSZoning'] = train['MSZoning'].fillna(train['MSZoning'].mode()[0])\n",
    "test['MSZoning'] = test['MSZoning'].fillna(train['MSZoning'].mode()[0])\n",
    "\n",
    "#combine RH and RM into 1 category\n",
    "train.loc[(train['MSZoning'] == 'RH') | (train['MSZoning'] == 'RM') , 'MSZoning'] = 'RHM'\n",
    "test.loc[(test['MSZoning'] == 'RH') | (test['MSZoning'] == 'RM') , 'MSZoning'] = 'RHM'\n",
    "\n",
    "#encode\n",
    "train = pd.concat([train, pd.get_dummies(train['MSZoning'], drop_first=True, prefix='MSZoning')], axis = 1)\n",
    "train=train.drop(columns=['MSZoning'])\n",
    "test = pd.concat([test, pd.get_dummies(test['MSZoning'], drop_first=True, prefix='MSZoning')], axis = 1)\n",
    "test=test.drop(columns=['MSZoning'])"
   ]
  },
  {
   "cell_type": "code",
   "execution_count": 7,
   "metadata": {
    "_cell_guid": "5956daeb-c97b-45d1-930d-1bbf3abb23f2",
    "_uuid": "43ec77b6-e8bb-4045-b999-70699292949c",
    "execution": {
     "iopub.execute_input": "2021-03-09T14:17:37.133819Z",
     "iopub.status.busy": "2021-03-09T14:17:37.133120Z",
     "iopub.status.idle": "2021-03-09T14:17:37.729920Z",
     "shell.execute_reply": "2021-03-09T14:17:37.729350Z"
    },
    "papermill": {
     "duration": 0.659136,
     "end_time": "2021-03-09T14:17:37.730079",
     "exception": false,
     "start_time": "2021-03-09T14:17:37.070943",
     "status": "completed"
    },
    "tags": []
   },
   "outputs": [],
   "source": [
    "#Lot Frontage\n",
    "#null values\n",
    "from sklearn.impute import KNNImputer\n",
    "imputer = KNNImputer(n_neighbors=5)\n",
    "train['LotFrontage'] = imputer.fit_transform(train['LotFrontage'].values.reshape(-1, 1))\n",
    "test['LotFrontage'] = imputer.transform(test['LotFrontage'].values.reshape(-1, 1))\n",
    "\n",
    "# bands\n",
    "# train['LotFrontage'] = pd.cut(train['LotFrontage'], 3)\n",
    "train.loc[ train['LotFrontage'] <= 60, 'LotFrontage'] = 0\n",
    "train.loc[(train['LotFrontage'] > 60) & (train['LotFrontage'] <= 100), 'LotFrontage'] = 1\n",
    "train.loc[(train['LotFrontage'] > 100) & (train['LotFrontage'] <= 120), 'LotFrontage'] = 2\n",
    "train.loc[(train['LotFrontage'] > 120), 'LotFrontage'] = 3\n",
    "\n",
    "test.loc[ test['LotFrontage'] <= 60, 'LotFrontage'] = 0\n",
    "test.loc[(test['LotFrontage'] > 60) & (test['LotFrontage'] <= 100), 'LotFrontage'] = 1\n",
    "test.loc[(test['LotFrontage'] > 100) & (test['LotFrontage'] <= 120), 'LotFrontage'] = 2\n",
    "test.loc[(test['LotFrontage'] > 120), 'LotFrontage'] = 3\n"
   ]
  },
  {
   "cell_type": "code",
   "execution_count": 8,
   "metadata": {
    "_cell_guid": "a97c345a-a6ca-4fa6-823d-79f0226accdf",
    "_uuid": "26e5f476-e71a-4d04-aa22-72417daa54d8",
    "execution": {
     "iopub.execute_input": "2021-03-09T14:17:37.836130Z",
     "iopub.status.busy": "2021-03-09T14:17:37.835386Z",
     "iopub.status.idle": "2021-03-09T14:17:37.842830Z",
     "shell.execute_reply": "2021-03-09T14:17:37.843343Z"
    },
    "papermill": {
     "duration": 0.062174,
     "end_time": "2021-03-09T14:17:37.843561",
     "exception": false,
     "start_time": "2021-03-09T14:17:37.781387",
     "status": "completed"
    },
    "tags": []
   },
   "outputs": [],
   "source": [
    "#LotArea. non null\n",
    "#scaled\n",
    "from sklearn.preprocessing import StandardScaler\n",
    "sc = StandardScaler()\n",
    "train['LotArea'] = sc.fit_transform(train['LotArea'].values.reshape(-1, 1))\n",
    "test['LotArea'] = sc.transform(test['LotArea'].values.reshape(-1, 1))"
   ]
  },
  {
   "cell_type": "code",
   "execution_count": 9,
   "metadata": {
    "_cell_guid": "f9c4ddd4-a3c2-48b1-90a0-5963f7a2f797",
    "_uuid": "634f4edd-dfa3-48ab-abb9-50599f2d154d",
    "execution": {
     "iopub.execute_input": "2021-03-09T14:17:37.953607Z",
     "iopub.status.busy": "2021-03-09T14:17:37.952900Z",
     "iopub.status.idle": "2021-03-09T14:17:37.967447Z",
     "shell.execute_reply": "2021-03-09T14:17:37.968030Z"
    },
    "papermill": {
     "duration": 0.070394,
     "end_time": "2021-03-09T14:17:37.968211",
     "exception": false,
     "start_time": "2021-03-09T14:17:37.897817",
     "status": "completed"
    },
    "tags": []
   },
   "outputs": [],
   "source": [
    "#Alley\n",
    "train.loc[(train['Alley'] == 'Pave') | (train['Alley'] == 'Grvl') , 'Alley'] = 'alley'\n",
    "test.loc[(test['Alley'] == 'Pave') | (test['Alley'] == 'Grvl') , 'Alley'] = 'alley'\n",
    "train['Alley'].fillna('No', inplace=True)\n",
    "test['Alley'].fillna('No', inplace=True)\n",
    "\n",
    "# label encode 1/0\n",
    "from sklearn import preprocessing\n",
    "le = preprocessing.LabelEncoder()\n",
    "train['Alley'] = le.fit_transform(train['Alley'])\n",
    "test['Alley'] = le.transform(test['Alley'])"
   ]
  },
  {
   "cell_type": "code",
   "execution_count": 10,
   "metadata": {
    "_cell_guid": "e6bd2a3c-ceb4-41bf-ae62-f469952d0f11",
    "_uuid": "e9bbb6a3-f2ea-4e32-8209-595ada993568",
    "execution": {
     "iopub.execute_input": "2021-03-09T14:17:38.083299Z",
     "iopub.status.busy": "2021-03-09T14:17:38.082616Z",
     "iopub.status.idle": "2021-03-09T14:17:38.108419Z",
     "shell.execute_reply": "2021-03-09T14:17:38.108994Z"
    },
    "papermill": {
     "duration": 0.090417,
     "end_time": "2021-03-09T14:17:38.109185",
     "exception": false,
     "start_time": "2021-03-09T14:17:38.018768",
     "status": "completed"
    },
    "tags": []
   },
   "outputs": [],
   "source": [
    "#LotShape non null\n",
    "train.loc[(train['LotShape'] == 'IR2') | (train['LotShape'] == 'IR3') , 'LotShape'] = 'IR23'\n",
    "test.loc[(test['LotShape'] == 'IR2') | (test['LotShape'] == 'IR3') , 'LotShape'] = 'IR23'\n",
    "\n",
    "#encode\n",
    "train = pd.concat([train, pd.get_dummies(train['LotShape'], drop_first=True, prefix='LotShape')], axis = 1)\n",
    "train=train.drop(columns=['LotShape'])\n",
    "test = pd.concat([test, pd.get_dummies(test['LotShape'], drop_first=True, prefix='LotShape')], axis = 1)\n",
    "test=test.drop(columns=['LotShape'])"
   ]
  },
  {
   "cell_type": "code",
   "execution_count": 11,
   "metadata": {
    "_cell_guid": "e4795b05-d18f-4563-b88f-24988977bf19",
    "_uuid": "0797e4b1-a205-443d-9164-5e68125babeb",
    "execution": {
     "iopub.execute_input": "2021-03-09T14:17:38.214822Z",
     "iopub.status.busy": "2021-03-09T14:17:38.214109Z",
     "iopub.status.idle": "2021-03-09T14:17:38.241970Z",
     "shell.execute_reply": "2021-03-09T14:17:38.242515Z"
    },
    "papermill": {
     "duration": 0.08259,
     "end_time": "2021-03-09T14:17:38.242712",
     "exception": false,
     "start_time": "2021-03-09T14:17:38.160122",
     "status": "completed"
    },
    "tags": []
   },
   "outputs": [],
   "source": [
    "#LandContour. non null.\n",
    "#encode\n",
    "train = pd.concat([train, pd.get_dummies(train['LandContour'], drop_first=True, prefix='LandContour')], axis = 1)\n",
    "train=train.drop(columns=['LandContour'])\n",
    "test = pd.concat([test, pd.get_dummies(test['LandContour'], drop_first=True, prefix='LandContour')], axis = 1)\n",
    "test=test.drop(columns=['LandContour'])"
   ]
  },
  {
   "cell_type": "code",
   "execution_count": 12,
   "metadata": {
    "_cell_guid": "b80276d5-2eb7-4ffd-9b26-730ee5c0ccba",
    "_uuid": "f049ed64-c044-43e3-97a9-4f168b1bba3b",
    "execution": {
     "iopub.execute_input": "2021-03-09T14:17:38.348743Z",
     "iopub.status.busy": "2021-03-09T14:17:38.348067Z",
     "iopub.status.idle": "2021-03-09T14:17:38.380518Z",
     "shell.execute_reply": "2021-03-09T14:17:38.381065Z"
    },
    "papermill": {
     "duration": 0.086978,
     "end_time": "2021-03-09T14:17:38.381295",
     "exception": false,
     "start_time": "2021-03-09T14:17:38.294317",
     "status": "completed"
    },
    "tags": []
   },
   "outputs": [],
   "source": [
    "#LotConfig. combine inside and cfr\n",
    "train.loc[(train['LotConfig'] == 'FR3') | (train['LotConfig'] == 'FR2') | (train['LotConfig'] == 'Corner'), 'LotConfig'] = 'Inside'\n",
    "test.loc[(test['LotConfig'] == 'FR3') | (test['LotConfig'] == 'FR2') | (test['LotConfig'] == 'Corner'), 'LotConfig'] = 'Inside'\n",
    "\n",
    "#encode\n",
    "train = pd.concat([train, pd.get_dummies(train['LotConfig'], drop_first=True, prefix='LotConfig')], axis = 1)\n",
    "train=train.drop(columns=['LotConfig'])\n",
    "test = pd.concat([test, pd.get_dummies(test['LotConfig'], drop_first=True, prefix='LotConfig')], axis = 1)\n",
    "test=test.drop(columns=['LotConfig'])"
   ]
  },
  {
   "cell_type": "code",
   "execution_count": 13,
   "metadata": {
    "_cell_guid": "008d0e50-96c8-48de-b60c-a37204d589e8",
    "_uuid": "5a1cf03b-1c09-4d28-bb87-241672b9c8bb",
    "execution": {
     "iopub.execute_input": "2021-03-09T14:17:38.496560Z",
     "iopub.status.busy": "2021-03-09T14:17:38.495778Z",
     "iopub.status.idle": "2021-03-09T14:17:38.499732Z",
     "shell.execute_reply": "2021-03-09T14:17:38.499088Z"
    },
    "papermill": {
     "duration": 0.067587,
     "end_time": "2021-03-09T14:17:38.499887",
     "exception": false,
     "start_time": "2021-03-09T14:17:38.432300",
     "status": "completed"
    },
    "tags": []
   },
   "outputs": [],
   "source": [
    "#LandSlope non null.\n",
    "train.loc[(train['LandSlope'] == 'Sev'), 'LandSlope'] = 'Mod'\n",
    "test.loc[(test['LandSlope'] == 'Sev'), 'LandSlope'] = 'Mod'\n",
    "\n",
    "#label encode\n",
    "from sklearn import preprocessing\n",
    "le = preprocessing.LabelEncoder()\n",
    "train['LandSlope'] = le.fit_transform(train['LandSlope'])\n",
    "test['LandSlope'] = le.transform(test['LandSlope'])"
   ]
  },
  {
   "cell_type": "code",
   "execution_count": 14,
   "metadata": {
    "_cell_guid": "314ad175-67e5-43c1-9480-698880f83137",
    "_uuid": "2473b840-e616-489d-9bb8-b3722327fd09",
    "execution": {
     "iopub.execute_input": "2021-03-09T14:17:38.633673Z",
     "iopub.status.busy": "2021-03-09T14:17:38.622849Z",
     "iopub.status.idle": "2021-03-09T14:17:38.659470Z",
     "shell.execute_reply": "2021-03-09T14:17:38.658742Z"
    },
    "papermill": {
     "duration": 0.096848,
     "end_time": "2021-03-09T14:17:38.659649",
     "exception": false,
     "start_time": "2021-03-09T14:17:38.562801",
     "status": "completed"
    },
    "tags": []
   },
   "outputs": [],
   "source": [
    "#Neighborhood\n",
    "train['Neighborhood'].replace(to_replace='Veenker', value=np.nan, inplace=True) \n",
    "train['Neighborhood'].replace(to_replace='NPkVill', value=np.nan, inplace=True) \n",
    "train['Neighborhood'].replace(to_replace='Blueste', value=np.nan, inplace=True) \n",
    "train['Neighborhood'].replace(to_replace='BrDale', value=np.nan, inplace=True) \n",
    "train['Neighborhood'].replace(to_replace='Blmngtn', value=np.nan, inplace=True) \n",
    "\n",
    "test['Neighborhood'].replace(to_replace='Veenker', value=np.nan, inplace=True) \n",
    "test['Neighborhood'].replace(to_replace='NPkVill', value=np.nan, inplace=True) \n",
    "test['Neighborhood'].replace(to_replace='Blueste', value=np.nan, inplace=True) \n",
    "test['Neighborhood'].replace(to_replace='BrDale', value=np.nan, inplace=True) \n",
    "test['Neighborhood'].replace(to_replace='Blmngtn', value=np.nan, inplace=True) \n",
    "\n",
    "#encode\n",
    "train = pd.concat([train, pd.get_dummies(train['Neighborhood'], prefix='Neighborhood')], axis = 1)\n",
    "train=train.drop(columns=['Neighborhood'])\n",
    "test = pd.concat([test, pd.get_dummies(test['Neighborhood'],  prefix='Neighborhood')], axis = 1)\n",
    "test=test.drop(columns=['Neighborhood'])"
   ]
  },
  {
   "cell_type": "code",
   "execution_count": 15,
   "metadata": {
    "_cell_guid": "c31ee4bb-97ff-4124-8c12-411e693f176c",
    "_uuid": "ef725d06-ebb6-4b10-b9ad-4b1ef3f94b86",
    "execution": {
     "iopub.execute_input": "2021-03-09T14:17:38.801907Z",
     "iopub.status.busy": "2021-03-09T14:17:38.801201Z",
     "iopub.status.idle": "2021-03-09T14:17:38.814447Z",
     "shell.execute_reply": "2021-03-09T14:17:38.813871Z"
    },
    "papermill": {
     "duration": 0.103708,
     "end_time": "2021-03-09T14:17:38.814624",
     "exception": false,
     "start_time": "2021-03-09T14:17:38.710916",
     "status": "completed"
    },
    "tags": []
   },
   "outputs": [],
   "source": [
    "#Condition1 and 2. 1)Drop cond2. 2)make new col- 1,2//1,1\n",
    "\n",
    "train.loc[(train['Condition1'] == 'Norm') | (train['Condition2'] == 'Norm') , 'Cond_Norm'] = 1\n",
    "train.loc[(train['Condition1'] == 'Feedr') | (train['Condition2'] == 'Feedr') , 'Cond_Feedr'] = 1\n",
    "train.loc[(train['Condition1'] == 'Artery') | (train['Condition2'] == 'Artery') , 'Cond_Artery'] = 1\n",
    "train.loc[(train['Condition1'] == 'RRAn') | (train['Condition2'] == 'RRAn') , 'Cond_RRAn'] = 1\n",
    "train.loc[(train['Condition1'] == 'PosN') | (train['Condition2'] == 'PosN') , 'Cond_PosN'] = 1\n",
    "train.loc[(train['Condition1'] == 'RRAe') | (train['Condition2'] == 'RRAe') , 'Cond_RRAe'] = 1\n",
    "\n",
    "test.loc[(test['Condition1'] == 'Norm') | (test['Condition2'] == 'Norm') , 'Cond_Norm'] = 1\n",
    "test.loc[(test['Condition1'] == 'Feedr') | (test['Condition2'] == 'Feedr') , 'Cond_Feedr'] = 1\n",
    "test.loc[(test['Condition1'] == 'Artery') | (test['Condition2'] == 'Artery') , 'Cond_Artery'] = 1\n",
    "test.loc[(test['Condition1'] == 'RRAn') | (test['Condition2'] == 'RRAn') , 'Cond_RRAn'] = 1\n",
    "test.loc[(test['Condition1'] == 'PosN') | (test['Condition2'] == 'PosN') , 'Cond_PosN'] = 1\n",
    "test.loc[(test['Condition1'] == 'RRAe') | (test['Condition2'] == 'RRAe') , 'Cond_RRAe'] = 1\n",
    "\n",
    "train=train.drop(columns=['Condition1','Condition2'])\n",
    "test=test.drop(columns=['Condition1','Condition2'])\n",
    "\n",
    "train[['Cond_Norm','Cond_Feedr','Cond_Artery','Cond_RRAn','Cond_PosN','Cond_RRAe']] = train[['Cond_Norm','Cond_Feedr','Cond_Artery','Cond_RRAn','Cond_PosN','Cond_RRAe']].fillna(0).astype(int)\n",
    "test[['Cond_Norm','Cond_Feedr','Cond_Artery','Cond_RRAn','Cond_PosN','Cond_RRAe']] = test[['Cond_Norm','Cond_Feedr','Cond_Artery','Cond_RRAn','Cond_PosN','Cond_RRAe']].fillna(0).astype(int)"
   ]
  },
  {
   "cell_type": "code",
   "execution_count": 16,
   "metadata": {
    "_cell_guid": "c22beaea-babf-4b29-80c3-5631ec2ac0ea",
    "_uuid": "362eb39a-494f-418c-a9b3-9843b01cb6c8",
    "execution": {
     "iopub.execute_input": "2021-03-09T14:17:38.960200Z",
     "iopub.status.busy": "2021-03-09T14:17:38.958794Z",
     "iopub.status.idle": "2021-03-09T14:17:38.979227Z",
     "shell.execute_reply": "2021-03-09T14:17:38.978107Z"
    },
    "papermill": {
     "duration": 0.105213,
     "end_time": "2021-03-09T14:17:38.979416",
     "exception": false,
     "start_time": "2021-03-09T14:17:38.874203",
     "status": "completed"
    },
    "tags": []
   },
   "outputs": [],
   "source": [
    "#BldgType\n",
    "#encode\n",
    "train = pd.concat([train, pd.get_dummies(train['BldgType'], drop_first=True, prefix='BldgType')], axis = 1)\n",
    "train=train.drop(columns=['BldgType'])\n",
    "test = pd.concat([test, pd.get_dummies(test['BldgType'], drop_first=True, prefix='BldgType')], axis = 1)\n",
    "test=test.drop(columns=['BldgType'])"
   ]
  },
  {
   "cell_type": "code",
   "execution_count": 17,
   "metadata": {
    "_cell_guid": "e47af4ae-b779-4870-99a1-40e14914119c",
    "_uuid": "345cfa02-e1dc-4e78-bef1-75a42f0f608f",
    "execution": {
     "iopub.execute_input": "2021-03-09T14:17:39.132340Z",
     "iopub.status.busy": "2021-03-09T14:17:39.128938Z",
     "iopub.status.idle": "2021-03-09T14:17:39.148026Z",
     "shell.execute_reply": "2021-03-09T14:17:39.147191Z"
    },
    "papermill": {
     "duration": 0.09757,
     "end_time": "2021-03-09T14:17:39.148192",
     "exception": false,
     "start_time": "2021-03-09T14:17:39.050622",
     "status": "completed"
    },
    "tags": []
   },
   "outputs": [],
   "source": [
    "#HouseStyle\n",
    "train.loc[(train['HouseStyle'] == '2.5Fin') | (train['HouseStyle'] == '2.5Unf'), 'HouseStyle'] = '2.5Story'\n",
    "test.loc[(test['HouseStyle'] == '2.5Fin') | (test['HouseStyle'] == '2.5Unf') , 'HouseStyle'] = '2.5Story'\n",
    "train.loc[(train['HouseStyle'] == '1.5Fin') | (train['HouseStyle'] == '1.5Unf'), 'HouseStyle'] = '1.5Story'\n",
    "test.loc[(test['HouseStyle'] == '1.5Fin') | (test['HouseStyle'] == '1.5Unf') , 'HouseStyle'] = '1.5Story'\n",
    "#encode\n",
    "train = pd.concat([train, pd.get_dummies(train['HouseStyle'], drop_first=True, prefix='HouseStyle')], axis = 1)\n",
    "train=train.drop(columns=['HouseStyle'])\n",
    "test = pd.concat([test, pd.get_dummies(test['HouseStyle'], drop_first=True, prefix='HouseStyle')], axis = 1)\n",
    "test=test.drop(columns=['HouseStyle'])"
   ]
  },
  {
   "cell_type": "code",
   "execution_count": 18,
   "metadata": {
    "_cell_guid": "6aaf709b-c9dc-46b9-a5d0-fb2e83d843c6",
    "_uuid": "d184794a-34e6-4df9-9316-9ca22872a9c7",
    "execution": {
     "iopub.execute_input": "2021-03-09T14:17:39.278955Z",
     "iopub.status.busy": "2021-03-09T14:17:39.270496Z",
     "iopub.status.idle": "2021-03-09T14:17:39.445273Z",
     "shell.execute_reply": "2021-03-09T14:17:39.444626Z"
    },
    "papermill": {
     "duration": 0.245184,
     "end_time": "2021-03-09T14:17:39.445419",
     "exception": false,
     "start_time": "2021-03-09T14:17:39.200235",
     "status": "completed"
    },
    "tags": []
   },
   "outputs": [
    {
     "name": "stderr",
     "output_type": "stream",
     "text": [
      "/Users/aryanringshia/opt/anaconda3/lib/python3.8/site-packages/matplotlib/axes/_base.py:405: FutureWarning: Support for multi-dimensional indexing (e.g. `obj[:, None]`) is deprecated and will be removed in a future version.  Convert to a numpy array before indexing instead.\n",
      "  x = x[:, np.newaxis]\n"
     ]
    },
    {
     "data": {
      "image/png": "[encoded data removed]",
      "text/plain": [
       "<Figure size 432x288 with 1 Axes>"
      ]
     },
     "metadata": {
      "needs_background": "light"
     },
     "output_type": "display_data"
    }
   ],
   "source": [
    "#YearBuilt, YearRemodAdd bands\n",
    "bins = pd.IntervalIndex.from_tuples([(1871, 1911), (1911, 1931), (1931, 1950), (1950,1970), (1970, 1990), (1990,2000), (2000,2010)])\n",
    "train['YearBuilt']=pd.cut(train['YearBuilt'], bins=bins)\n",
    "test['YearBuilt']=pd.cut(test['YearBuilt'], bins=bins)\n",
    "\n",
    "plt.plot(train[['YearBuilt', 'SalePrice']].groupby(['YearBuilt'], as_index=True).mean())\n",
    "\n",
    "\n",
    "from sklearn import preprocessing\n",
    "le_yb = preprocessing.LabelEncoder()\n",
    "train['YearBuilt'] = le_yb.fit_transform(train['YearBuilt'])\n",
    "test['YearBuilt'] = le_yb.transform(test['YearBuilt'])\n"
   ]
  },
  {
   "cell_type": "code",
   "execution_count": 19,
   "metadata": {
    "_cell_guid": "e6e79f4b-da66-472e-8bd9-6d67094c1eb5",
    "_uuid": "fa38c139-14df-4d0e-89eb-9922b1c51a28",
    "execution": {
     "iopub.execute_input": "2021-03-09T14:17:39.571511Z",
     "iopub.status.busy": "2021-03-09T14:17:39.570395Z",
     "iopub.status.idle": "2021-03-09T14:17:39.596754Z",
     "shell.execute_reply": "2021-03-09T14:17:39.596186Z"
    },
    "papermill": {
     "duration": 0.097599,
     "end_time": "2021-03-09T14:17:39.596904",
     "exception": false,
     "start_time": "2021-03-09T14:17:39.499305",
     "status": "completed"
    },
    "tags": []
   },
   "outputs": [],
   "source": [
    "#RoofStyle\n",
    "train.loc[(train['RoofStyle'] == 'Shed') | (train['RoofStyle'] == 'Mansard') | (train['RoofStyle'] == 'Gambrel') | (train['RoofStyle'] == 'Flat'), 'RoofStyle'] = 'Other'\n",
    "test.loc[(test['RoofStyle'] == 'Shed') | (test['RoofStyle'] == 'Mansard') | (test['RoofStyle'] == 'Gambrel') | (test['RoofStyle'] == 'Flat'), 'RoofStyle'] = 'Other'\n",
    "\n",
    "#encode\n",
    "train = pd.concat([train, pd.get_dummies(train['RoofStyle'], drop_first=True, prefix='RoofStyle')], axis = 1)\n",
    "train=train.drop(columns=['RoofStyle'])\n",
    "test = pd.concat([test, pd.get_dummies(test['RoofStyle'], drop_first=True, prefix='RoofStyle')], axis = 1)\n",
    "test=test.drop(columns=['RoofStyle'])"
   ]
  },
  {
   "cell_type": "code",
   "execution_count": 20,
   "metadata": {
    "_cell_guid": "a4e80207-b679-48c8-a531-26543b5b4f39",
    "_uuid": "9fd13405-75ad-45b8-b686-c9dc0a1dac93",
    "execution": {
     "iopub.execute_input": "2021-03-09T14:17:39.720625Z",
     "iopub.status.busy": "2021-03-09T14:17:39.719937Z",
     "iopub.status.idle": "2021-03-09T14:17:39.724223Z",
     "shell.execute_reply": "2021-03-09T14:17:39.723710Z"
    },
    "papermill": {
     "duration": 0.073079,
     "end_time": "2021-03-09T14:17:39.724364",
     "exception": false,
     "start_time": "2021-03-09T14:17:39.651285",
     "status": "completed"
    },
    "tags": []
   },
   "outputs": [],
   "source": [
    "#RoofMatl, drop\n",
    "train.loc[(train['RoofMatl'] != 'CompShg'), 'RoofMatl'] = 0\n",
    "train.loc[(train['RoofMatl'] == 'CompShg'), 'RoofMatl'] = 1\n",
    "\n",
    "test.loc[(test['RoofMatl'] != 'CompShg'), 'RoofMatl'] = 0\n",
    "test.loc[(test['RoofMatl'] == 'CompShg'), 'RoofMatl'] = 1\n",
    "\n",
    "\n",
    "train['RoofMatl']=train['RoofMatl'].astype(int)\n",
    "test['RoofMatl']=test['RoofMatl'].astype(int)"
   ]
  },
  {
   "cell_type": "code",
   "execution_count": 21,
   "metadata": {
    "_cell_guid": "0c777d43-567a-41e0-b1df-e2f81301d8ea",
    "_uuid": "0cc6974f-463d-43a1-98e3-4d9af7d11cba",
    "execution": {
     "iopub.execute_input": "2021-03-09T14:17:39.858461Z",
     "iopub.status.busy": "2021-03-09T14:17:39.857717Z",
     "iopub.status.idle": "2021-03-09T14:17:39.995058Z",
     "shell.execute_reply": "2021-03-09T14:17:39.994416Z"
    },
    "papermill": {
     "duration": 0.217168,
     "end_time": "2021-03-09T14:17:39.995208",
     "exception": false,
     "start_time": "2021-03-09T14:17:39.778040",
     "status": "completed"
    },
    "tags": []
   },
   "outputs": [],
   "source": [
    "#Exterior1st Exterior2nd missing in test\n",
    "\n",
    "train['Exterior1st'].value_counts()\n",
    "\n",
    "test['Exterior1st'] = test.fillna(test['Exterior1st'].value_counts().index[0])\n",
    "test['Exterior2nd']= test.fillna(test['Exterior2nd'].value_counts().index[0])\n",
    "train.loc[(train['Exterior1st'] == 'VinylSd') | (train['Exterior2nd'] == 'VinylSd') , 'Ext_VinylSd'] = 1\n",
    "train.loc[(train['Exterior1st'] == 'HdBoard') | (train['Exterior2nd'] == 'HdBoard') , 'Ext_HdBoard'] = 1\n",
    "train.loc[(train['Exterior1st'] == 'MetalSd') | (train['Exterior2nd'] == 'MetalSd') , 'Ext_MetalSd'] = 1\n",
    "train.loc[(train['Exterior1st'] == 'Wd Sdng') | (train['Exterior2nd'] == 'Wd Sdng') , 'Ext_Wd_Sdng'] = 1\n",
    "train.loc[(train['Exterior1st'] == 'Wd Shng') | (train['Exterior2nd'] == 'Wd Shng') , 'Ext_Wd_Shng'] = 1\n",
    "train.loc[(train['Exterior1st'] == 'Plywood') | (train['Exterior2nd'] == 'Plywood') , 'Ext_Plywood'] = 1\n",
    "train.loc[(train['Exterior1st'] == 'CemntBd') | (train['Exterior2nd'] == 'CemntBd') , 'Ext_CemntBd'] = 1\n",
    "train.loc[(train['Exterior1st'] == 'BrkFace') | (train['Exterior2nd'] == 'BrkFace') , 'Ext_BrkFace'] = 1\n",
    "train.loc[(train['Exterior1st'] == 'WdShing') | (train['Exterior2nd'] == 'WdShing'), 'Ext_WdShing'] = 1\n",
    "train.loc[(train['Exterior1st'] == 'Stucco') | (train['Exterior2nd'] == 'Stucco') , 'Ext_Stucco'] = 1\n",
    "train.loc[(train['Exterior1st'] == 'AsbShng') | (train['Exterior2nd'] == 'AsbShng') , 'Ext_AsbShng'] = 1\n",
    "\n",
    "test.loc[(test['Exterior1st'] == 'VinylSd') | (test['Exterior2nd'] == 'VinylSd') , 'Ext_VinylSd'] = 1\n",
    "test.loc[(test['Exterior1st'] == 'HdBoard') | (test['Exterior2nd'] == 'HdBoard') , 'Ext_HdBoard'] = 1\n",
    "test.loc[(test['Exterior1st'] == 'MetalSd') | (test['Exterior2nd'] == 'MetalSd') , 'Ext_MetalSd'] = 1\n",
    "test.loc[(test['Exterior1st'] == 'Wd Sdng') | (test['Exterior2nd'] == 'Wd Sdng') , 'Ext_Wd_Sdng'] = 1\n",
    "test.loc[(test['Exterior1st'] == 'Wd Shng') | (test['Exterior2nd'] == 'Wd Shng') , 'Ext_Wd_Shng'] = 1\n",
    "test.loc[(test['Exterior1st'] == 'Plywood') | (test['Exterior2nd'] == 'Plywood') , 'Ext_Plywood'] = 1\n",
    "test.loc[(test['Exterior1st'] == 'CemntBd') | (test['Exterior2nd'] == 'CemntBd') , 'Ext_CemntBd'] = 1\n",
    "test.loc[(test['Exterior1st'] == 'BrkFace') | (test['Exterior2nd'] == 'BrkFace') , 'Ext_BrkFace'] = 1\n",
    "test.loc[(test['Exterior1st'] == 'WdShing') | (test['Exterior2nd'] == 'WdShing'), 'Ext_WdShing'] = 1\n",
    "test.loc[(test['Exterior1st'] == 'Stucco') | (test['Exterior2nd'] == 'Stucco') , 'Ext_Stucco'] = 1\n",
    "test.loc[(test['Exterior1st'] == 'AsbShng') | (test['Exterior2nd'] == 'AsbShng') , 'Ext_AsbShng'] = 1\n",
    "\n",
    "\n",
    "train[['Ext_VinylSd','Ext_HdBoard','Ext_MetalSd','Ext_Wd_Sdng','Ext_Wd_Shng','Ext_Plywood', 'Ext_CemntBd', 'Ext_BrkFace', 'Ext_WdShing', 'Ext_Stucco', 'Ext_AsbShng']]=train[['Ext_VinylSd','Ext_HdBoard','Ext_MetalSd','Ext_Wd_Sdng','Ext_Wd_Shng','Ext_Plywood', 'Ext_CemntBd', 'Ext_BrkFace', 'Ext_WdShing', 'Ext_Stucco', 'Ext_AsbShng']].fillna(0).astype(int)\n",
    "test[['Ext_VinylSd','Ext_HdBoard','Ext_MetalSd','Ext_Wd_Sdng','Ext_Wd_Shng','Ext_Plywood', 'Ext_CemntBd', 'Ext_BrkFace', 'Ext_WdShing', 'Ext_Stucco', 'Ext_AsbShng']]=test[['Ext_VinylSd','Ext_HdBoard','Ext_MetalSd','Ext_Wd_Sdng','Ext_Wd_Shng','Ext_Plywood', 'Ext_CemntBd', 'Ext_BrkFace', 'Ext_WdShing', 'Ext_Stucco', 'Ext_AsbShng']].fillna(0).astype(int)\n",
    "\n",
    "train[['Ext_VinylSd','Ext_HdBoard','Ext_MetalSd','Ext_Wd_Sdng','Ext_Wd_Shng','Ext_Plywood', 'Ext_CemntBd', 'Ext_BrkFace', 'Ext_WdShing', 'Ext_Stucco', 'Ext_AsbShng']].isna().sum()\n",
    "\n",
    "\n",
    "train=train.drop(columns=['Exterior1st','Exterior2nd'])\n",
    "test=test.drop(columns=['Exterior1st','Exterior2nd'])"
   ]
  },
  {
   "cell_type": "code",
   "execution_count": 22,
   "metadata": {
    "_cell_guid": "b29a5e10-c680-4eed-98e8-797698b0358a",
    "_uuid": "444884fb-76b9-4aaf-a7ce-a943a3756aa1",
    "execution": {
     "iopub.execute_input": "2021-03-09T14:17:40.126585Z",
     "iopub.status.busy": "2021-03-09T14:17:40.116497Z",
     "iopub.status.idle": "2021-03-09T14:17:40.143528Z",
     "shell.execute_reply": "2021-03-09T14:17:40.142910Z"
    },
    "papermill": {
     "duration": 0.094168,
     "end_time": "2021-03-09T14:17:40.143693",
     "exception": false,
     "start_time": "2021-03-09T14:17:40.049525",
     "status": "completed"
    },
    "tags": []
   },
   "outputs": [],
   "source": [
    "#MasVnrType drop BrkCmn\n",
    "train['MasVnrType'].value_counts()\n",
    "\n",
    "#missing values\n",
    "train['MasVnrType'] = train['MasVnrType'].fillna(train['MasVnrType'].value_counts().index[0])\n",
    "test['MasVnrType'] = train['MasVnrType'].fillna(test['MasVnrType'].value_counts().index[0])\n",
    "\n",
    "#encode\n",
    "train = pd.concat([train, pd.get_dummies(train['MasVnrType'], drop_first=True, prefix='MasVnrType')], axis = 1)\n",
    "train=train.drop(columns=['MasVnrType'])\n",
    "test = pd.concat([test, pd.get_dummies(test['MasVnrType'], drop_first=True, prefix='MasVnrType')], axis = 1)\n",
    "test=test.drop(columns=['MasVnrType'])"
   ]
  },
  {
   "cell_type": "code",
   "execution_count": 23,
   "metadata": {
    "_cell_guid": "ee6326b3-5cc8-4936-a650-f76cd7102199",
    "_uuid": "cc19c6ba-9a8d-4886-8127-49a8bd512a54",
    "execution": {
     "iopub.execute_input": "2021-03-09T14:17:40.261761Z",
     "iopub.status.busy": "2021-03-09T14:17:40.260411Z",
     "iopub.status.idle": "2021-03-09T14:17:40.268063Z",
     "shell.execute_reply": "2021-03-09T14:17:40.268654Z"
    },
    "papermill": {
     "duration": 0.070779,
     "end_time": "2021-03-09T14:17:40.268840",
     "exception": false,
     "start_time": "2021-03-09T14:17:40.198061",
     "status": "completed"
    },
    "tags": []
   },
   "outputs": [],
   "source": [
    "#MasVnrArea\n",
    "\n",
    "#missing values\n",
    "train['MasVnrArea'] = train['MasVnrArea'].fillna(train['MasVnrArea'].value_counts().index[0])\n",
    "test['MasVnrArea'] = test['MasVnrArea'].fillna(train['MasVnrArea'].value_counts().index[0])\n",
    "\n",
    "#scaled\n",
    "from sklearn.preprocessing import StandardScaler\n",
    "sc = StandardScaler()\n",
    "train['MasVnrArea'] = sc.fit_transform(train['MasVnrArea'].values.reshape(-1, 1))\n",
    "test['MasVnrArea'] = sc.transform(test['MasVnrArea'].values.reshape(-1, 1))"
   ]
  },
  {
   "cell_type": "code",
   "execution_count": 24,
   "metadata": {
    "_cell_guid": "f1b1ba2e-5bdc-48b6-a8f0-abd7722722cd",
    "_uuid": "ce52d4be-10bd-48de-a7eb-4487d7b5b360",
    "execution": {
     "iopub.execute_input": "2021-03-09T14:17:40.382173Z",
     "iopub.status.busy": "2021-03-09T14:17:40.381353Z",
     "iopub.status.idle": "2021-03-09T14:17:40.394700Z",
     "shell.execute_reply": "2021-03-09T14:17:40.395327Z"
    },
    "papermill": {
     "duration": 0.071574,
     "end_time": "2021-03-09T14:17:40.395516",
     "exception": false,
     "start_time": "2021-03-09T14:17:40.323942",
     "status": "completed"
    },
    "tags": []
   },
   "outputs": [],
   "source": [
    "#ExterQual\n",
    "\n",
    "#encode\n",
    "train['ExterQual']=train['ExterQual'].map({\n",
    "    'TA': 1,\n",
    "    'Gd': 2,\n",
    "    'Ex': 3,\n",
    "    'Fa': 0})\n",
    "\n",
    "test['ExterQual']=test['ExterQual'].map({\n",
    "    'TA': 1,\n",
    "    'Gd': 2,\n",
    "    'Ex': 3,\n",
    "    'Fa': 0})"
   ]
  },
  {
   "cell_type": "code",
   "execution_count": 25,
   "metadata": {
    "_cell_guid": "850b0e06-a898-4825-8e79-57a848e6901b",
    "_uuid": "f3e34fe7-6fdc-42c8-8431-5df23b1b9712",
    "execution": {
     "iopub.execute_input": "2021-03-09T14:17:40.508268Z",
     "iopub.status.busy": "2021-03-09T14:17:40.507568Z",
     "iopub.status.idle": "2021-03-09T14:17:40.519503Z",
     "shell.execute_reply": "2021-03-09T14:17:40.520027Z"
    },
    "papermill": {
     "duration": 0.070142,
     "end_time": "2021-03-09T14:17:40.520207",
     "exception": false,
     "start_time": "2021-03-09T14:17:40.450065",
     "status": "completed"
    },
    "tags": []
   },
   "outputs": [],
   "source": [
    "#ExterCond\n",
    "#remove Po,Ex\n",
    "#encode\n",
    "train['ExterCond']=train['ExterCond'].map({\n",
    "    'TA': 2,\n",
    "    'Gd': 3,\n",
    "    'Ex': 4,\n",
    "    'Fa': 1,\n",
    "    'Po': 0})\n",
    "test['ExterCond']=test['ExterCond'].map({\n",
    "    'TA': 2,\n",
    "    'Gd': 3,\n",
    "    'Ex': 4,\n",
    "    'Fa': 1,\n",
    "    'Po': 0})"
   ]
  },
  {
   "cell_type": "code",
   "execution_count": 26,
   "metadata": {
    "_cell_guid": "42832807-7c84-401f-b80c-d7085979cc70",
    "_uuid": "e6269848-bd15-4113-9e55-505b81133458",
    "execution": {
     "iopub.execute_input": "2021-03-09T14:17:40.636137Z",
     "iopub.status.busy": "2021-03-09T14:17:40.635416Z",
     "iopub.status.idle": "2021-03-09T14:17:40.670414Z",
     "shell.execute_reply": "2021-03-09T14:17:40.671012Z"
    },
    "papermill": {
     "duration": 0.094604,
     "end_time": "2021-03-09T14:17:40.671206",
     "exception": false,
     "start_time": "2021-03-09T14:17:40.576602",
     "status": "completed"
    },
    "tags": []
   },
   "outputs": [],
   "source": [
    "#Foundation\n",
    "\n",
    "train.loc[(train['Foundation'] == 'Stone') | (train['Foundation'] == 'Wood') , 'Foundation'] = train['Foundation'].value_counts().index[0]\n",
    "test.loc[(test['Foundation'] == 'Stone') | (test['Foundation'] == 'Wood') , 'Foundation'] = train['Foundation'].value_counts().index[0]\n",
    "train['Foundation'].value_counts()\n",
    "#encode\n",
    "train = pd.concat([train, pd.get_dummies(train['Foundation'], drop_first=True, prefix='Foundation')], axis = 1)\n",
    "train=train.drop(columns=['Foundation'])\n",
    "test = pd.concat([test, pd.get_dummies(test['Foundation'], drop_first=True, prefix='Foundation')], axis = 1)\n",
    "test=test.drop(columns=['Foundation'])"
   ]
  },
  {
   "cell_type": "code",
   "execution_count": 27,
   "metadata": {
    "_cell_guid": "06717373-3f1d-4903-ae51-0811bd5fbe4f",
    "_uuid": "176c1a70-5003-4b04-8fef-aeb048a22ec5",
    "execution": {
     "iopub.execute_input": "2021-03-09T14:17:40.785952Z",
     "iopub.status.busy": "2021-03-09T14:17:40.785196Z",
     "iopub.status.idle": "2021-03-09T14:17:40.802200Z",
     "shell.execute_reply": "2021-03-09T14:17:40.801387Z"
    },
    "papermill": {
     "duration": 0.075751,
     "end_time": "2021-03-09T14:17:40.802373",
     "exception": false,
     "start_time": "2021-03-09T14:17:40.726622",
     "status": "completed"
    },
    "tags": []
   },
   "outputs": [
    {
     "data": {
      "text/plain": [
       "3    648\n",
       "4    618\n",
       "5    121\n",
       "0     37\n",
       "2     35\n",
       "Name: BsmtQual, dtype: int64"
      ]
     },
     "execution_count": 27,
     "metadata": {},
     "output_type": "execute_result"
    }
   ],
   "source": [
    "#BsmtQual \n",
    "\n",
    "#missing values == no basement\n",
    "train['BsmtQual'] = train['BsmtQual'].fillna('No')\n",
    "test['BsmtQual'] = test['BsmtQual'].fillna('No')\n",
    "\n",
    "#encode\n",
    "train['BsmtQual']=train['BsmtQual'].map({\n",
    "    'TA': 3,\n",
    "    'Gd': 4,\n",
    "    'Ex': 5,\n",
    "    'Fa': 2,\n",
    "    'Po': 1,\n",
    "    'No': 0,})\n",
    "\n",
    "test['BsmtQual']=test['BsmtQual'].map({\n",
    "    'TA': 3,\n",
    "    'Gd': 4,\n",
    "    'Ex': 5,\n",
    "    'Fa': 2,\n",
    "    'Po': 1,\n",
    "    'No': 0,})\n",
    "\n",
    "train['BsmtQual'].value_counts()"
   ]
  },
  {
   "cell_type": "code",
   "execution_count": 28,
   "metadata": {
    "_cell_guid": "3d6921c6-41e1-488c-8d6b-74f10d4492dc",
    "_uuid": "3da3ad54-59ac-4ceb-9cd1-639fbc513974",
    "execution": {
     "iopub.execute_input": "2021-03-09T14:17:40.930563Z",
     "iopub.status.busy": "2021-03-09T14:17:40.927045Z",
     "iopub.status.idle": "2021-03-09T14:17:40.934027Z",
     "shell.execute_reply": "2021-03-09T14:17:40.934590Z"
    },
    "papermill": {
     "duration": 0.074573,
     "end_time": "2021-03-09T14:17:40.934777",
     "exception": false,
     "start_time": "2021-03-09T14:17:40.860204",
     "status": "completed"
    },
    "tags": []
   },
   "outputs": [],
   "source": [
    "#BsmtCond\n",
    "#combine No and Po?\n",
    "\n",
    "#missing values == no basement\n",
    "train['BsmtCond'] = train['BsmtCond'].fillna('No')\n",
    "test['BsmtCond'] = test['BsmtCond'].fillna('No')\n",
    "\n",
    "#encode\n",
    "train['BsmtCond']=train['BsmtCond'].map({\n",
    "    'TA': 3,\n",
    "    'Gd': 4,\n",
    "    'Ex': 5,\n",
    "    'Fa': 2,\n",
    "    'Po': 1,\n",
    "    'No': 0,})\n",
    "\n",
    "test['BsmtCond']=test['BsmtCond'].map({\n",
    "    'TA': 3,\n",
    "    'Gd': 4,\n",
    "    'Ex': 5,\n",
    "    'Fa': 2,\n",
    "    'Po': 1,\n",
    "    'No': 0,})\n"
   ]
  },
  {
   "cell_type": "code",
   "execution_count": 29,
   "metadata": {
    "_cell_guid": "680cb174-6b46-4345-a1d9-e2e3418c4c84",
    "_uuid": "e5745cc1-5d3c-45d0-9dbd-cc65fc873b2c",
    "execution": {
     "iopub.execute_input": "2021-03-09T14:17:41.054701Z",
     "iopub.status.busy": "2021-03-09T14:17:41.054011Z",
     "iopub.status.idle": "2021-03-09T14:17:41.068913Z",
     "shell.execute_reply": "2021-03-09T14:17:41.069489Z"
    },
    "papermill": {
     "duration": 0.077658,
     "end_time": "2021-03-09T14:17:41.069686",
     "exception": false,
     "start_time": "2021-03-09T14:17:40.992028",
     "status": "completed"
    },
    "tags": []
   },
   "outputs": [],
   "source": [
    "#BsmtExposure\n",
    "#missing values == no basement\n",
    "train['BsmtExposure'] = train['BsmtExposure'].fillna('NoB')\n",
    "test['BsmtExposure'] = test['BsmtExposure'].fillna('NoB')\n",
    "\n",
    "train['BsmtExposure']=train['BsmtExposure'].map({\n",
    "    'Gd': 4,\n",
    "    'Av': 3,\n",
    "    'Mn': 2,\n",
    "    'No': 1,\n",
    "    'NoB': 0,})\n",
    "test['BsmtExposure']=test['BsmtExposure'].map({\n",
    "    'Gd': 4,\n",
    "    'Av': 3,\n",
    "    'Mn': 2,\n",
    "    'No': 1,\n",
    "    'NoB': 0,})"
   ]
  },
  {
   "cell_type": "code",
   "execution_count": 30,
   "metadata": {
    "_cell_guid": "68c866e4-7c2f-44d7-a4ed-ac3ed8b0bac0",
    "_uuid": "8e451e6f-9f22-4486-84f7-f5358af70063",
    "execution": {
     "iopub.execute_input": "2021-03-09T14:17:41.188322Z",
     "iopub.status.busy": "2021-03-09T14:17:41.187623Z",
     "iopub.status.idle": "2021-03-09T14:17:41.250094Z",
     "shell.execute_reply": "2021-03-09T14:17:41.250693Z"
    },
    "papermill": {
     "duration": 0.123739,
     "end_time": "2021-03-09T14:17:41.250890",
     "exception": false,
     "start_time": "2021-03-09T14:17:41.127151",
     "status": "completed"
    },
    "tags": []
   },
   "outputs": [],
   "source": [
    "#Bsmts, I combined category and feet of that category\n",
    "\n",
    "#missing values == no basement\n",
    "train['BsmtFinType1'] = train['BsmtFinType1'].fillna('No')\n",
    "test['BsmtFinType1'] = test['BsmtFinType1'].fillna('No')\n",
    "train['BsmtFinType2'] = train['BsmtFinType2'].fillna('No')\n",
    "test['BsmtFinType2'] = test['BsmtFinType2'].fillna('No')\n",
    "\n",
    "test['BsmtFinSF1']=test['BsmtFinSF1'].fillna(train['BsmtFinSF1'].mean())\n",
    "test['BsmtFinSF2']=test['BsmtFinSF2'].fillna(train['BsmtFinSF2'].mean())\n",
    "\n",
    "train.loc[(train['BsmtFinType1'] == 'GLQ'), 'Bsmt_GLQ'] = train['BsmtFinSF1']\n",
    "train.loc[(train['BsmtFinType1'] == 'ALQ'), 'Bsmt_ALQ'] = train['BsmtFinSF1']\n",
    "train.loc[(train['BsmtFinType1'] == 'BLQ'), 'Bsmt_BLQ'] = train['BsmtFinSF1']\n",
    "train.loc[(train['BsmtFinType1'] == 'Rec'), 'Bsmt_Rec'] = train['BsmtFinSF1']\n",
    "train.loc[(train['BsmtFinType1'] == 'LwQ'), 'Bsmt_LwQ'] = train['BsmtFinSF1']\n",
    "\n",
    "test.loc[(test['BsmtFinType1'] == 'GLQ'), 'Bsmt_GLQ'] = test['BsmtFinSF1']\n",
    "test.loc[(test['BsmtFinType1'] == 'ALQ'), 'Bsmt_ALQ'] = test['BsmtFinSF1']\n",
    "test.loc[(test['BsmtFinType1'] == 'BLQ'), 'Bsmt_BLQ'] = test['BsmtFinSF1']\n",
    "test.loc[(test['BsmtFinType1'] == 'Rec'), 'Bsmt_Rec'] = test['BsmtFinSF1']\n",
    "test.loc[(test['BsmtFinType1'] == 'LwQ'), 'Bsmt_LwQ'] = test['BsmtFinSF1']\n",
    "\n",
    "train.loc[(train['BsmtFinType2'] == 'GLQ'), 'Bsmt_GLQ'] = train['BsmtFinSF2']\n",
    "train.loc[(train['BsmtFinType2'] == 'ALQ'), 'Bsmt_ALQ'] = train['BsmtFinSF2']\n",
    "train.loc[(train['BsmtFinType2'] == 'BLQ'), 'Bsmt_BLQ'] = train['BsmtFinSF2']\n",
    "train.loc[(train['BsmtFinType2'] == 'Rec'), 'Bsmt_Rec'] = train['BsmtFinSF2']\n",
    "train.loc[(train['BsmtFinType2'] == 'LwQ'), 'Bsmt_LwQ'] = train['BsmtFinSF2']\n",
    "\n",
    "test.loc[(test['BsmtFinType2'] == 'GLQ'), 'Bsmt_GLQ'] = test['BsmtFinSF2']\n",
    "test.loc[(test['BsmtFinType2'] == 'ALQ'), 'Bsmt_ALQ'] = test['BsmtFinSF2']\n",
    "test.loc[(test['BsmtFinType2'] == 'BLQ'), 'Bsmt_BLQ'] = test['BsmtFinSF2']\n",
    "test.loc[(test['BsmtFinType2'] == 'Rec'), 'Bsmt_Rec'] = test['BsmtFinSF2']\n",
    "test.loc[(test['BsmtFinType2'] == 'LwQ'), 'Bsmt_LwQ'] = test['BsmtFinSF2']\n",
    "\n",
    "train[['Bsmt_GLQ','Bsmt_ALQ','Bsmt_BLQ','Bsmt_Rec','Bsmt_LwQ']]=train[['Bsmt_GLQ','Bsmt_ALQ','Bsmt_BLQ','Bsmt_Rec','Bsmt_LwQ']].fillna(0).astype(int)\n",
    "test[['Bsmt_GLQ','Bsmt_ALQ','Bsmt_BLQ','Bsmt_Rec','Bsmt_LwQ']]=test[['Bsmt_GLQ','Bsmt_ALQ','Bsmt_BLQ','Bsmt_Rec','Bsmt_LwQ']].fillna(0).astype(int)\n",
    "\n",
    "train=train.drop(columns=['BsmtFinType1','BsmtFinType2', 'BsmtFinSF1', 'BsmtFinSF2'])\n",
    "test=test.drop(columns=['BsmtFinType1','BsmtFinType2', 'BsmtFinSF1', 'BsmtFinSF2'])\n",
    "\n",
    "test['BsmtUnfSF']=test['BsmtUnfSF'].fillna(0).astype(int)\n",
    "test['TotalBsmtSF']=test['TotalBsmtSF'].fillna(0).astype(int)"
   ]
  },
  {
   "cell_type": "code",
   "execution_count": 31,
   "metadata": {
    "_cell_guid": "55c6e1d3-428d-4ce1-983a-bf87621c12ca",
    "_uuid": "22e3e70a-c988-484e-8f9f-a75612d50097",
    "execution": {
     "iopub.execute_input": "2021-03-09T14:17:41.378962Z",
     "iopub.status.busy": "2021-03-09T14:17:41.378245Z",
     "iopub.status.idle": "2021-03-09T14:17:41.394585Z",
     "shell.execute_reply": "2021-03-09T14:17:41.393860Z"
    },
    "papermill": {
     "duration": 0.087532,
     "end_time": "2021-03-09T14:17:41.394739",
     "exception": false,
     "start_time": "2021-03-09T14:17:41.307207",
     "status": "completed"
    },
    "tags": []
   },
   "outputs": [],
   "source": [
    "#Heating\n",
    "\n",
    "train.loc[(train['Heating'] != 'GasA') , 'Heating'] = 0\n",
    "test.loc[(test['Heating'] != 'GasA') , 'Heating'] = 0\n",
    "train.loc[(train['Heating'] == 'GasA') , 'Heating'] = 1\n",
    "test.loc[(test['Heating'] == 'GasA') , 'Heating'] = 1\n",
    "\n",
    "train['Heating']=train['Heating'].astype(int)\n",
    "test['Heating']=test['Heating'].astype(int)"
   ]
  },
  {
   "cell_type": "code",
   "execution_count": 32,
   "metadata": {
    "_cell_guid": "9f4eece5-7c4c-4e03-a242-b8d5fdfaea40",
    "_uuid": "3db2d9a0-dff3-4822-b0a3-34cbd75cf7b5",
    "execution": {
     "iopub.execute_input": "2021-03-09T14:17:41.520870Z",
     "iopub.status.busy": "2021-03-09T14:17:41.520073Z",
     "iopub.status.idle": "2021-03-09T14:17:41.527557Z",
     "shell.execute_reply": "2021-03-09T14:17:41.528021Z"
    },
    "papermill": {
     "duration": 0.074961,
     "end_time": "2021-03-09T14:17:41.528208",
     "exception": false,
     "start_time": "2021-03-09T14:17:41.453247",
     "status": "completed"
    },
    "tags": []
   },
   "outputs": [],
   "source": [
    "#HeatingQC\n",
    "\n",
    "train['HeatingQC']=train['HeatingQC'].map({\n",
    "    'Ex': 4,\n",
    "    'Gd': 3,\n",
    "    'TA': 2,\n",
    "    'Fa': 1,\n",
    "    'Po': 0,})\n",
    "\n",
    "test['HeatingQC']=test['HeatingQC'].map({\n",
    "    'Ex': 4,\n",
    "    'Gd': 3,\n",
    "    'TA': 2,\n",
    "    'Fa': 1,\n",
    "    'Po': 0,})"
   ]
  },
  {
   "cell_type": "code",
   "execution_count": 33,
   "metadata": {
    "_cell_guid": "2be01751-33c9-4c8e-bbb7-baf538deb71a",
    "_uuid": "d24d0b07-804d-4d29-8d55-55ebe529cf41",
    "execution": {
     "iopub.execute_input": "2021-03-09T14:17:41.647042Z",
     "iopub.status.busy": "2021-03-09T14:17:41.646031Z",
     "iopub.status.idle": "2021-03-09T14:17:41.656735Z",
     "shell.execute_reply": "2021-03-09T14:17:41.657214Z"
    },
    "papermill": {
     "duration": 0.071717,
     "end_time": "2021-03-09T14:17:41.657411",
     "exception": false,
     "start_time": "2021-03-09T14:17:41.585694",
     "status": "completed"
    },
    "tags": []
   },
   "outputs": [],
   "source": [
    "#CentralAir\n",
    "#label encode 1/0\n",
    "train['CentralAir'].replace(to_replace='Y', value=1, inplace=True) \n",
    "train['CentralAir'].replace(to_replace='N', value=0, inplace=True) \n",
    "test['CentralAir'].replace(to_replace='Y', value=1, inplace=True) \n",
    "test['CentralAir'].replace(to_replace='N', value=0, inplace=True)"
   ]
  },
  {
   "cell_type": "code",
   "execution_count": 34,
   "metadata": {
    "_cell_guid": "8ae346db-d998-4fc1-92ef-45f94edbb274",
    "_uuid": "0d8cb771-a710-4560-8a47-c2b7f80ef2ad",
    "execution": {
     "iopub.execute_input": "2021-03-09T14:17:41.796768Z",
     "iopub.status.busy": "2021-03-09T14:17:41.795969Z",
     "iopub.status.idle": "2021-03-09T14:17:41.799300Z",
     "shell.execute_reply": "2021-03-09T14:17:41.799800Z"
    },
    "papermill": {
     "duration": 0.084846,
     "end_time": "2021-03-09T14:17:41.799970",
     "exception": false,
     "start_time": "2021-03-09T14:17:41.715124",
     "status": "completed"
    },
    "tags": []
   },
   "outputs": [],
   "source": [
    "#Electrical 1 null in train\n",
    "\n",
    "# FuseF FuseP Mix\n",
    "train.loc[(train['Electrical'] == 'FuseF') | (train['Electrical'] == 'FuseP') | (train['Electrical'] == 'Mix'), 'Electrical'] = 0\n",
    "train['Electrical'].replace(to_replace='FuseA', value=1, inplace=True) \n",
    "train['Electrical'].replace(to_replace='SBrkr', value=2, inplace=True) \n",
    "train['Electrical']=train['Electrical'].fillna(0).astype(int)\n",
    "\n",
    "test.loc[(test['Electrical'] == 'FuseF') | (test['Electrical'] == 'FuseP') | (test['Electrical'] == 'Mix'), 'Electrical'] = 0\n",
    "test['Electrical'].replace(to_replace='FuseA', value=1, inplace=True) \n",
    "test['Electrical'].replace(to_replace='SBrkr', value=2, inplace=True) \n",
    "test['Electrical']=test['Electrical'].fillna(0).astype(int)"
   ]
  },
  {
   "cell_type": "code",
   "execution_count": 35,
   "metadata": {
    "_cell_guid": "4c53c3c3-c2fb-4547-96e6-34f121018859",
    "_uuid": "c38441a5-5f78-4333-8c62-c5bd4da1acab",
    "execution": {
     "iopub.execute_input": "2021-03-09T14:17:42.061423Z",
     "iopub.status.busy": "2021-03-09T14:17:42.060365Z",
     "iopub.status.idle": "2021-03-09T14:17:42.064758Z",
     "shell.execute_reply": "2021-03-09T14:17:42.064075Z"
    },
    "papermill": {
     "duration": 0.077945,
     "end_time": "2021-03-09T14:17:42.064904",
     "exception": false,
     "start_time": "2021-03-09T14:17:41.986959",
     "status": "completed"
    },
    "tags": []
   },
   "outputs": [],
   "source": [
    "#LowQualFinSF\n",
    "train.loc[(train['LowQualFinSF'] != 0, 'LowQualFinSF')] = 1\n",
    "test.loc[(test['LowQualFinSF'] != 0, 'LowQualFinSF')] = 1"
   ]
  },
  {
   "cell_type": "code",
   "execution_count": 36,
   "metadata": {
    "_cell_guid": "2e95a48e-bca2-41bd-b252-799721cb210d",
    "_uuid": "45005971-4447-4bbc-acd7-f82e1c1814d1",
    "execution": {
     "iopub.execute_input": "2021-03-09T14:17:42.324007Z",
     "iopub.status.busy": "2021-03-09T14:17:42.323165Z",
     "iopub.status.idle": "2021-03-09T14:17:42.328415Z",
     "shell.execute_reply": "2021-03-09T14:17:42.327756Z"
    },
    "papermill": {
     "duration": 0.074683,
     "end_time": "2021-03-09T14:17:42.328580",
     "exception": false,
     "start_time": "2021-03-09T14:17:42.253897",
     "status": "completed"
    },
    "tags": []
   },
   "outputs": [],
   "source": [
    "#BsmtFullBath\n",
    "#null in test.\n",
    "test['BsmtFullBath']=test['BsmtFullBath'].fillna(0).astype(int)\n",
    "\n",
    "train['BsmtFullBath'].replace(to_replace=3, value=0, inplace=True)\n",
    "test['BsmtFullBath'].replace(to_replace=3, value=0, inplace=True)"
   ]
  },
  {
   "cell_type": "code",
   "execution_count": 37,
   "metadata": {
    "_cell_guid": "2e9f91a8-f948-4136-aab1-ecb8841a1bfa",
    "_uuid": "aed00b32-b8d5-4cfc-9a61-0285144a9807",
    "execution": {
     "iopub.execute_input": "2021-03-09T14:17:42.459563Z",
     "iopub.status.busy": "2021-03-09T14:17:42.458474Z",
     "iopub.status.idle": "2021-03-09T14:17:42.463149Z",
     "shell.execute_reply": "2021-03-09T14:17:42.462627Z"
    },
    "papermill": {
     "duration": 0.07452,
     "end_time": "2021-03-09T14:17:42.463289",
     "exception": false,
     "start_time": "2021-03-09T14:17:42.388769",
     "status": "completed"
    },
    "tags": []
   },
   "outputs": [],
   "source": [
    "#BsmtHalfBath \n",
    "#null in test.\n",
    "test['BsmtHalfBath']=test['BsmtHalfBath'].fillna(0).astype(int)\n",
    "\n",
    "train['BsmtHalfBath'].replace(to_replace=2, value=0, inplace=True)\n",
    "test['BsmtHalfBath'].replace(to_replace=2, value=0, inplace=True)"
   ]
  },
  {
   "cell_type": "code",
   "execution_count": 38,
   "metadata": {
    "_cell_guid": "b6a6ea77-0ad7-4050-8f60-33aac184a087",
    "_uuid": "ab1bf03b-9dcb-4e2a-bbfb-6386ad8f965f",
    "execution": {
     "iopub.execute_input": "2021-03-09T14:17:42.594802Z",
     "iopub.status.busy": "2021-03-09T14:17:42.594081Z",
     "iopub.status.idle": "2021-03-09T14:17:42.598604Z",
     "shell.execute_reply": "2021-03-09T14:17:42.598029Z"
    },
    "papermill": {
     "duration": 0.073338,
     "end_time": "2021-03-09T14:17:42.598758",
     "exception": false,
     "start_time": "2021-03-09T14:17:42.525420",
     "status": "completed"
    },
    "tags": []
   },
   "outputs": [],
   "source": [
    "#FullBath combined 0 and 1\n",
    "train['FullBath'].replace(to_replace=0, value=1, inplace=True)\n",
    "test['FullBath'].replace(to_replace=0, value=1, inplace=True)"
   ]
  },
  {
   "cell_type": "code",
   "execution_count": 39,
   "metadata": {
    "_cell_guid": "29d5b5e7-d9bc-4699-8e35-cad769d4fe04",
    "_uuid": "bb421e2b-93f9-4b59-b2b0-431a57e6bc64",
    "execution": {
     "iopub.execute_input": "2021-03-09T14:17:42.729046Z",
     "iopub.status.busy": "2021-03-09T14:17:42.728026Z",
     "iopub.status.idle": "2021-03-09T14:17:42.732599Z",
     "shell.execute_reply": "2021-03-09T14:17:42.732036Z"
    },
    "papermill": {
     "duration": 0.073156,
     "end_time": "2021-03-09T14:17:42.732747",
     "exception": false,
     "start_time": "2021-03-09T14:17:42.659591",
     "status": "completed"
    },
    "tags": []
   },
   "outputs": [],
   "source": [
    "#HalfBath combined 2 and 1\n",
    "train['HalfBath'].replace(to_replace=2, value=1, inplace=True)\n",
    "test['HalfBath'].replace(to_replace=2, value=1, inplace=True)"
   ]
  },
  {
   "cell_type": "code",
   "execution_count": 40,
   "metadata": {
    "_cell_guid": "d6acefde-e1b3-461d-bd57-7d2409b3da0d",
    "_uuid": "51adbefb-d06e-4d83-a339-4da6520bf091",
    "execution": {
     "iopub.execute_input": "2021-03-09T14:17:42.865125Z",
     "iopub.status.busy": "2021-03-09T14:17:42.864120Z",
     "iopub.status.idle": "2021-03-09T14:17:42.874118Z",
     "shell.execute_reply": "2021-03-09T14:17:42.873517Z"
    },
    "papermill": {
     "duration": 0.080155,
     "end_time": "2021-03-09T14:17:42.874261",
     "exception": false,
     "start_time": "2021-03-09T14:17:42.794106",
     "status": "completed"
    },
    "tags": []
   },
   "outputs": [],
   "source": [
    "#Bedroom removed 6 0 5 8. why is 1 higher than 2?\n",
    "train['BedroomAbvGr'].replace(to_replace=6, value=3, inplace=True)\n",
    "train['BedroomAbvGr'].replace(to_replace=8, value=3, inplace=True)\n",
    "train['BedroomAbvGr'].replace(to_replace=5, value=3, inplace=True)\n",
    "train['BedroomAbvGr'].replace(to_replace=0, value=3, inplace=True)\n",
    "\n",
    "test['BedroomAbvGr'].replace(to_replace=6, value=3, inplace=True)\n",
    "test['BedroomAbvGr'].replace(to_replace=8, value=3, inplace=True)\n",
    "test['BedroomAbvGr'].replace(to_replace=5, value=3, inplace=True)\n",
    "test['BedroomAbvGr'].replace(to_replace=0, value=3, inplace=True)"
   ]
  },
  {
   "cell_type": "code",
   "execution_count": 41,
   "metadata": {
    "_cell_guid": "5c477d47-12dd-4fe1-ae3e-86fe6949fe19",
    "_uuid": "bbd03077-65f9-4990-a0f6-c25847848566",
    "execution": {
     "iopub.execute_input": "2021-03-09T14:17:43.004612Z",
     "iopub.status.busy": "2021-03-09T14:17:43.003928Z",
     "iopub.status.idle": "2021-03-09T14:17:43.011053Z",
     "shell.execute_reply": "2021-03-09T14:17:43.011577Z"
    },
    "papermill": {
     "duration": 0.076527,
     "end_time": "2021-03-09T14:17:43.011750",
     "exception": false,
     "start_time": "2021-03-09T14:17:42.935223",
     "status": "completed"
    },
    "tags": []
   },
   "outputs": [],
   "source": [
    "#KitchenAbvGr combined 0,1 and 2,3\n",
    "train['KitchenAbvGr'].replace(to_replace=0, value=1, inplace=True)\n",
    "train['KitchenAbvGr'].replace(to_replace=3, value=2, inplace=True)\n",
    "test['KitchenAbvGr'].replace(to_replace=0, value=1, inplace=True)\n",
    "test['KitchenAbvGr'].replace(to_replace=3, value=2, inplace=True)"
   ]
  },
  {
   "cell_type": "code",
   "execution_count": 42,
   "metadata": {
    "_cell_guid": "02c9d91c-8ba1-4d06-aa8a-a7512d675e06",
    "_uuid": "867dcbf5-e0e6-4e1a-b330-c4a50443340a",
    "execution": {
     "iopub.execute_input": "2021-03-09T14:17:43.139502Z",
     "iopub.status.busy": "2021-03-09T14:17:43.138784Z",
     "iopub.status.idle": "2021-03-09T14:17:43.150964Z",
     "shell.execute_reply": "2021-03-09T14:17:43.150373Z"
    },
    "papermill": {
     "duration": 0.076564,
     "end_time": "2021-03-09T14:17:43.151125",
     "exception": false,
     "start_time": "2021-03-09T14:17:43.074561",
     "status": "completed"
    },
    "tags": []
   },
   "outputs": [],
   "source": [
    "#KitchenQual null in test\n",
    "test['KitchenQual']=test['KitchenQual'].fillna(train['KitchenQual'].value_counts().index[0])\n",
    "train['KitchenQual']=train['KitchenQual'].map({\n",
    "    'Ex': 4,\n",
    "    'Gd': 3,\n",
    "    'TA': 2,\n",
    "    'Fa': 1,\n",
    "    'Po': 0,})\n",
    "test['KitchenQual']=test['KitchenQual'].map({\n",
    "    'Ex': 4,\n",
    "    'Gd': 3,\n",
    "    'TA': 2,\n",
    "    'Fa': 1,\n",
    "    'Po': 0,})"
   ]
  },
  {
   "cell_type": "code",
   "execution_count": 43,
   "metadata": {
    "_cell_guid": "a0948e9f-a066-4c17-8af3-e664f6ef893b",
    "_uuid": "5cb97df7-5d33-42bc-b910-75b13c71c4e6",
    "execution": {
     "iopub.execute_input": "2021-03-09T14:17:43.289640Z",
     "iopub.status.busy": "2021-03-09T14:17:43.288699Z",
     "iopub.status.idle": "2021-03-09T14:17:43.293118Z",
     "shell.execute_reply": "2021-03-09T14:17:43.293607Z"
    },
    "papermill": {
     "duration": 0.079607,
     "end_time": "2021-03-09T14:17:43.293789",
     "exception": false,
     "start_time": "2021-03-09T14:17:43.214182",
     "status": "completed"
    },
    "tags": []
   },
   "outputs": [],
   "source": [
    "#TotRmsAbvGrd. combine 11+ and 3-\n",
    "\n",
    "train.loc[(train['TotRmsAbvGrd'] >11), 'TotRmsAbvGrd'] = 11\n",
    "train.loc[(train['TotRmsAbvGrd'] <3), 'TotRmsAbvGrd'] = 3\n",
    "test.loc[(test['TotRmsAbvGrd'] >11), 'TotRmsAbvGrd'] = 11\n",
    "test.loc[(test['TotRmsAbvGrd'] <3), 'TotRmsAbvGrd'] = 3"
   ]
  },
  {
   "cell_type": "code",
   "execution_count": 44,
   "metadata": {
    "_cell_guid": "8cdbd310-cf7e-4622-93c2-c0a2d1b82348",
    "_uuid": "a0f88d73-563b-4771-a976-f7d3b379d5d3",
    "execution": {
     "iopub.execute_input": "2021-03-09T14:17:43.433504Z",
     "iopub.status.busy": "2021-03-09T14:17:43.432820Z",
     "iopub.status.idle": "2021-03-09T14:17:43.436934Z",
     "shell.execute_reply": "2021-03-09T14:17:43.436354Z"
    },
    "papermill": {
     "duration": 0.080179,
     "end_time": "2021-03-09T14:17:43.437078",
     "exception": false,
     "start_time": "2021-03-09T14:17:43.356899",
     "status": "completed"
    },
    "tags": []
   },
   "outputs": [],
   "source": [
    "#Functional combine all except Typ?\n",
    "#null in test\n",
    "test['Functional']=test['Functional'].fillna('Typ')\n",
    "\n",
    "train['Functional']=train['Functional'].map({\n",
    "    'Typ': 4,\n",
    "    'Min1': 3,\n",
    "    'Min2': 2,\n",
    "    'Mod': 1,\n",
    "    'Maj1': 0,\n",
    "    'Maj2': 0,\n",
    "    'Sev': 0,\n",
    "})\n",
    "test['Functional']=test['Functional'].map({\n",
    "    'Typ': 4,\n",
    "    'Min1': 3,\n",
    "    'Min2': 2,\n",
    "    'Mod': 1,\n",
    "    'Maj1': 0,\n",
    "    'Maj2': 0,\n",
    "    'Sev': 0,\n",
    "})"
   ]
  },
  {
   "cell_type": "code",
   "execution_count": 45,
   "metadata": {
    "_cell_guid": "aab27b2c-5687-4429-9994-129ba7f2c5bb",
    "_uuid": "1fa84521-7e53-4a7e-b7a1-868579400b3e",
    "execution": {
     "iopub.execute_input": "2021-03-09T14:17:43.704485Z",
     "iopub.status.busy": "2021-03-09T14:17:43.703877Z",
     "iopub.status.idle": "2021-03-09T14:17:43.718884Z",
     "shell.execute_reply": "2021-03-09T14:17:43.718314Z"
    },
    "papermill": {
     "duration": 0.081132,
     "end_time": "2021-03-09T14:17:43.719026",
     "exception": false,
     "start_time": "2021-03-09T14:17:43.637894",
     "status": "completed"
    },
    "tags": []
   },
   "outputs": [],
   "source": [
    "#FireplaceQu\n",
    "train['FireplaceQu']=train['FireplaceQu'].fillna('No')\n",
    "test['FireplaceQu']=test['FireplaceQu'].fillna('No')\n",
    "train['FireplaceQu']=train['FireplaceQu'].map({\n",
    "    'Ex': 5,\n",
    "    'Gd': 4,\n",
    "    'TA': 3,\n",
    "    'Fa': 2,\n",
    "    'Po': 0,\n",
    "    'No': 1,\n",
    "})\n",
    "test['FireplaceQu']=test['FireplaceQu'].map({\n",
    "    'Ex': 5,\n",
    "    'Gd': 4,\n",
    "    'TA': 3,\n",
    "    'Fa': 2,\n",
    "    'Po': 0,\n",
    "    'No': 1,\n",
    "})"
   ]
  },
  {
   "cell_type": "code",
   "execution_count": 46,
   "metadata": {
    "_cell_guid": "5bf3da0f-c131-4200-855b-67b3370acc1f",
    "_uuid": "b635fb12-03f7-4056-8779-5edbfc01e174",
    "execution": {
     "iopub.execute_input": "2021-03-09T14:17:43.859434Z",
     "iopub.status.busy": "2021-03-09T14:17:43.858756Z",
     "iopub.status.idle": "2021-03-09T14:17:43.877628Z",
     "shell.execute_reply": "2021-03-09T14:17:43.878139Z"
    },
    "papermill": {
     "duration": 0.096012,
     "end_time": "2021-03-09T14:17:43.878307",
     "exception": false,
     "start_time": "2021-03-09T14:17:43.782295",
     "status": "completed"
    },
    "tags": []
   },
   "outputs": [],
   "source": [
    "#GarageType \n",
    "\n",
    "train['GarageType']=train['GarageType'].fillna('No')\n",
    "test['GarageType']=test['GarageType'].fillna('No')\n",
    "\n",
    "train.loc[(train['GarageType'] == 'CarPort') | (train['GarageType'] == '2Types') , 'GarageType'] = 'Other'\n",
    "test.loc[(test['GarageType'] == 'CarPort') | (test['GarageType'] == '2Types') , 'GarageType'] = 'Other'\n",
    "\n",
    "#encode\n",
    "train = pd.concat([train, pd.get_dummies(train['GarageType'], prefix='GarageType')], axis = 1)\n",
    "train=train.drop(columns=['GarageType', 'GarageType_Other'])\n",
    "test = pd.concat([test, pd.get_dummies(test['GarageType'],prefix='GarageType')], axis = 1)\n",
    "test=test.drop(columns=['GarageType', 'GarageType_Other'])"
   ]
  },
  {
   "cell_type": "code",
   "execution_count": 47,
   "metadata": {
    "_cell_guid": "210ecc06-d1c6-459d-92eb-282144296967",
    "_uuid": "12035980-9724-4768-b9da-abd7706c9bfb",
    "execution": {
     "iopub.execute_input": "2021-03-09T14:17:44.011764Z",
     "iopub.status.busy": "2021-03-09T14:17:44.010955Z",
     "iopub.status.idle": "2021-03-09T14:17:44.041240Z",
     "shell.execute_reply": "2021-03-09T14:17:44.041755Z"
    },
    "papermill": {
     "duration": 0.099603,
     "end_time": "2021-03-09T14:17:44.041941",
     "exception": false,
     "start_time": "2021-03-09T14:17:43.942338",
     "status": "completed"
    },
    "tags": []
   },
   "outputs": [],
   "source": [
    "#GarageYrBlt\n",
    "#null values\n",
    "from sklearn.impute import KNNImputer\n",
    "imputer = KNNImputer(n_neighbors=5)\n",
    "train['GarageYrBlt'] = imputer.fit_transform(train['GarageYrBlt'].values.reshape(-1, 1))\n",
    "test['GarageYrBlt'] = imputer.transform(test['GarageYrBlt'].values.reshape(-1, 1))\n",
    "\n",
    "bins = pd.IntervalIndex.from_tuples([(1700, 1960), (1960, 1985), (1985,2000), (2000, 2005), (2005,3000)])\n",
    "train['GarageYrBlt']=pd.cut(train['GarageYrBlt'], bins=bins)\n",
    "test['GarageYrBlt']=pd.cut(test['GarageYrBlt'], bins=bins)\n",
    "train['GarageYrBlt'] = train['GarageYrBlt'].cat.codes\n",
    "test['GarageYrBlt'] = test['GarageYrBlt'].cat.codes\n"
   ]
  },
  {
   "cell_type": "code",
   "execution_count": 48,
   "metadata": {
    "_cell_guid": "83f1a3ee-fdfd-4c88-a5f5-86b3c4551bcd",
    "_uuid": "b16af6d7-e3f4-40fe-9b6b-0b508210f205",
    "execution": {
     "iopub.execute_input": "2021-03-09T14:17:44.175515Z",
     "iopub.status.busy": "2021-03-09T14:17:44.174853Z",
     "iopub.status.idle": "2021-03-09T14:17:44.188739Z",
     "shell.execute_reply": "2021-03-09T14:17:44.188071Z"
    },
    "papermill": {
     "duration": 0.082457,
     "end_time": "2021-03-09T14:17:44.188893",
     "exception": false,
     "start_time": "2021-03-09T14:17:44.106436",
     "status": "completed"
    },
    "tags": []
   },
   "outputs": [],
   "source": [
    "#GarageFinish\n",
    "train['GarageFinish']=train['GarageFinish'].fillna('No')\n",
    "test['GarageFinish']=test['GarageFinish'].fillna('No')\n",
    "\n",
    "train['GarageFinish']=train['GarageFinish'].map({\n",
    "    'Fin': 3,\n",
    "    'RFn': 2,\n",
    "    'Unf': 1,\n",
    "    'No': 0,\n",
    "})\n",
    "test['GarageFinish']=test['GarageFinish'].map({\n",
    "    'Fin': 3,\n",
    "    'RFn': 2,\n",
    "    'Unf': 1,\n",
    "    'No': 0,\n",
    "})"
   ]
  },
  {
   "cell_type": "code",
   "execution_count": 49,
   "metadata": {
    "_cell_guid": "e30d06c7-dc8c-49e4-ac1c-9323032126d1",
    "_uuid": "e6f2e3f7-8cdc-41b9-aa44-e7b204dc8579",
    "execution": {
     "iopub.execute_input": "2021-03-09T14:17:44.321189Z",
     "iopub.status.busy": "2021-03-09T14:17:44.320529Z",
     "iopub.status.idle": "2021-03-09T14:17:44.331740Z",
     "shell.execute_reply": "2021-03-09T14:17:44.332258Z"
    },
    "papermill": {
     "duration": 0.078826,
     "end_time": "2021-03-09T14:17:44.332433",
     "exception": false,
     "start_time": "2021-03-09T14:17:44.253607",
     "status": "completed"
    },
    "tags": []
   },
   "outputs": [],
   "source": [
    "#GarageCars grouped 3,3+\n",
    "#missing\n",
    "test['GarageCars']=test['GarageCars'].fillna(train['GarageCars'].value_counts().index[0])\n",
    "\n",
    "train.loc[(train['GarageCars'] >3 , 'GarageCars')] = 3\n",
    "test.loc[(test['GarageCars'] >3 , 'GarageCars')] = 3"
   ]
  },
  {
   "cell_type": "code",
   "execution_count": 50,
   "metadata": {
    "_cell_guid": "6ec51b54-5299-4011-865e-d51cd75f2886",
    "_uuid": "7fafeeaa-cbab-40a9-8cdc-0ec2440657c1",
    "execution": {
     "iopub.execute_input": "2021-03-09T14:17:44.466795Z",
     "iopub.status.busy": "2021-03-09T14:17:44.466106Z",
     "iopub.status.idle": "2021-03-09T14:17:44.475414Z",
     "shell.execute_reply": "2021-03-09T14:17:44.475942Z"
    },
    "papermill": {
     "duration": 0.077901,
     "end_time": "2021-03-09T14:17:44.476113",
     "exception": false,
     "start_time": "2021-03-09T14:17:44.398212",
     "status": "completed"
    },
    "tags": []
   },
   "outputs": [],
   "source": [
    "#GarageArea\n",
    "#missing\n",
    "train['GarageArea']=train['GarageArea'].fillna(train['GarageCars'].mean())\n",
    "test['GarageArea']=test['GarageArea'].fillna(train['GarageCars'].mean())"
   ]
  },
  {
   "cell_type": "code",
   "execution_count": 51,
   "metadata": {
    "_cell_guid": "12dea67e-ad01-497b-aa8d-186d7c23aba3",
    "_uuid": "9efc0f88-3223-4ac2-830e-7f772bbe5af1",
    "execution": {
     "iopub.execute_input": "2021-03-09T14:17:44.611748Z",
     "iopub.status.busy": "2021-03-09T14:17:44.610917Z",
     "iopub.status.idle": "2021-03-09T14:17:44.625950Z",
     "shell.execute_reply": "2021-03-09T14:17:44.626445Z"
    },
    "papermill": {
     "duration": 0.0849,
     "end_time": "2021-03-09T14:17:44.626666",
     "exception": false,
     "start_time": "2021-03-09T14:17:44.541766",
     "status": "completed"
    },
    "tags": []
   },
   "outputs": [],
   "source": [
    "#GarageQual\n",
    "#missing=no garage\n",
    "train['GarageQual']=train['GarageQual'].fillna('No')\n",
    "test['GarageQual']=test['GarageQual'].fillna('No')\n",
    "train['GarageQual']=train['GarageQual'].map({\n",
    "    'Ex': 5,\n",
    "    'Gd': 4,\n",
    "    'TA': 3,\n",
    "    'Fa': 2,\n",
    "    'Po': 0,\n",
    "    'No': 1,\n",
    "})\n",
    "test['GarageQual']=test['GarageQual'].map({\n",
    "    'Ex': 5,\n",
    "    'Gd': 4,\n",
    "    'TA': 3,\n",
    "    'Fa': 2,\n",
    "    'Po': 0,\n",
    "    'No': 1,\n",
    "})"
   ]
  },
  {
   "cell_type": "code",
   "execution_count": 52,
   "metadata": {
    "_cell_guid": "d857c6d3-b8c2-48a6-a236-deffc851e5eb",
    "_uuid": "bfe54e5c-e24a-40c2-826b-ed15c8e95cea",
    "execution": {
     "iopub.execute_input": "2021-03-09T14:17:44.774268Z",
     "iopub.status.busy": "2021-03-09T14:17:44.773096Z",
     "iopub.status.idle": "2021-03-09T14:17:44.782074Z",
     "shell.execute_reply": "2021-03-09T14:17:44.781465Z"
    },
    "papermill": {
     "duration": 0.089777,
     "end_time": "2021-03-09T14:17:44.782226",
     "exception": false,
     "start_time": "2021-03-09T14:17:44.692449",
     "status": "completed"
    },
    "tags": []
   },
   "outputs": [],
   "source": [
    "#GarageCond\n",
    "#missing=no garage\n",
    "train['GarageCond']=train['GarageCond'].fillna('No')\n",
    "test['GarageCond']=test['GarageCond'].fillna('No')\n",
    "train['GarageCond']=train['GarageCond'].map({\n",
    "    'Ex': 2,\n",
    "    'Gd': 2,\n",
    "    'TA': 2,\n",
    "    'Fa': 1,\n",
    "    'Po': 1,\n",
    "    'No': 0,\n",
    "})\n",
    "test['GarageCond']=test['GarageCond'].map({\n",
    "    'Ex': 2,\n",
    "    'Gd': 2,\n",
    "    'TA': 2,\n",
    "    'Fa': 1,\n",
    "    'Po': 1,\n",
    "    'No': 0,\n",
    "})"
   ]
  },
  {
   "cell_type": "code",
   "execution_count": 53,
   "metadata": {
    "_cell_guid": "3ca92e89-7aff-4696-ae9d-a6432df050a6",
    "_uuid": "1b22899f-d304-492b-af48-5da9c38dec94",
    "execution": {
     "iopub.execute_input": "2021-03-09T14:17:44.927048Z",
     "iopub.status.busy": "2021-03-09T14:17:44.924342Z",
     "iopub.status.idle": "2021-03-09T14:17:44.932250Z",
     "shell.execute_reply": "2021-03-09T14:17:44.931588Z"
    },
    "papermill": {
     "duration": 0.083741,
     "end_time": "2021-03-09T14:17:44.932399",
     "exception": false,
     "start_time": "2021-03-09T14:17:44.848658",
     "status": "completed"
    },
    "tags": []
   },
   "outputs": [],
   "source": [
    "#PavedDrive\n",
    "train['PavedDrive']=train['PavedDrive'].map({\n",
    "    'Y': 2,\n",
    "    'P': 1,\n",
    "    'N': 0,\n",
    "})\n",
    "test['PavedDrive']=test['PavedDrive'].map({\n",
    "    'Y': 2,\n",
    "    'P': 1,\n",
    "    'N': 0,\n",
    "})"
   ]
  },
  {
   "cell_type": "code",
   "execution_count": 54,
   "metadata": {
    "_cell_guid": "2e528000-6f86-40df-b070-cfafa58bbff0",
    "_uuid": "b2847990-212e-41a3-86e1-ff3a68ec51bd",
    "execution": {
     "iopub.execute_input": "2021-03-09T14:17:45.086222Z",
     "iopub.status.busy": "2021-03-09T14:17:45.085501Z",
     "iopub.status.idle": "2021-03-09T14:17:45.093389Z",
     "shell.execute_reply": "2021-03-09T14:17:45.093873Z"
    },
    "papermill": {
     "duration": 0.091532,
     "end_time": "2021-03-09T14:17:45.094056",
     "exception": false,
     "start_time": "2021-03-09T14:17:45.002524",
     "status": "completed"
    },
    "tags": []
   },
   "outputs": [],
   "source": [
    "#WoodDeckSF bands\n",
    "bins = pd.IntervalIndex.from_tuples([(-1, 0), (0, 100), (100, 150), (150,900)])\n",
    "train['WoodDeckSF']=pd.cut(train['WoodDeckSF'], bins=bins)\n",
    "test['WoodDeckSF']=pd.cut(test['WoodDeckSF'], bins=bins)\n",
    "train['WoodDeckSF'] = train['WoodDeckSF'].cat.codes\n",
    "test['WoodDeckSF'] = test['WoodDeckSF'].cat.codes"
   ]
  },
  {
   "cell_type": "code",
   "execution_count": 55,
   "metadata": {
    "_cell_guid": "9db3cfba-8c3f-40c7-8cc6-3d4e5b5cef31",
    "_uuid": "0bf4cf58-ffa3-49e9-80f6-9e5a34831a60",
    "execution": {
     "iopub.execute_input": "2021-03-09T14:17:45.232400Z",
     "iopub.status.busy": "2021-03-09T14:17:45.231435Z",
     "iopub.status.idle": "2021-03-09T14:17:45.250105Z",
     "shell.execute_reply": "2021-03-09T14:17:45.250555Z"
    },
    "papermill": {
     "duration": 0.089365,
     "end_time": "2021-03-09T14:17:45.250740",
     "exception": false,
     "start_time": "2021-03-09T14:17:45.161375",
     "status": "completed"
    },
    "tags": []
   },
   "outputs": [],
   "source": [
    "#OpenPorchSF\n",
    "bins = pd.IntervalIndex.from_tuples([(-1, 0), (0,50), (50,900)])\n",
    "train['OpenPorchSF']=pd.cut(train['OpenPorchSF'], bins=bins)\n",
    "test['OpenPorchSF']=pd.cut(test['OpenPorchSF'], bins=bins)\n",
    "train['OpenPorchSF'] = train['OpenPorchSF'].cat.codes\n",
    "test['OpenPorchSF'] = test['OpenPorchSF'].cat.codes"
   ]
  },
  {
   "cell_type": "code",
   "execution_count": 56,
   "metadata": {
    "_cell_guid": "848fda60-4deb-4361-b4ae-d908318880a3",
    "_uuid": "b5009e13-2ff0-489e-96dc-32deed83e786",
    "execution": {
     "iopub.execute_input": "2021-03-09T14:17:45.395911Z",
     "iopub.status.busy": "2021-03-09T14:17:45.394920Z",
     "iopub.status.idle": "2021-03-09T14:17:45.423403Z",
     "shell.execute_reply": "2021-03-09T14:17:45.422366Z"
    },
    "papermill": {
     "duration": 0.10502,
     "end_time": "2021-03-09T14:17:45.423670",
     "exception": false,
     "start_time": "2021-03-09T14:17:45.318650",
     "status": "completed"
    },
    "tags": []
   },
   "outputs": [],
   "source": [
    "#EnclosedPorch\n",
    "#null in test\n",
    "test['EnclosedPorch']=test['EnclosedPorch'].fillna(train['EnclosedPorch'].mean())\n",
    "bins = pd.IntervalIndex.from_tuples([(-1, 0), (0,150), (150,1000)])\n",
    "train['EnclosedPorch']=pd.cut(train['EnclosedPorch'], bins=bins)\n",
    "test['EnclosedPorch']=pd.cut(test['EnclosedPorch'], bins=bins)\n",
    "train['EnclosedPorch'] = train['EnclosedPorch'].cat.codes\n",
    "test['EnclosedPorch'] = test['EnclosedPorch'].cat.codes"
   ]
  },
  {
   "cell_type": "code",
   "execution_count": 57,
   "metadata": {
    "_cell_guid": "a7cf37c0-8f3b-4434-b192-3c542679170d",
    "_uuid": "54f96745-8143-4cb9-b133-dd7b7aff8e19",
    "execution": {
     "iopub.execute_input": "2021-03-09T14:17:45.758096Z",
     "iopub.status.busy": "2021-03-09T14:17:45.757284Z",
     "iopub.status.idle": "2021-03-09T14:17:45.761342Z",
     "shell.execute_reply": "2021-03-09T14:17:45.761937Z"
    },
    "papermill": {
     "duration": 0.09313,
     "end_time": "2021-03-09T14:17:45.762119",
     "exception": false,
     "start_time": "2021-03-09T14:17:45.668989",
     "status": "completed"
    },
    "tags": []
   },
   "outputs": [],
   "source": [
    "#3SsnPorch\n",
    "train.loc[(train['3SsnPorch'] != 0) , '3SsnPorch'] = 1\n",
    "test.loc[(test['3SsnPorch'] != 0) , '3SsnPorch'] = 1"
   ]
  },
  {
   "cell_type": "code",
   "execution_count": 58,
   "metadata": {
    "_cell_guid": "c2022bae-1df7-4d57-8b50-6e450332ed65",
    "_uuid": "c58ffa1b-be52-4e55-954a-dad886ae2d24",
    "execution": {
     "iopub.execute_input": "2021-03-09T14:17:45.902834Z",
     "iopub.status.busy": "2021-03-09T14:17:45.901895Z",
     "iopub.status.idle": "2021-03-09T14:17:45.911809Z",
     "shell.execute_reply": "2021-03-09T14:17:45.912352Z"
    },
    "papermill": {
     "duration": 0.081816,
     "end_time": "2021-03-09T14:17:45.912520",
     "exception": false,
     "start_time": "2021-03-09T14:17:45.830704",
     "status": "completed"
    },
    "tags": []
   },
   "outputs": [],
   "source": [
    "#ScreenPorch\n",
    "train.loc[(train['ScreenPorch'] != 0) , 'ScreenPorch'] = 1\n",
    "test.loc[(test['3SsnPorch'] != 0) , '3SsnPorch'] = 1"
   ]
  },
  {
   "cell_type": "code",
   "execution_count": 59,
   "metadata": {
    "_cell_guid": "19478a7f-1d24-4a32-8804-36b4b7901ded",
    "_uuid": "4080c5be-ff69-4840-8e47-01f3b09d1041",
    "execution": {
     "iopub.execute_input": "2021-03-09T14:17:46.210255Z",
     "iopub.status.busy": "2021-03-09T14:17:46.209234Z",
     "iopub.status.idle": "2021-03-09T14:17:46.218739Z",
     "shell.execute_reply": "2021-03-09T14:17:46.219330Z"
    },
    "papermill": {
     "duration": 0.08641,
     "end_time": "2021-03-09T14:17:46.219515",
     "exception": false,
     "start_time": "2021-03-09T14:17:46.133105",
     "status": "completed"
    },
    "tags": []
   },
   "outputs": [],
   "source": [
    "#PoolArea and PoolQC dropped\n",
    "train=train.drop(columns=['PoolArea','PoolQC'])\n",
    "test=test.drop(columns=['PoolArea','PoolQC'])"
   ]
  },
  {
   "cell_type": "code",
   "execution_count": 60,
   "metadata": {
    "_cell_guid": "28a93cdd-dd8f-470c-ad31-7594f9e63876",
    "_uuid": "5bdac84f-e8bf-439c-a1cb-f05436ec11c0",
    "execution": {
     "iopub.execute_input": "2021-03-09T14:17:46.362938Z",
     "iopub.status.busy": "2021-03-09T14:17:46.362175Z",
     "iopub.status.idle": "2021-03-09T14:17:46.375817Z",
     "shell.execute_reply": "2021-03-09T14:17:46.376360Z"
    },
    "papermill": {
     "duration": 0.087261,
     "end_time": "2021-03-09T14:17:46.376552",
     "exception": false,
     "start_time": "2021-03-09T14:17:46.289291",
     "status": "completed"
    },
    "tags": []
   },
   "outputs": [],
   "source": [
    "#Fence\n",
    "train['Fence'].fillna(0, inplace=True)\n",
    "test['Fence'].fillna(0, inplace=True)\n",
    "\n",
    "train.loc[(train['Fence'] != 0) , 'Fence'] = 1\n",
    "test.loc[(test['Fence'] != 0) , 'Fence'] = 1\n",
    "\n",
    "train['Fence']=train['Fence'].astype(int)\n",
    "test['Fence']=test['Fence'].astype(int)"
   ]
  },
  {
   "cell_type": "code",
   "execution_count": 61,
   "metadata": {
    "_cell_guid": "a6f69ef1-e348-498d-9f18-5130d10a617a",
    "_uuid": "dd2a8a01-fe1e-48cf-9c3a-ed60d2a31265",
    "execution": {
     "iopub.execute_input": "2021-03-09T14:17:46.521445Z",
     "iopub.status.busy": "2021-03-09T14:17:46.520792Z",
     "iopub.status.idle": "2021-03-09T14:17:46.530377Z",
     "shell.execute_reply": "2021-03-09T14:17:46.529717Z"
    },
    "papermill": {
     "duration": 0.08385,
     "end_time": "2021-03-09T14:17:46.530529",
     "exception": false,
     "start_time": "2021-03-09T14:17:46.446679",
     "status": "completed"
    },
    "tags": []
   },
   "outputs": [],
   "source": [
    "#MiscFeature drop\n",
    "train=train.drop(columns=['MiscFeature'])\n",
    "test=test.drop(columns=['MiscFeature'])"
   ]
  },
  {
   "cell_type": "code",
   "execution_count": 62,
   "metadata": {
    "_cell_guid": "470e575f-5cca-4613-ad94-c8246f80dcb2",
    "_uuid": "fb0ea0a6-c449-4d83-aef4-4ed8087f14f0",
    "execution": {
     "iopub.execute_input": "2021-03-09T14:17:46.828630Z",
     "iopub.status.busy": "2021-03-09T14:17:46.827593Z",
     "iopub.status.idle": "2021-03-09T14:17:46.835739Z",
     "shell.execute_reply": "2021-03-09T14:17:46.836274Z"
    },
    "papermill": {
     "duration": 0.082237,
     "end_time": "2021-03-09T14:17:46.836489",
     "exception": false,
     "start_time": "2021-03-09T14:17:46.754252",
     "status": "completed"
    },
    "tags": []
   },
   "outputs": [],
   "source": [
    "#SaleType drop. overfit\n",
    "train=train.drop(columns=['SaleType'])\n",
    "test=test.drop(columns=['SaleType'])"
   ]
  },
  {
   "cell_type": "code",
   "execution_count": 63,
   "metadata": {
    "_cell_guid": "4b8e0c1f-9e9f-4c55-bec9-e2515749d0dc",
    "_uuid": "5c4c07e9-3e22-4ef9-9d22-6ec21aa86dcc",
    "execution": {
     "iopub.execute_input": "2021-03-09T14:17:46.986498Z",
     "iopub.status.busy": "2021-03-09T14:17:46.985795Z",
     "iopub.status.idle": "2021-03-09T14:17:47.003150Z",
     "shell.execute_reply": "2021-03-09T14:17:47.002563Z"
    },
    "papermill": {
     "duration": 0.091814,
     "end_time": "2021-03-09T14:17:47.003293",
     "exception": false,
     "start_time": "2021-03-09T14:17:46.911479",
     "status": "completed"
    },
    "tags": []
   },
   "outputs": [],
   "source": [
    "#SaleCondition Alloca AdjLand\n",
    "train.loc[(train['SaleCondition'] != 'Partial'), 'SaleCondition'] = 0\n",
    "train.loc[(train['SaleCondition'] == 'Partial'), 'SaleCondition'] = 1\n",
    "\n",
    "test.loc[(test['SaleCondition'] != 'Partial'), 'SaleCondition'] = 0\n",
    "test.loc[(test['SaleCondition'] == 'Partial'), 'SaleCondition'] = 1\n",
    "\n",
    "train['SaleCondition']=train['SaleCondition'].astype(int)\n",
    "test['SaleCondition']=test['SaleCondition'].astype(int)"
   ]
  },
  {
   "cell_type": "code",
   "execution_count": 64,
   "metadata": {
    "execution": {
     "iopub.execute_input": "2021-03-09T14:17:47.311944Z",
     "iopub.status.busy": "2021-03-09T14:17:47.311053Z",
     "iopub.status.idle": "2021-03-09T14:17:47.316354Z",
     "shell.execute_reply": "2021-03-09T14:17:47.315789Z"
    },
    "papermill": {
     "duration": 0.083388,
     "end_time": "2021-03-09T14:17:47.316498",
     "exception": false,
     "start_time": "2021-03-09T14:17:47.233110",
     "status": "completed"
    },
    "tags": []
   },
   "outputs": [],
   "source": [
    "#scale\n",
    "from sklearn.preprocessing import StandardScaler\n",
    "sc_sp = StandardScaler()\n",
    "train['SalePrice'] = sc_sp.fit_transform(train['SalePrice'].values.reshape(-1, 1))"
   ]
  },
  {
   "cell_type": "code",
   "execution_count": 65,
   "metadata": {
    "_cell_guid": "e795ecb5-81cf-4ce2-9a12-35ce71e7f300",
    "_uuid": "8832aae5-82b8-46f8-97f1-647321e9e75a",
    "execution": {
     "iopub.execute_input": "2021-03-09T14:17:47.469470Z",
     "iopub.status.busy": "2021-03-09T14:17:47.468341Z",
     "iopub.status.idle": "2021-03-09T14:17:47.474311Z",
     "shell.execute_reply": "2021-03-09T14:17:47.473613Z"
    },
    "papermill": {
     "duration": 0.084955,
     "end_time": "2021-03-09T14:17:47.474467",
     "exception": false,
     "start_time": "2021-03-09T14:17:47.389512",
     "status": "completed"
    },
    "tags": []
   },
   "outputs": [],
   "source": [
    "y_train=train['SalePrice'].iloc[:].values\n",
    "x_train=train.drop(columns=['SalePrice'])\n",
    "x_test=test"
   ]
  },
  {
   "cell_type": "code",
   "execution_count": 66,
   "metadata": {
    "execution": {
     "iopub.execute_input": "2021-03-09T14:17:48.083735Z",
     "iopub.status.busy": "2021-03-09T14:17:48.082958Z",
     "iopub.status.idle": "2021-03-09T14:19:28.173810Z",
     "shell.execute_reply": "2021-03-09T14:19:28.174368Z"
    },
    "papermill": {
     "duration": 100.172735,
     "end_time": "2021-03-09T14:19:28.174589",
     "exception": false,
     "start_time": "2021-03-09T14:17:48.001854",
     "status": "completed"
    },
    "tags": []
   },
   "outputs": [
    {
     "ename": "KeyboardInterrupt",
     "evalue": "",
     "output_type": "error",
     "traceback": [
      "\u001b[0;31m---------------------------------------------------------------------------\u001b[0m",
      "\u001b[0;31mKeyboardInterrupt\u001b[0m                         Traceback (most recent call last)",
      "\u001b[0;32m<ipython-input-66-bf4a8f23812d>\u001b[0m in \u001b[0;36m<module>\u001b[0;34m\u001b[0m\n\u001b[1;32m     13\u001b[0m                  }\n\u001b[1;32m     14\u001b[0m \u001b[0mgrid_search\u001b[0m \u001b[0;34m=\u001b[0m \u001b[0mGridSearchCV\u001b[0m\u001b[0;34m(\u001b[0m\u001b[0mestimator\u001b[0m\u001b[0;34m=\u001b[0m\u001b[0mGradientBoostingRegressor\u001b[0m\u001b[0;34m(\u001b[0m\u001b[0;34m)\u001b[0m\u001b[0;34m,\u001b[0m \u001b[0mparam_grid\u001b[0m \u001b[0;34m=\u001b[0m \u001b[0mparameters\u001b[0m\u001b[0;34m,\u001b[0m \u001b[0mcv\u001b[0m \u001b[0;34m=\u001b[0m \u001b[0;36m5\u001b[0m\u001b[0;34m,\u001b[0m \u001b[0mn_jobs\u001b[0m \u001b[0;34m=\u001b[0m \u001b[0;34m-\u001b[0m\u001b[0;36m1\u001b[0m\u001b[0;34m)\u001b[0m\u001b[0;34m\u001b[0m\u001b[0;34m\u001b[0m\u001b[0m\n\u001b[0;32m---> 15\u001b[0;31m \u001b[0mgrid_search\u001b[0m\u001b[0;34m.\u001b[0m\u001b[0mfit\u001b[0m\u001b[0;34m(\u001b[0m\u001b[0mx_train\u001b[0m\u001b[0;34m,\u001b[0m \u001b[0my_train\u001b[0m\u001b[0;34m)\u001b[0m\u001b[0;34m\u001b[0m\u001b[0;34m\u001b[0m\u001b[0m\n\u001b[0m\u001b[1;32m     16\u001b[0m \u001b[0mbest_grid\u001b[0m \u001b[0;34m=\u001b[0m \u001b[0mgrid_search\u001b[0m\u001b[0;34m.\u001b[0m\u001b[0mbest_estimator_\u001b[0m\u001b[0;34m\u001b[0m\u001b[0;34m\u001b[0m\u001b[0m\n\u001b[1;32m     17\u001b[0m \u001b[0mbest_grid\u001b[0m\u001b[0;34m\u001b[0m\u001b[0;34m\u001b[0m\u001b[0m\n",
      "\u001b[0;32m~/opt/anaconda3/lib/python3.8/site-packages/sklearn/utils/validation.py\u001b[0m in \u001b[0;36minner_f\u001b[0;34m(*args, **kwargs)\u001b[0m\n\u001b[1;32m     70\u001b[0m                           FutureWarning)\n\u001b[1;32m     71\u001b[0m         \u001b[0mkwargs\u001b[0m\u001b[0;34m.\u001b[0m\u001b[0mupdate\u001b[0m\u001b[0;34m(\u001b[0m\u001b[0;34m{\u001b[0m\u001b[0mk\u001b[0m\u001b[0;34m:\u001b[0m \u001b[0marg\u001b[0m \u001b[0;32mfor\u001b[0m \u001b[0mk\u001b[0m\u001b[0;34m,\u001b[0m \u001b[0marg\u001b[0m \u001b[0;32min\u001b[0m \u001b[0mzip\u001b[0m\u001b[0;34m(\u001b[0m\u001b[0msig\u001b[0m\u001b[0;34m.\u001b[0m\u001b[0mparameters\u001b[0m\u001b[0;34m,\u001b[0m \u001b[0margs\u001b[0m\u001b[0;34m)\u001b[0m\u001b[0;34m}\u001b[0m\u001b[0;34m)\u001b[0m\u001b[0;34m\u001b[0m\u001b[0;34m\u001b[0m\u001b[0m\n\u001b[0;32m---> 72\u001b[0;31m         \u001b[0;32mreturn\u001b[0m \u001b[0mf\u001b[0m\u001b[0;34m(\u001b[0m\u001b[0;34m**\u001b[0m\u001b[0mkwargs\u001b[0m\u001b[0;34m)\u001b[0m\u001b[0;34m\u001b[0m\u001b[0;34m\u001b[0m\u001b[0m\n\u001b[0m\u001b[1;32m     73\u001b[0m     \u001b[0;32mreturn\u001b[0m \u001b[0minner_f\u001b[0m\u001b[0;34m\u001b[0m\u001b[0;34m\u001b[0m\u001b[0m\n\u001b[1;32m     74\u001b[0m \u001b[0;34m\u001b[0m\u001b[0m\n",
      "\u001b[0;32m~/opt/anaconda3/lib/python3.8/site-packages/sklearn/model_selection/_search.py\u001b[0m in \u001b[0;36mfit\u001b[0;34m(self, X, y, groups, **fit_params)\u001b[0m\n\u001b[1;32m    734\u001b[0m                 \u001b[0;32mreturn\u001b[0m \u001b[0mresults\u001b[0m\u001b[0;34m\u001b[0m\u001b[0;34m\u001b[0m\u001b[0m\n\u001b[1;32m    735\u001b[0m \u001b[0;34m\u001b[0m\u001b[0m\n\u001b[0;32m--> 736\u001b[0;31m             \u001b[0mself\u001b[0m\u001b[0;34m.\u001b[0m\u001b[0m_run_search\u001b[0m\u001b[0;34m(\u001b[0m\u001b[0mevaluate_candidates\u001b[0m\u001b[0;34m)\u001b[0m\u001b[0;34m\u001b[0m\u001b[0;34m\u001b[0m\u001b[0m\n\u001b[0m\u001b[1;32m    737\u001b[0m \u001b[0;34m\u001b[0m\u001b[0m\n\u001b[1;32m    738\u001b[0m         \u001b[0;31m# For multi-metric evaluation, store the best_index_, best_params_ and\u001b[0m\u001b[0;34m\u001b[0m\u001b[0;34m\u001b[0m\u001b[0;34m\u001b[0m\u001b[0m\n",
      "\u001b[0;32m~/opt/anaconda3/lib/python3.8/site-packages/sklearn/model_selection/_search.py\u001b[0m in \u001b[0;36m_run_search\u001b[0;34m(self, evaluate_candidates)\u001b[0m\n\u001b[1;32m   1186\u001b[0m     \u001b[0;32mdef\u001b[0m \u001b[0m_run_search\u001b[0m\u001b[0;34m(\u001b[0m\u001b[0mself\u001b[0m\u001b[0;34m,\u001b[0m \u001b[0mevaluate_candidates\u001b[0m\u001b[0;34m)\u001b[0m\u001b[0;34m:\u001b[0m\u001b[0;34m\u001b[0m\u001b[0;34m\u001b[0m\u001b[0m\n\u001b[1;32m   1187\u001b[0m         \u001b[0;34m\"\"\"Search all candidates in param_grid\"\"\"\u001b[0m\u001b[0;34m\u001b[0m\u001b[0;34m\u001b[0m\u001b[0m\n\u001b[0;32m-> 1188\u001b[0;31m         \u001b[0mevaluate_candidates\u001b[0m\u001b[0;34m(\u001b[0m\u001b[0mParameterGrid\u001b[0m\u001b[0;34m(\u001b[0m\u001b[0mself\u001b[0m\u001b[0;34m.\u001b[0m\u001b[0mparam_grid\u001b[0m\u001b[0;34m)\u001b[0m\u001b[0;34m)\u001b[0m\u001b[0;34m\u001b[0m\u001b[0;34m\u001b[0m\u001b[0m\n\u001b[0m\u001b[1;32m   1189\u001b[0m \u001b[0;34m\u001b[0m\u001b[0m\n\u001b[1;32m   1190\u001b[0m \u001b[0;34m\u001b[0m\u001b[0m\n",
      "\u001b[0;32m~/opt/anaconda3/lib/python3.8/site-packages/sklearn/model_selection/_search.py\u001b[0m in \u001b[0;36mevaluate_candidates\u001b[0;34m(candidate_params)\u001b[0m\n\u001b[1;32m    706\u001b[0m                               n_splits, n_candidates, n_candidates * n_splits))\n\u001b[1;32m    707\u001b[0m \u001b[0;34m\u001b[0m\u001b[0m\n\u001b[0;32m--> 708\u001b[0;31m                 out = parallel(delayed(_fit_and_score)(clone(base_estimator),\n\u001b[0m\u001b[1;32m    709\u001b[0m                                                        \u001b[0mX\u001b[0m\u001b[0;34m,\u001b[0m \u001b[0my\u001b[0m\u001b[0;34m,\u001b[0m\u001b[0;34m\u001b[0m\u001b[0;34m\u001b[0m\u001b[0m\n\u001b[1;32m    710\u001b[0m                                                        \u001b[0mtrain\u001b[0m\u001b[0;34m=\u001b[0m\u001b[0mtrain\u001b[0m\u001b[0;34m,\u001b[0m \u001b[0mtest\u001b[0m\u001b[0;34m=\u001b[0m\u001b[0mtest\u001b[0m\u001b[0;34m,\u001b[0m\u001b[0;34m\u001b[0m\u001b[0;34m\u001b[0m\u001b[0m\n",
      "\u001b[0;32m~/opt/anaconda3/lib/python3.8/site-packages/joblib/parallel.py\u001b[0m in \u001b[0;36m__call__\u001b[0;34m(self, iterable)\u001b[0m\n\u001b[1;32m   1059\u001b[0m \u001b[0;34m\u001b[0m\u001b[0m\n\u001b[1;32m   1060\u001b[0m             \u001b[0;32mwith\u001b[0m \u001b[0mself\u001b[0m\u001b[0;34m.\u001b[0m\u001b[0m_backend\u001b[0m\u001b[0;34m.\u001b[0m\u001b[0mretrieval_context\u001b[0m\u001b[0;34m(\u001b[0m\u001b[0;34m)\u001b[0m\u001b[0;34m:\u001b[0m\u001b[0;34m\u001b[0m\u001b[0;34m\u001b[0m\u001b[0m\n\u001b[0;32m-> 1061\u001b[0;31m                 \u001b[0mself\u001b[0m\u001b[0;34m.\u001b[0m\u001b[0mretrieve\u001b[0m\u001b[0;34m(\u001b[0m\u001b[0;34m)\u001b[0m\u001b[0;34m\u001b[0m\u001b[0;34m\u001b[0m\u001b[0m\n\u001b[0m\u001b[1;32m   1062\u001b[0m             \u001b[0;31m# Make sure that we get a last message telling us we are done\u001b[0m\u001b[0;34m\u001b[0m\u001b[0;34m\u001b[0m\u001b[0;34m\u001b[0m\u001b[0m\n\u001b[1;32m   1063\u001b[0m             \u001b[0melapsed_time\u001b[0m \u001b[0;34m=\u001b[0m \u001b[0mtime\u001b[0m\u001b[0;34m.\u001b[0m\u001b[0mtime\u001b[0m\u001b[0;34m(\u001b[0m\u001b[0;34m)\u001b[0m \u001b[0;34m-\u001b[0m \u001b[0mself\u001b[0m\u001b[0;34m.\u001b[0m\u001b[0m_start_time\u001b[0m\u001b[0;34m\u001b[0m\u001b[0;34m\u001b[0m\u001b[0m\n",
      "\u001b[0;32m~/opt/anaconda3/lib/python3.8/site-packages/joblib/parallel.py\u001b[0m in \u001b[0;36mretrieve\u001b[0;34m(self)\u001b[0m\n\u001b[1;32m    938\u001b[0m             \u001b[0;32mtry\u001b[0m\u001b[0;34m:\u001b[0m\u001b[0;34m\u001b[0m\u001b[0;34m\u001b[0m\u001b[0m\n\u001b[1;32m    939\u001b[0m                 \u001b[0;32mif\u001b[0m \u001b[0mgetattr\u001b[0m\u001b[0;34m(\u001b[0m\u001b[0mself\u001b[0m\u001b[0;34m.\u001b[0m\u001b[0m_backend\u001b[0m\u001b[0;34m,\u001b[0m \u001b[0;34m'supports_timeout'\u001b[0m\u001b[0;34m,\u001b[0m \u001b[0;32mFalse\u001b[0m\u001b[0;34m)\u001b[0m\u001b[0;34m:\u001b[0m\u001b[0;34m\u001b[0m\u001b[0;34m\u001b[0m\u001b[0m\n\u001b[0;32m--> 940\u001b[0;31m                     \u001b[0mself\u001b[0m\u001b[0;34m.\u001b[0m\u001b[0m_output\u001b[0m\u001b[0;34m.\u001b[0m\u001b[0mextend\u001b[0m\u001b[0;34m(\u001b[0m\u001b[0mjob\u001b[0m\u001b[0;34m.\u001b[0m\u001b[0mget\u001b[0m\u001b[0;34m(\u001b[0m\u001b[0mtimeout\u001b[0m\u001b[0;34m=\u001b[0m\u001b[0mself\u001b[0m\u001b[0;34m.\u001b[0m\u001b[0mtimeout\u001b[0m\u001b[0;34m)\u001b[0m\u001b[0;34m)\u001b[0m\u001b[0;34m\u001b[0m\u001b[0;34m\u001b[0m\u001b[0m\n\u001b[0m\u001b[1;32m    941\u001b[0m                 \u001b[0;32melse\u001b[0m\u001b[0;34m:\u001b[0m\u001b[0;34m\u001b[0m\u001b[0;34m\u001b[0m\u001b[0m\n\u001b[1;32m    942\u001b[0m                     \u001b[0mself\u001b[0m\u001b[0;34m.\u001b[0m\u001b[0m_output\u001b[0m\u001b[0;34m.\u001b[0m\u001b[0mextend\u001b[0m\u001b[0;34m(\u001b[0m\u001b[0mjob\u001b[0m\u001b[0;34m.\u001b[0m\u001b[0mget\u001b[0m\u001b[0;34m(\u001b[0m\u001b[0;34m)\u001b[0m\u001b[0;34m)\u001b[0m\u001b[0;34m\u001b[0m\u001b[0;34m\u001b[0m\u001b[0m\n",
      "\u001b[0;32m~/opt/anaconda3/lib/python3.8/site-packages/joblib/_parallel_backends.py\u001b[0m in \u001b[0;36mwrap_future_result\u001b[0;34m(future, timeout)\u001b[0m\n\u001b[1;32m    540\u001b[0m         AsyncResults.get from multiprocessing.\"\"\"\n\u001b[1;32m    541\u001b[0m         \u001b[0;32mtry\u001b[0m\u001b[0;34m:\u001b[0m\u001b[0;34m\u001b[0m\u001b[0;34m\u001b[0m\u001b[0m\n\u001b[0;32m--> 542\u001b[0;31m             \u001b[0;32mreturn\u001b[0m \u001b[0mfuture\u001b[0m\u001b[0;34m.\u001b[0m\u001b[0mresult\u001b[0m\u001b[0;34m(\u001b[0m\u001b[0mtimeout\u001b[0m\u001b[0;34m=\u001b[0m\u001b[0mtimeout\u001b[0m\u001b[0;34m)\u001b[0m\u001b[0;34m\u001b[0m\u001b[0;34m\u001b[0m\u001b[0m\n\u001b[0m\u001b[1;32m    543\u001b[0m         \u001b[0;32mexcept\u001b[0m \u001b[0mCfTimeoutError\u001b[0m \u001b[0;32mas\u001b[0m \u001b[0me\u001b[0m\u001b[0;34m:\u001b[0m\u001b[0;34m\u001b[0m\u001b[0;34m\u001b[0m\u001b[0m\n\u001b[1;32m    544\u001b[0m             \u001b[0;32mraise\u001b[0m \u001b[0mTimeoutError\u001b[0m \u001b[0;32mfrom\u001b[0m \u001b[0me\u001b[0m\u001b[0;34m\u001b[0m\u001b[0;34m\u001b[0m\u001b[0m\n",
      "\u001b[0;32m~/opt/anaconda3/lib/python3.8/concurrent/futures/_base.py\u001b[0m in \u001b[0;36mresult\u001b[0;34m(self, timeout)\u001b[0m\n\u001b[1;32m    432\u001b[0m                 \u001b[0;32mreturn\u001b[0m \u001b[0mself\u001b[0m\u001b[0;34m.\u001b[0m\u001b[0m__get_result\u001b[0m\u001b[0;34m(\u001b[0m\u001b[0;34m)\u001b[0m\u001b[0;34m\u001b[0m\u001b[0;34m\u001b[0m\u001b[0m\n\u001b[1;32m    433\u001b[0m \u001b[0;34m\u001b[0m\u001b[0m\n\u001b[0;32m--> 434\u001b[0;31m             \u001b[0mself\u001b[0m\u001b[0;34m.\u001b[0m\u001b[0m_condition\u001b[0m\u001b[0;34m.\u001b[0m\u001b[0mwait\u001b[0m\u001b[0;34m(\u001b[0m\u001b[0mtimeout\u001b[0m\u001b[0;34m)\u001b[0m\u001b[0;34m\u001b[0m\u001b[0;34m\u001b[0m\u001b[0m\n\u001b[0m\u001b[1;32m    435\u001b[0m \u001b[0;34m\u001b[0m\u001b[0m\n\u001b[1;32m    436\u001b[0m             \u001b[0;32mif\u001b[0m \u001b[0mself\u001b[0m\u001b[0;34m.\u001b[0m\u001b[0m_state\u001b[0m \u001b[0;32min\u001b[0m \u001b[0;34m[\u001b[0m\u001b[0mCANCELLED\u001b[0m\u001b[0;34m,\u001b[0m \u001b[0mCANCELLED_AND_NOTIFIED\u001b[0m\u001b[0;34m]\u001b[0m\u001b[0;34m:\u001b[0m\u001b[0;34m\u001b[0m\u001b[0;34m\u001b[0m\u001b[0m\n",
      "\u001b[0;32m~/opt/anaconda3/lib/python3.8/threading.py\u001b[0m in \u001b[0;36mwait\u001b[0;34m(self, timeout)\u001b[0m\n\u001b[1;32m    300\u001b[0m         \u001b[0;32mtry\u001b[0m\u001b[0;34m:\u001b[0m    \u001b[0;31m# restore state no matter what (e.g., KeyboardInterrupt)\u001b[0m\u001b[0;34m\u001b[0m\u001b[0;34m\u001b[0m\u001b[0m\n\u001b[1;32m    301\u001b[0m             \u001b[0;32mif\u001b[0m \u001b[0mtimeout\u001b[0m \u001b[0;32mis\u001b[0m \u001b[0;32mNone\u001b[0m\u001b[0;34m:\u001b[0m\u001b[0;34m\u001b[0m\u001b[0;34m\u001b[0m\u001b[0m\n\u001b[0;32m--> 302\u001b[0;31m                 \u001b[0mwaiter\u001b[0m\u001b[0;34m.\u001b[0m\u001b[0macquire\u001b[0m\u001b[0;34m(\u001b[0m\u001b[0;34m)\u001b[0m\u001b[0;34m\u001b[0m\u001b[0;34m\u001b[0m\u001b[0m\n\u001b[0m\u001b[1;32m    303\u001b[0m                 \u001b[0mgotit\u001b[0m \u001b[0;34m=\u001b[0m \u001b[0;32mTrue\u001b[0m\u001b[0;34m\u001b[0m\u001b[0;34m\u001b[0m\u001b[0m\n\u001b[1;32m    304\u001b[0m             \u001b[0;32melse\u001b[0m\u001b[0;34m:\u001b[0m\u001b[0;34m\u001b[0m\u001b[0;34m\u001b[0m\u001b[0m\n",
      "\u001b[0;31mKeyboardInterrupt\u001b[0m: "
     ]
    }
   ],
   "source": [
    "from numpy import mean\n",
    "from numpy import std\n",
    "from sklearn.ensemble import GradientBoostingRegressor\n",
    "from sklearn.model_selection import GridSearchCV\n",
    "from sklearn.model_selection import RandomizedSearchCV\n",
    "\n",
    "parameters = {'learning_rate': [0.04],\n",
    "                  'subsample'    : [0.5],\n",
    "                  'n_estimators' : [500, 600, 700],\n",
    "                  'min_samples_split' : [2,3],\n",
    "                  'min_samples_leaf' : [1,2],\n",
    "                  'max_depth'    : [6]\n",
    "                 }\n",
    "grid_search = GridSearchCV(estimator=GradientBoostingRegressor(), param_grid = parameters, cv = 5, n_jobs = -1)\n",
    "grid_search.fit(x_train, y_train)\n",
    "best_grid = grid_search.best_estimator_\n",
    "best_grid\n",
    "\n",
    "best_grid.fit(x_train, y_train)\n",
    "round(best_grid.score(x_train, y_train), 2)"
   ]
  },
  {
   "cell_type": "code",
   "execution_count": null,
   "metadata": {
    "execution": {
     "iopub.execute_input": "2021-03-09T14:19:28.325005Z",
     "iopub.status.busy": "2021-03-09T14:19:28.323966Z",
     "iopub.status.idle": "2021-03-09T14:19:47.632487Z",
     "shell.execute_reply": "2021-03-09T14:19:47.631806Z"
    },
    "papermill": {
     "duration": 19.384458,
     "end_time": "2021-03-09T14:19:47.632653",
     "exception": false,
     "start_time": "2021-03-09T14:19:28.248195",
     "status": "completed"
    },
    "tags": []
   },
   "outputs": [],
   "source": [
    "from sklearn.model_selection import cross_val_score\n",
    "scores = cross_val_score(best_grid, x_train, y_train, scoring='r2', cv=5)\n",
    "scores\n",
    "\n",
    "print('MAE: %.3f (%.3f)' % (mean(scores), std(scores)))"
   ]
  },
  {
   "cell_type": "code",
   "execution_count": null,
   "metadata": {
    "execution": {
     "iopub.execute_input": "2021-03-09T14:19:47.784838Z",
     "iopub.status.busy": "2021-03-09T14:19:47.783913Z",
     "iopub.status.idle": "2021-03-09T14:19:47.788965Z",
     "shell.execute_reply": "2021-03-09T14:19:47.788290Z"
    },
    "papermill": {
     "duration": 0.083817,
     "end_time": "2021-03-09T14:19:47.789115",
     "exception": false,
     "start_time": "2021-03-09T14:19:47.705298",
     "status": "completed"
    },
    "tags": []
   },
   "outputs": [],
   "source": [
    "grid_search.best_params_\n",
    "#{'learning_rate': 0.04, 'max_depth': 6, 'n_estimators': 500, 'subsample': 0.5}"
   ]
  },
  {
   "cell_type": "code",
   "execution_count": null,
   "metadata": {
    "execution": {
     "iopub.execute_input": "2021-03-09T14:19:48.272519Z",
     "iopub.status.busy": "2021-03-09T14:19:48.271188Z",
     "iopub.status.idle": "2021-03-09T14:19:48.305178Z",
     "shell.execute_reply": "2021-03-09T14:19:48.304469Z"
    },
    "papermill": {
     "duration": 0.11607,
     "end_time": "2021-03-09T14:19:48.305331",
     "exception": false,
     "start_time": "2021-03-09T14:19:48.189261",
     "status": "completed"
    },
    "tags": []
   },
   "outputs": [],
   "source": [
    "results=best_grid.predict(x_test)\n",
    "results=sc_sp.inverse_transform(results)"
   ]
  },
  {
   "cell_type": "code",
   "execution_count": null,
   "metadata": {
    "execution": {
     "iopub.execute_input": "2021-03-09T14:19:48.460964Z",
     "iopub.status.busy": "2021-03-09T14:19:48.460207Z",
     "iopub.status.idle": "2021-03-09T14:19:48.486037Z",
     "shell.execute_reply": "2021-03-09T14:19:48.485328Z"
    },
    "papermill": {
     "duration": 0.106984,
     "end_time": "2021-03-09T14:19:48.486189",
     "exception": false,
     "start_time": "2021-03-09T14:19:48.379205",
     "status": "completed"
    },
    "tags": []
   },
   "outputs": [],
   "source": [
    "result_data = pd.read_csv(\"sample_submission.csv\")\n",
    "result_data"
   ]
  },
  {
   "cell_type": "code",
   "execution_count": null,
   "metadata": {
    "execution": {
     "iopub.execute_input": "2021-03-09T14:19:48.641271Z",
     "iopub.status.busy": "2021-03-09T14:19:48.640511Z",
     "iopub.status.idle": "2021-03-09T14:19:48.653203Z",
     "shell.execute_reply": "2021-03-09T14:19:48.652530Z"
    },
    "papermill": {
     "duration": 0.092785,
     "end_time": "2021-03-09T14:19:48.653354",
     "exception": false,
     "start_time": "2021-03-09T14:19:48.560569",
     "status": "completed"
    },
    "tags": []
   },
   "outputs": [],
   "source": [
    "output = pd.DataFrame({'Id': result_data.Id, 'SalePrice': results})\n",
    "output.to_csv('my_submission.csv', index=False)"
   ]
  }
 ],
 "metadata": {
  "kernelspec": {
   "display_name": "Python 3",
   "language": "python",
   "name": "python3"
  },
  "language_info": {
   "codemirror_mode": {
    "name": "ipython",
    "version": 3
   },
   "file_extension": ".py",
   "mimetype": "text/x-python",
   "name": "python",
   "nbconvert_exporter": "python",
   "pygments_lexer": "ipython3",
   "version": "3.8.5"
  },
  "papermill": {
   "default_parameters": {},
   "duration": 140.80673,
   "end_time": "2021-03-09T14:19:49.740376",
   "environment_variables": {},
   "exception": null,
   "input_path": "__notebook__.ipynb",
   "output_path": "__notebook__.ipynb",
   "parameters": {},
   "start_time": "2021-03-09T14:17:28.933646",
   "version": "2.2.2"
  }
 },
 "nbformat": 4,
 "nbformat_minor": 4
}
