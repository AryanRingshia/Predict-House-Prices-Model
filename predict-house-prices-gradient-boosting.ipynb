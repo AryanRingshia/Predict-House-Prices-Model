{
 "cells": [
  {
   "cell_type": "code",
   "execution_count": 68,
   "metadata": {
    "_cell_guid": "3f720637-6601-4ad2-a29a-6e6aa5ad5cb5",
    "_uuid": "df1a6105-9e3d-4de1-be54-206fe5e0d0ad"
   },
   "outputs": [],
   "source": [
    "import numpy as np # linear algebra\n",
    "import pandas as pd # data processing, CSV file I/O (e.g. pd.read_csv)\n",
    "import matplotlib.pyplot as plt\n",
    "import seaborn as sns\n",
    "\n",
    "import os\n",
    "for dirname, _, filenames in os.walk('/kaggle/input'):\n",
    "    for filename in filenames:\n",
    "        print(os.path.join(dirname, filename))"
   ]
  },
  {
   "cell_type": "code",
   "execution_count": 69,
   "metadata": {
    "_cell_guid": "490a5c85-ae0d-499e-9fe3-d1f4a30e118a",
    "_uuid": "43f58136-11ba-415c-b747-ff40edb7bd60"
   },
   "outputs": [],
   "source": [
    "train = pd.read_csv(\"train.csv\")\n",
    "test = pd.read_csv(\"test.csv\")\n",
    "train = train[train.Utilities != 'NoSeWa']\n",
    "\n",
    "train=train.drop(columns=['Id','Utilities', 'Street'])\n",
    "test=test.drop(columns=['Id','Utilities', 'Street'])"
   ]
  },
  {
   "cell_type": "code",
   "execution_count": 70,
   "metadata": {
    "_cell_guid": "370b4904-81f7-47cc-865e-70ad94b17cec",
    "_uuid": "eb2aa273-bd2a-4247-acac-b43e9c5e7a70"
   },
   "outputs": [],
   "source": [
    "#null values in MSZoning test set. Drop C\n",
    "train.loc[(train['MSZoning'] == 'C (all)') , 'MSZoning'] = np.nan\n",
    "test.loc[(test['MSZoning'] == 'C (all)') , 'MSZoning'] = np.nan\n",
    "train['MSZoning'] = train['MSZoning'].fillna(train['MSZoning'].mode()[0])\n",
    "test['MSZoning'] = test['MSZoning'].fillna(train['MSZoning'].mode()[0])\n",
    "\n",
    "#combine RH and RM into 1 category\n",
    "train.loc[(train['MSZoning'] == 'RH') | (train['MSZoning'] == 'RM') , 'MSZoning'] = 'RHM'\n",
    "test.loc[(test['MSZoning'] == 'RH') | (test['MSZoning'] == 'RM') , 'MSZoning'] = 'RHM'\n",
    "\n",
    "#encode\n",
    "train = pd.concat([train, pd.get_dummies(train['MSZoning'], drop_first=True, prefix='MSZoning')], axis = 1)\n",
    "train=train.drop(columns=['MSZoning'])\n",
    "test = pd.concat([test, pd.get_dummies(test['MSZoning'], drop_first=True, prefix='MSZoning')], axis = 1)\n",
    "test=test.drop(columns=['MSZoning'])"
   ]
  },
  {
   "cell_type": "code",
   "execution_count": 71,
   "metadata": {
    "_cell_guid": "5956daeb-c97b-45d1-930d-1bbf3abb23f2",
    "_uuid": "43ec77b6-e8bb-4045-b999-70699292949c"
   },
   "outputs": [],
   "source": [
    "#Lot Frontage\n",
    "#null values\n",
    "from sklearn.impute import KNNImputer\n",
    "imputer = KNNImputer(n_neighbors=5)\n",
    "train['LotFrontage'] = imputer.fit_transform(train['LotFrontage'].values.reshape(-1, 1))\n",
    "test['LotFrontage'] = imputer.transform(test['LotFrontage'].values.reshape(-1, 1))\n",
    "\n",
    "# bands\n",
    "# train['LotFrontage'] = pd.cut(train['LotFrontage'], 3)\n",
    "train.loc[ train['LotFrontage'] <= 60, 'LotFrontage'] = 0\n",
    "train.loc[(train['LotFrontage'] > 60) & (train['LotFrontage'] <= 100), 'LotFrontage'] = 1\n",
    "train.loc[(train['LotFrontage'] > 100) & (train['LotFrontage'] <= 120), 'LotFrontage'] = 2\n",
    "train.loc[(train['LotFrontage'] > 120), 'LotFrontage'] = 3\n",
    "\n",
    "test.loc[ test['LotFrontage'] <= 60, 'LotFrontage'] = 0\n",
    "test.loc[(test['LotFrontage'] > 60) & (test['LotFrontage'] <= 100), 'LotFrontage'] = 1\n",
    "test.loc[(test['LotFrontage'] > 100) & (test['LotFrontage'] <= 120), 'LotFrontage'] = 2\n",
    "test.loc[(test['LotFrontage'] > 120), 'LotFrontage'] = 3\n"
   ]
  },
  {
   "cell_type": "code",
   "execution_count": 72,
   "metadata": {
    "_cell_guid": "a97c345a-a6ca-4fa6-823d-79f0226accdf",
    "_uuid": "26e5f476-e71a-4d04-aa22-72417daa54d8"
   },
   "outputs": [],
   "source": [
    "#LotArea. non null\n",
    "#scaled\n",
    "from sklearn.preprocessing import StandardScaler\n",
    "sc = StandardScaler()\n",
    "train['LotArea'] = sc.fit_transform(train['LotArea'].values.reshape(-1, 1))\n",
    "test['LotArea'] = sc.transform(test['LotArea'].values.reshape(-1, 1))"
   ]
  },
  {
   "cell_type": "code",
   "execution_count": 73,
   "metadata": {
    "_cell_guid": "f9c4ddd4-a3c2-48b1-90a0-5963f7a2f797",
    "_uuid": "634f4edd-dfa3-48ab-abb9-50599f2d154d"
   },
   "outputs": [],
   "source": [
    "#Alley\n",
    "train.loc[(train['Alley'] == 'Pave') | (train['Alley'] == 'Grvl') , 'Alley'] = 'alley'\n",
    "test.loc[(test['Alley'] == 'Pave') | (test['Alley'] == 'Grvl') , 'Alley'] = 'alley'\n",
    "train['Alley'].fillna('No', inplace=True)\n",
    "test['Alley'].fillna('No', inplace=True)\n",
    "\n",
    "# label encode 1/0\n",
    "from sklearn import preprocessing\n",
    "le = preprocessing.LabelEncoder()\n",
    "train['Alley'] = le.fit_transform(train['Alley'])\n",
    "test['Alley'] = le.transform(test['Alley'])"
   ]
  },
  {
   "cell_type": "code",
   "execution_count": 74,
   "metadata": {
    "_cell_guid": "e6bd2a3c-ceb4-41bf-ae62-f469952d0f11",
    "_uuid": "e9bbb6a3-f2ea-4e32-8209-595ada993568"
   },
   "outputs": [],
   "source": [
    "#LotShape non null\n",
    "train.loc[(train['LotShape'] == 'IR2') | (train['LotShape'] == 'IR3') , 'LotShape'] = 'IR23'\n",
    "test.loc[(test['LotShape'] == 'IR2') | (test['LotShape'] == 'IR3') , 'LotShape'] = 'IR23'\n",
    "\n",
    "#encode\n",
    "train = pd.concat([train, pd.get_dummies(train['LotShape'], drop_first=True, prefix='LotShape')], axis = 1)\n",
    "train=train.drop(columns=['LotShape'])\n",
    "test = pd.concat([test, pd.get_dummies(test['LotShape'], drop_first=True, prefix='LotShape')], axis = 1)\n",
    "test=test.drop(columns=['LotShape'])"
   ]
  },
  {
   "cell_type": "code",
   "execution_count": 75,
   "metadata": {
    "_cell_guid": "e4795b05-d18f-4563-b88f-24988977bf19",
    "_uuid": "0797e4b1-a205-443d-9164-5e68125babeb"
   },
   "outputs": [],
   "source": [
    "#LandContour. non null.\n",
    "#encode\n",
    "train = pd.concat([train, pd.get_dummies(train['LandContour'], drop_first=True, prefix='LandContour')], axis = 1)\n",
    "train=train.drop(columns=['LandContour'])\n",
    "test = pd.concat([test, pd.get_dummies(test['LandContour'], drop_first=True, prefix='LandContour')], axis = 1)\n",
    "test=test.drop(columns=['LandContour'])"
   ]
  },
  {
   "cell_type": "code",
   "execution_count": 76,
   "metadata": {
    "_cell_guid": "b80276d5-2eb7-4ffd-9b26-730ee5c0ccba",
    "_uuid": "f049ed64-c044-43e3-97a9-4f168b1bba3b"
   },
   "outputs": [],
   "source": [
    "#LotConfig. combine inside and cfr\n",
    "train.loc[(train['LotConfig'] == 'FR3') | (train['LotConfig'] == 'FR2') | (train['LotConfig'] == 'Corner'), 'LotConfig'] = 'Inside'\n",
    "test.loc[(test['LotConfig'] == 'FR3') | (test['LotConfig'] == 'FR2') | (test['LotConfig'] == 'Corner'), 'LotConfig'] = 'Inside'\n",
    "\n",
    "#encode\n",
    "train = pd.concat([train, pd.get_dummies(train['LotConfig'], drop_first=True, prefix='LotConfig')], axis = 1)\n",
    "train=train.drop(columns=['LotConfig'])\n",
    "test = pd.concat([test, pd.get_dummies(test['LotConfig'], drop_first=True, prefix='LotConfig')], axis = 1)\n",
    "test=test.drop(columns=['LotConfig'])"
   ]
  },
  {
   "cell_type": "code",
   "execution_count": 77,
   "metadata": {
    "_cell_guid": "008d0e50-96c8-48de-b60c-a37204d589e8",
    "_uuid": "5a1cf03b-1c09-4d28-bb87-241672b9c8bb"
   },
   "outputs": [],
   "source": [
    "#LandSlope non null.\n",
    "train.loc[(train['LandSlope'] == 'Sev'), 'LandSlope'] = 'Mod'\n",
    "test.loc[(test['LandSlope'] == 'Sev'), 'LandSlope'] = 'Mod'\n",
    "\n",
    "#label encode\n",
    "from sklearn import preprocessing\n",
    "le = preprocessing.LabelEncoder()\n",
    "train['LandSlope'] = le.fit_transform(train['LandSlope'])\n",
    "test['LandSlope'] = le.transform(test['LandSlope'])"
   ]
  },
  {
   "cell_type": "code",
   "execution_count": 78,
   "metadata": {
    "_cell_guid": "314ad175-67e5-43c1-9480-698880f83137",
    "_uuid": "2473b840-e616-489d-9bb8-b3722327fd09"
   },
   "outputs": [],
   "source": [
    "#Neighborhood\n",
    "train['Neighborhood'].replace(to_replace='Veenker', value=np.nan, inplace=True) \n",
    "train['Neighborhood'].replace(to_replace='NPkVill', value=np.nan, inplace=True) \n",
    "train['Neighborhood'].replace(to_replace='Blueste', value=np.nan, inplace=True) \n",
    "train['Neighborhood'].replace(to_replace='BrDale', value=np.nan, inplace=True) \n",
    "train['Neighborhood'].replace(to_replace='Blmngtn', value=np.nan, inplace=True) \n",
    "\n",
    "test['Neighborhood'].replace(to_replace='Veenker', value=np.nan, inplace=True) \n",
    "test['Neighborhood'].replace(to_replace='NPkVill', value=np.nan, inplace=True) \n",
    "test['Neighborhood'].replace(to_replace='Blueste', value=np.nan, inplace=True) \n",
    "test['Neighborhood'].replace(to_replace='BrDale', value=np.nan, inplace=True) \n",
    "test['Neighborhood'].replace(to_replace='Blmngtn', value=np.nan, inplace=True) \n",
    "train['Neighborhood'].value_counts()\n",
    "\n",
    "# train.loc[(train['Neighborhood'] != 'CollgCr') & (train['Neighborhood'] != 'OldTown') & (train['Neighborhood'] != 'Edwards') & (train['Neighborhood'] != 'NAmes'), 'Neighborhood'] = np.nan\n",
    "\n",
    "\n",
    "#encode\n",
    "train = pd.concat([train, pd.get_dummies(train['Neighborhood'], prefix='Neighborhood')], axis = 1)\n",
    "train=train.drop(columns=['Neighborhood'])\n",
    "test = pd.concat([test, pd.get_dummies(test['Neighborhood'],  prefix='Neighborhood')], axis = 1)\n",
    "test=test.drop(columns=['Neighborhood'])"
   ]
  },
  {
   "cell_type": "code",
   "execution_count": 79,
   "metadata": {
    "_cell_guid": "c31ee4bb-97ff-4124-8c12-411e693f176c",
    "_uuid": "ef725d06-ebb6-4b10-b9ad-4b1ef3f94b86"
   },
   "outputs": [],
   "source": [
    "#Condition1 and 2. 1)Drop cond2. 2)make new col- 1,2//1,1\n",
    "\n",
    "train.loc[(train['Condition1'] == 'Norm') | (train['Condition2'] == 'Norm') , 'Cond_Norm'] = 1\n",
    "train.loc[(train['Condition1'] == 'Feedr') | (train['Condition2'] == 'Feedr') , 'Cond_Feedr'] = 1\n",
    "train.loc[(train['Condition1'] == 'Artery') | (train['Condition2'] == 'Artery') , 'Cond_Artery'] = 1\n",
    "train.loc[(train['Condition1'] == 'RRAn') | (train['Condition2'] == 'RRAn') , 'Cond_RRAn'] = 1\n",
    "train.loc[(train['Condition1'] == 'PosN') | (train['Condition2'] == 'PosN') , 'Cond_PosN'] = 1\n",
    "train.loc[(train['Condition1'] == 'RRAe') | (train['Condition2'] == 'RRAe') , 'Cond_RRAe'] = 1\n",
    "\n",
    "test.loc[(test['Condition1'] == 'Norm') | (test['Condition2'] == 'Norm') , 'Cond_Norm'] = 1\n",
    "test.loc[(test['Condition1'] == 'Feedr') | (test['Condition2'] == 'Feedr') , 'Cond_Feedr'] = 1\n",
    "test.loc[(test['Condition1'] == 'Artery') | (test['Condition2'] == 'Artery') , 'Cond_Artery'] = 1\n",
    "test.loc[(test['Condition1'] == 'RRAn') | (test['Condition2'] == 'RRAn') , 'Cond_RRAn'] = 1\n",
    "test.loc[(test['Condition1'] == 'PosN') | (test['Condition2'] == 'PosN') , 'Cond_PosN'] = 1\n",
    "test.loc[(test['Condition1'] == 'RRAe') | (test['Condition2'] == 'RRAe') , 'Cond_RRAe'] = 1\n",
    "\n",
    "train=train.drop(columns=['Condition1','Condition2'])\n",
    "test=test.drop(columns=['Condition1','Condition2'])\n",
    "\n",
    "train[['Cond_Norm','Cond_Feedr','Cond_Artery','Cond_RRAn','Cond_PosN','Cond_RRAe']] = train[['Cond_Norm','Cond_Feedr','Cond_Artery','Cond_RRAn','Cond_PosN','Cond_RRAe']].fillna(0).astype(int)\n",
    "test[['Cond_Norm','Cond_Feedr','Cond_Artery','Cond_RRAn','Cond_PosN','Cond_RRAe']] = test[['Cond_Norm','Cond_Feedr','Cond_Artery','Cond_RRAn','Cond_PosN','Cond_RRAe']].fillna(0).astype(int)"
   ]
  },
  {
   "cell_type": "code",
   "execution_count": 80,
   "metadata": {
    "_cell_guid": "c22beaea-babf-4b29-80c3-5631ec2ac0ea",
    "_uuid": "362eb39a-494f-418c-a9b3-9843b01cb6c8"
   },
   "outputs": [],
   "source": [
    "#BldgType\n",
    "#encode\n",
    "train = pd.concat([train, pd.get_dummies(train['BldgType'], drop_first=True, prefix='BldgType')], axis = 1)\n",
    "train=train.drop(columns=['BldgType'])\n",
    "test = pd.concat([test, pd.get_dummies(test['BldgType'], drop_first=True, prefix='BldgType')], axis = 1)\n",
    "test=test.drop(columns=['BldgType'])"
   ]
  },
  {
   "cell_type": "code",
   "execution_count": 81,
   "metadata": {
    "_cell_guid": "e47af4ae-b779-4870-99a1-40e14914119c",
    "_uuid": "345cfa02-e1dc-4e78-bef1-75a42f0f608f"
   },
   "outputs": [],
   "source": [
    "#HouseStyle\n",
    "train.loc[(train['HouseStyle'] == '2.5Fin') | (train['HouseStyle'] == '2.5Unf'), 'HouseStyle'] = '2.5Story'\n",
    "test.loc[(test['HouseStyle'] == '2.5Fin') | (test['HouseStyle'] == '2.5Unf') , 'HouseStyle'] = '2.5Story'\n",
    "train.loc[(train['HouseStyle'] == '1.5Fin') | (train['HouseStyle'] == '1.5Unf'), 'HouseStyle'] = '1.5Story'\n",
    "test.loc[(test['HouseStyle'] == '1.5Fin') | (test['HouseStyle'] == '1.5Unf') , 'HouseStyle'] = '1.5Story'\n",
    "#encode\n",
    "train = pd.concat([train, pd.get_dummies(train['HouseStyle'], drop_first=True, prefix='HouseStyle')], axis = 1)\n",
    "train=train.drop(columns=['HouseStyle'])\n",
    "test = pd.concat([test, pd.get_dummies(test['HouseStyle'], drop_first=True, prefix='HouseStyle')], axis = 1)\n",
    "test=test.drop(columns=['HouseStyle'])"
   ]
  },
  {
   "cell_type": "code",
   "execution_count": 82,
   "metadata": {
    "_cell_guid": "6aaf709b-c9dc-46b9-a5d0-fb2e83d843c6",
    "_uuid": "d184794a-34e6-4df9-9316-9ca22872a9c7"
   },
   "outputs": [],
   "source": [
    "#YearBuilt, YearRemodAdd bands\n",
    "bins = pd.IntervalIndex.from_tuples([(1871, 1911), (1911, 1931), (1931, 1950), (1950,1970), (1970, 1990), (1990,2000), (2000,2010)])\n",
    "train['YearBuilt']=pd.cut(train['YearBuilt'], bins=bins)\n",
    "test['YearBuilt']=pd.cut(test['YearBuilt'], bins=bins)\n",
    "\n",
    "from sklearn import preprocessing\n",
    "le_yb = preprocessing.LabelEncoder()\n",
    "train['YearBuilt'] = le_yb.fit_transform(train['YearBuilt'])\n",
    "test['YearBuilt'] = le_yb.transform(test['YearBuilt'])"
   ]
  },
  {
   "cell_type": "code",
   "execution_count": 83,
   "metadata": {
    "_cell_guid": "e6e79f4b-da66-472e-8bd9-6d67094c1eb5",
    "_uuid": "fa38c139-14df-4d0e-89eb-9922b1c51a28"
   },
   "outputs": [],
   "source": [
    "#RoofStyle\n",
    "train.loc[(train['RoofStyle'] == 'Shed') | (train['RoofStyle'] == 'Mansard') | (train['RoofStyle'] == 'Gambrel') | (train['RoofStyle'] == 'Flat'), 'RoofStyle'] = 'Other'\n",
    "test.loc[(test['RoofStyle'] == 'Shed') | (test['RoofStyle'] == 'Mansard') | (test['RoofStyle'] == 'Gambrel') | (test['RoofStyle'] == 'Flat'), 'RoofStyle'] = 'Other'\n",
    "\n",
    "#encode\n",
    "train = pd.concat([train, pd.get_dummies(train['RoofStyle'], drop_first=True, prefix='RoofStyle')], axis = 1)\n",
    "train=train.drop(columns=['RoofStyle'])\n",
    "test = pd.concat([test, pd.get_dummies(test['RoofStyle'], drop_first=True, prefix='RoofStyle')], axis = 1)\n",
    "test=test.drop(columns=['RoofStyle'])"
   ]
  },
  {
   "cell_type": "code",
   "execution_count": 84,
   "metadata": {
    "_cell_guid": "a4e80207-b679-48c8-a531-26543b5b4f39",
    "_uuid": "9fd13405-75ad-45b8-b686-c9dc0a1dac93"
   },
   "outputs": [],
   "source": [
    "#RoofMatl,\n",
    "train.loc[(train['RoofMatl'] != 'CompShg'), 'RoofMatl'] = 0\n",
    "train.loc[(train['RoofMatl'] == 'CompShg'), 'RoofMatl'] = 1\n",
    "\n",
    "test.loc[(test['RoofMatl'] != 'CompShg'), 'RoofMatl'] = 0\n",
    "test.loc[(test['RoofMatl'] == 'CompShg'), 'RoofMatl'] = 1\n",
    "\n",
    "train['RoofMatl']=train['RoofMatl'].astype(int)\n",
    "test['RoofMatl']=test['RoofMatl'].astype(int)"
   ]
  },
  {
   "cell_type": "code",
   "execution_count": 85,
   "metadata": {
    "_cell_guid": "0c777d43-567a-41e0-b1df-e2f81301d8ea",
    "_uuid": "0cc6974f-463d-43a1-98e3-4d9af7d11cba"
   },
   "outputs": [],
   "source": [
    "#Exterior1st Exterior2nd missing in test\n",
    "\n",
    "train['Exterior1st'].value_counts()\n",
    "\n",
    "test['Exterior1st'] = test.fillna(test['Exterior1st'].value_counts().index[0])\n",
    "test['Exterior2nd']= test.fillna(test['Exterior2nd'].value_counts().index[0])\n",
    "train.loc[(train['Exterior1st'] == 'VinylSd') | (train['Exterior2nd'] == 'VinylSd') , 'Ext_VinylSd'] = 1\n",
    "train.loc[(train['Exterior1st'] == 'HdBoard') | (train['Exterior2nd'] == 'HdBoard') , 'Ext_HdBoard'] = 1\n",
    "train.loc[(train['Exterior1st'] == 'MetalSd') | (train['Exterior2nd'] == 'MetalSd') , 'Ext_MetalSd'] = 1\n",
    "train.loc[(train['Exterior1st'] == 'Wd Sdng') | (train['Exterior2nd'] == 'Wd Sdng') , 'Ext_Wd_Sdng'] = 1\n",
    "train.loc[(train['Exterior1st'] == 'Wd Shng') | (train['Exterior2nd'] == 'Wd Shng') , 'Ext_Wd_Shng'] = 1\n",
    "train.loc[(train['Exterior1st'] == 'Plywood') | (train['Exterior2nd'] == 'Plywood') , 'Ext_Plywood'] = 1\n",
    "train.loc[(train['Exterior1st'] == 'CemntBd') | (train['Exterior2nd'] == 'CemntBd') , 'Ext_CemntBd'] = 1\n",
    "train.loc[(train['Exterior1st'] == 'BrkFace') | (train['Exterior2nd'] == 'BrkFace') , 'Ext_BrkFace'] = 1\n",
    "train.loc[(train['Exterior1st'] == 'WdShing') | (train['Exterior2nd'] == 'WdShing'), 'Ext_WdShing'] = 1\n",
    "train.loc[(train['Exterior1st'] == 'Stucco') | (train['Exterior2nd'] == 'Stucco') , 'Ext_Stucco'] = 1\n",
    "train.loc[(train['Exterior1st'] == 'AsbShng') | (train['Exterior2nd'] == 'AsbShng') , 'Ext_AsbShng'] = 1\n",
    "\n",
    "test.loc[(test['Exterior1st'] == 'VinylSd') | (test['Exterior2nd'] == 'VinylSd') , 'Ext_VinylSd'] = 1\n",
    "test.loc[(test['Exterior1st'] == 'HdBoard') | (test['Exterior2nd'] == 'HdBoard') , 'Ext_HdBoard'] = 1\n",
    "test.loc[(test['Exterior1st'] == 'MetalSd') | (test['Exterior2nd'] == 'MetalSd') , 'Ext_MetalSd'] = 1\n",
    "test.loc[(test['Exterior1st'] == 'Wd Sdng') | (test['Exterior2nd'] == 'Wd Sdng') , 'Ext_Wd_Sdng'] = 1\n",
    "test.loc[(test['Exterior1st'] == 'Wd Shng') | (test['Exterior2nd'] == 'Wd Shng') , 'Ext_Wd_Shng'] = 1\n",
    "test.loc[(test['Exterior1st'] == 'Plywood') | (test['Exterior2nd'] == 'Plywood') , 'Ext_Plywood'] = 1\n",
    "test.loc[(test['Exterior1st'] == 'CemntBd') | (test['Exterior2nd'] == 'CemntBd') , 'Ext_CemntBd'] = 1\n",
    "test.loc[(test['Exterior1st'] == 'BrkFace') | (test['Exterior2nd'] == 'BrkFace') , 'Ext_BrkFace'] = 1\n",
    "test.loc[(test['Exterior1st'] == 'WdShing') | (test['Exterior2nd'] == 'WdShing'), 'Ext_WdShing'] = 1\n",
    "test.loc[(test['Exterior1st'] == 'Stucco') | (test['Exterior2nd'] == 'Stucco') , 'Ext_Stucco'] = 1\n",
    "test.loc[(test['Exterior1st'] == 'AsbShng') | (test['Exterior2nd'] == 'AsbShng') , 'Ext_AsbShng'] = 1\n",
    "\n",
    "\n",
    "train[['Ext_VinylSd','Ext_HdBoard','Ext_MetalSd','Ext_Wd_Sdng','Ext_Wd_Shng','Ext_Plywood', 'Ext_CemntBd', 'Ext_BrkFace', 'Ext_WdShing', 'Ext_Stucco', 'Ext_AsbShng']]=train[['Ext_VinylSd','Ext_HdBoard','Ext_MetalSd','Ext_Wd_Sdng','Ext_Wd_Shng','Ext_Plywood', 'Ext_CemntBd', 'Ext_BrkFace', 'Ext_WdShing', 'Ext_Stucco', 'Ext_AsbShng']].fillna(0).astype(int)\n",
    "test[['Ext_VinylSd','Ext_HdBoard','Ext_MetalSd','Ext_Wd_Sdng','Ext_Wd_Shng','Ext_Plywood', 'Ext_CemntBd', 'Ext_BrkFace', 'Ext_WdShing', 'Ext_Stucco', 'Ext_AsbShng']]=test[['Ext_VinylSd','Ext_HdBoard','Ext_MetalSd','Ext_Wd_Sdng','Ext_Wd_Shng','Ext_Plywood', 'Ext_CemntBd', 'Ext_BrkFace', 'Ext_WdShing', 'Ext_Stucco', 'Ext_AsbShng']].fillna(0).astype(int)\n",
    "\n",
    "train[['Ext_VinylSd','Ext_HdBoard','Ext_MetalSd','Ext_Wd_Sdng','Ext_Wd_Shng','Ext_Plywood', 'Ext_CemntBd', 'Ext_BrkFace', 'Ext_WdShing', 'Ext_Stucco', 'Ext_AsbShng']].isna().sum()\n",
    "\n",
    "\n",
    "train=train.drop(columns=['Exterior1st','Exterior2nd'])\n",
    "test=test.drop(columns=['Exterior1st','Exterior2nd'])"
   ]
  },
  {
   "cell_type": "code",
   "execution_count": 86,
   "metadata": {
    "_cell_guid": "b29a5e10-c680-4eed-98e8-797698b0358a",
    "_uuid": "444884fb-76b9-4aaf-a7ce-a943a3756aa1"
   },
   "outputs": [],
   "source": [
    "#MasVnrType drop BrkCmn\n",
    "train.loc[(train['MasVnrType'] == 'BrkCmn') | (train['MasVnrType'] == 'BrkCmn') , 'MasVnrType'] = np.nan\n",
    "test.loc[(test['MasVnrType'] == 'BrkCmn') | (test['MasVnrType'] == 'BrkCmn') , 'MasVnrType'] = np.nan\n",
    "\n",
    "#missing values\n",
    "train['MasVnrType'] = train['MasVnrType'].fillna(train['MasVnrType'].value_counts().index[0])\n",
    "test['MasVnrType'] = train['MasVnrType'].fillna(test['MasVnrType'].value_counts().index[0])\n",
    "\n",
    "# #encode\n",
    "train = pd.concat([train, pd.get_dummies(train['MasVnrType'], drop_first=True, prefix='MasVnrType')], axis = 1)\n",
    "train=train.drop(columns=['MasVnrType'])\n",
    "test = pd.concat([test, pd.get_dummies(test['MasVnrType'], drop_first=True, prefix='MasVnrType')], axis = 1)\n",
    "test=test.drop(columns=['MasVnrType'])"
   ]
  },
  {
   "cell_type": "code",
   "execution_count": 87,
   "metadata": {
    "_cell_guid": "ee6326b3-5cc8-4936-a650-f76cd7102199",
    "_uuid": "cc19c6ba-9a8d-4886-8127-49a8bd512a54"
   },
   "outputs": [],
   "source": [
    "#MasVnrArea\n",
    "#missing values\n",
    "train['MasVnrArea'] = train['MasVnrArea'].fillna(train['MasVnrArea'].value_counts().index[0])\n",
    "test['MasVnrArea'] = test['MasVnrArea'].fillna(train['MasVnrArea'].value_counts().index[0])\n",
    "\n",
    "#scaled\n",
    "from sklearn.preprocessing import StandardScaler\n",
    "sc = StandardScaler()\n",
    "train['MasVnrArea'] = sc.fit_transform(train['MasVnrArea'].values.reshape(-1, 1))\n",
    "test['MasVnrArea'] = sc.transform(test['MasVnrArea'].values.reshape(-1, 1))"
   ]
  },
  {
   "cell_type": "code",
   "execution_count": 88,
   "metadata": {
    "_cell_guid": "f1b1ba2e-5bdc-48b6-a8f0-abd7722722cd",
    "_uuid": "ce52d4be-10bd-48de-a7eb-4487d7b5b360"
   },
   "outputs": [],
   "source": [
    "#ExterQual\n",
    "#encode\n",
    "train['ExterQual']=train['ExterQual'].map({\n",
    "    'TA': 1,\n",
    "    'Gd': 2,\n",
    "    'Ex': 3,\n",
    "    'Fa': 0})\n",
    "\n",
    "test['ExterQual']=test['ExterQual'].map({\n",
    "    'TA': 1,\n",
    "    'Gd': 2,\n",
    "    'Ex': 3,\n",
    "    'Fa': 0})"
   ]
  },
  {
   "cell_type": "code",
   "execution_count": 89,
   "metadata": {
    "_cell_guid": "850b0e06-a898-4825-8e79-57a848e6901b",
    "_uuid": "f3e34fe7-6fdc-42c8-8431-5df23b1b9712"
   },
   "outputs": [],
   "source": [
    "#ExterCond\n",
    "#remove Po,Ex\n",
    "#encode\n",
    "train['ExterCond']=train['ExterCond'].map({\n",
    "    'TA': 2,\n",
    "    'Gd': 3,\n",
    "    'Ex': 4,\n",
    "    'Fa': 1,\n",
    "    'Po': 0})\n",
    "test['ExterCond']=test['ExterCond'].map({\n",
    "    'TA': 2,\n",
    "    'Gd': 3,\n",
    "    'Ex': 4,\n",
    "    'Fa': 1,\n",
    "    'Po': 0})"
   ]
  },
  {
   "cell_type": "code",
   "execution_count": 90,
   "metadata": {
    "_cell_guid": "42832807-7c84-401f-b80c-d7085979cc70",
    "_uuid": "e6269848-bd15-4113-9e55-505b81133458"
   },
   "outputs": [],
   "source": [
    "#Foundation\n",
    "\n",
    "train.loc[(train['Foundation'] == 'Stone') | (train['Foundation'] == 'Wood') , 'Foundation'] = train['Foundation'].value_counts().index[0]\n",
    "test.loc[(test['Foundation'] == 'Stone') | (test['Foundation'] == 'Wood') , 'Foundation'] = train['Foundation'].value_counts().index[0]\n",
    "train['Foundation'].value_counts()\n",
    "#encode\n",
    "train = pd.concat([train, pd.get_dummies(train['Foundation'], drop_first=True, prefix='Foundation')], axis = 1)\n",
    "train=train.drop(columns=['Foundation'])\n",
    "test = pd.concat([test, pd.get_dummies(test['Foundation'], drop_first=True, prefix='Foundation')], axis = 1)\n",
    "test=test.drop(columns=['Foundation'])"
   ]
  },
  {
   "cell_type": "code",
   "execution_count": 91,
   "metadata": {
    "_cell_guid": "06717373-3f1d-4903-ae51-0811bd5fbe4f",
    "_uuid": "176c1a70-5003-4b04-8fef-aeb048a22ec5"
   },
   "outputs": [],
   "source": [
    "#BsmtQual \n",
    "\n",
    "#missing values == no basement\n",
    "train['BsmtQual'] = train['BsmtQual'].fillna('No')\n",
    "test['BsmtQual'] = test['BsmtQual'].fillna('No')\n",
    "\n",
    "#encode\n",
    "train['BsmtQual']=train['BsmtQual'].map({\n",
    "    'TA': 3,\n",
    "    'Gd': 4,\n",
    "    'Ex': 5,\n",
    "    'Fa': 2,\n",
    "    'Po': 1,\n",
    "    'No': 0,})\n",
    "\n",
    "test['BsmtQual']=test['BsmtQual'].map({\n",
    "    'TA': 3,\n",
    "    'Gd': 4,\n",
    "    'Ex': 5,\n",
    "    'Fa': 2,\n",
    "    'Po': 1,\n",
    "    'No': 0,})"
   ]
  },
  {
   "cell_type": "code",
   "execution_count": 92,
   "metadata": {
    "_cell_guid": "3d6921c6-41e1-488c-8d6b-74f10d4492dc",
    "_uuid": "3da3ad54-59ac-4ceb-9cd1-639fbc513974"
   },
   "outputs": [],
   "source": [
    "#BsmtCond\n",
    "#combine No and Po?\n",
    "# train.loc[(train['BsmtCond'] == 'Po'), 'BsmtCond'] = np.nan\n",
    "# test.loc[(test['BsmtCond'] == 'Po'), 'BsmtCond'] = np.nan\n",
    "\n",
    "#missing values == no basement\n",
    "train['BsmtCond'] = train['BsmtCond'].fillna('No')\n",
    "test['BsmtCond'] = test['BsmtCond'].fillna('No')\n",
    "\n",
    "#encode\n",
    "train['BsmtCond']=train['BsmtCond'].map({\n",
    "    'TA': 3,\n",
    "    'Gd': 4,\n",
    "    'Ex': 5,\n",
    "    'Fa': 2,\n",
    "    'Po': 1,\n",
    "    'No': 0,})\n",
    "\n",
    "test['BsmtCond']=test['BsmtCond'].map({\n",
    "    'TA': 3,\n",
    "    'Gd': 4,\n",
    "    'Ex': 5,\n",
    "    'Fa': 2,\n",
    "    'Po': 1,\n",
    "    'No': 0,})"
   ]
  },
  {
   "cell_type": "code",
   "execution_count": 93,
   "metadata": {
    "_cell_guid": "680cb174-6b46-4345-a1d9-e2e3418c4c84",
    "_uuid": "e5745cc1-5d3c-45d0-9dbd-cc65fc873b2c"
   },
   "outputs": [],
   "source": [
    "#BsmtExposure\n",
    "#missing values == no basement\n",
    "train['BsmtExposure'] = train['BsmtExposure'].fillna('NoB')\n",
    "test['BsmtExposure'] = test['BsmtExposure'].fillna('NoB')\n",
    "\n",
    "train['BsmtExposure']=train['BsmtExposure'].map({\n",
    "    'Gd': 4,\n",
    "    'Av': 3,\n",
    "    'Mn': 2,\n",
    "    'No': 1,\n",
    "    'NoB': 0,})\n",
    "test['BsmtExposure']=test['BsmtExposure'].map({\n",
    "    'Gd': 4,\n",
    "    'Av': 3,\n",
    "    'Mn': 2,\n",
    "    'No': 1,\n",
    "    'NoB': 0,})"
   ]
  },
  {
   "cell_type": "code",
   "execution_count": 94,
   "metadata": {
    "_cell_guid": "68c866e4-7c2f-44d7-a4ed-ac3ed8b0bac0",
    "_uuid": "8e451e6f-9f22-4486-84f7-f5358af70063"
   },
   "outputs": [],
   "source": [
    "#Bsmts, I combined category and feet of that category\n",
    "\n",
    "#missing values == no basement\n",
    "train['BsmtFinType1'] = train['BsmtFinType1'].fillna('No')\n",
    "test['BsmtFinType1'] = test['BsmtFinType1'].fillna('No')\n",
    "train['BsmtFinType2'] = train['BsmtFinType2'].fillna('No')\n",
    "test['BsmtFinType2'] = test['BsmtFinType2'].fillna('No')\n",
    "\n",
    "test['BsmtFinSF1']=test['BsmtFinSF1'].fillna(train['BsmtFinSF1'].mean())\n",
    "test['BsmtFinSF2']=test['BsmtFinSF2'].fillna(train['BsmtFinSF2'].mean())\n",
    "\n",
    "train.loc[(train['BsmtFinType1'] == 'GLQ'), 'Bsmt_GLQ'] = train['BsmtFinSF1']\n",
    "train.loc[(train['BsmtFinType1'] == 'ALQ'), 'Bsmt_ALQ'] = train['BsmtFinSF1']\n",
    "train.loc[(train['BsmtFinType1'] == 'BLQ'), 'Bsmt_BLQ'] = train['BsmtFinSF1']\n",
    "train.loc[(train['BsmtFinType1'] == 'Rec'), 'Bsmt_Rec'] = train['BsmtFinSF1']\n",
    "train.loc[(train['BsmtFinType1'] == 'LwQ'), 'Bsmt_LwQ'] = train['BsmtFinSF1']\n",
    "\n",
    "test.loc[(test['BsmtFinType1'] == 'GLQ'), 'Bsmt_GLQ'] = test['BsmtFinSF1']\n",
    "test.loc[(test['BsmtFinType1'] == 'ALQ'), 'Bsmt_ALQ'] = test['BsmtFinSF1']\n",
    "test.loc[(test['BsmtFinType1'] == 'BLQ'), 'Bsmt_BLQ'] = test['BsmtFinSF1']\n",
    "test.loc[(test['BsmtFinType1'] == 'Rec'), 'Bsmt_Rec'] = test['BsmtFinSF1']\n",
    "test.loc[(test['BsmtFinType1'] == 'LwQ'), 'Bsmt_LwQ'] = test['BsmtFinSF1']\n",
    "\n",
    "train.loc[(train['BsmtFinType2'] == 'GLQ'), 'Bsmt_GLQ'] = train['BsmtFinSF2']\n",
    "train.loc[(train['BsmtFinType2'] == 'ALQ'), 'Bsmt_ALQ'] = train['BsmtFinSF2']\n",
    "train.loc[(train['BsmtFinType2'] == 'BLQ'), 'Bsmt_BLQ'] = train['BsmtFinSF2']\n",
    "train.loc[(train['BsmtFinType2'] == 'Rec'), 'Bsmt_Rec'] = train['BsmtFinSF2']\n",
    "train.loc[(train['BsmtFinType2'] == 'LwQ'), 'Bsmt_LwQ'] = train['BsmtFinSF2']\n",
    "\n",
    "test.loc[(test['BsmtFinType2'] == 'GLQ'), 'Bsmt_GLQ'] = test['BsmtFinSF2']\n",
    "test.loc[(test['BsmtFinType2'] == 'ALQ'), 'Bsmt_ALQ'] = test['BsmtFinSF2']\n",
    "test.loc[(test['BsmtFinType2'] == 'BLQ'), 'Bsmt_BLQ'] = test['BsmtFinSF2']\n",
    "test.loc[(test['BsmtFinType2'] == 'Rec'), 'Bsmt_Rec'] = test['BsmtFinSF2']\n",
    "test.loc[(test['BsmtFinType2'] == 'LwQ'), 'Bsmt_LwQ'] = test['BsmtFinSF2']\n",
    "\n",
    "train[['Bsmt_GLQ','Bsmt_ALQ','Bsmt_BLQ','Bsmt_Rec','Bsmt_LwQ']]=train[['Bsmt_GLQ','Bsmt_ALQ','Bsmt_BLQ','Bsmt_Rec','Bsmt_LwQ']].fillna(0).astype(int)\n",
    "test[['Bsmt_GLQ','Bsmt_ALQ','Bsmt_BLQ','Bsmt_Rec','Bsmt_LwQ']]=test[['Bsmt_GLQ','Bsmt_ALQ','Bsmt_BLQ','Bsmt_Rec','Bsmt_LwQ']].fillna(0).astype(int)\n",
    "\n",
    "train=train.drop(columns=['BsmtFinType1','BsmtFinType2', 'BsmtFinSF1', 'BsmtFinSF2'])\n",
    "test=test.drop(columns=['BsmtFinType1','BsmtFinType2', 'BsmtFinSF1', 'BsmtFinSF2'])\n",
    "\n",
    "test['BsmtUnfSF']=test['BsmtUnfSF'].fillna(0).astype(int)\n",
    "test['TotalBsmtSF']=test['TotalBsmtSF'].fillna(0).astype(int)"
   ]
  },
  {
   "cell_type": "code",
   "execution_count": 95,
   "metadata": {
    "_cell_guid": "55c6e1d3-428d-4ce1-983a-bf87621c12ca",
    "_uuid": "22e3e70a-c988-484e-8f9f-a75612d50097"
   },
   "outputs": [],
   "source": [
    "#Heating\n",
    "train.loc[(train['Heating'] != 'GasA') , 'Heating'] = 0\n",
    "test.loc[(test['Heating'] != 'GasA') , 'Heating'] = 0\n",
    "train.loc[(train['Heating'] == 'GasA') , 'Heating'] = 1\n",
    "test.loc[(test['Heating'] == 'GasA') , 'Heating'] = 1\n",
    "\n",
    "train['Heating']=train['Heating'].astype(int)\n",
    "test['Heating']=test['Heating'].astype(int)"
   ]
  },
  {
   "cell_type": "code",
   "execution_count": 96,
   "metadata": {
    "_cell_guid": "9f4eece5-7c4c-4e03-a242-b8d5fdfaea40",
    "_uuid": "3db2d9a0-dff3-4822-b0a3-34cbd75cf7b5"
   },
   "outputs": [],
   "source": [
    "#HeatingQC\n",
    "train['HeatingQC']=train['HeatingQC'].map({\n",
    "    'Ex': 4,\n",
    "    'Gd': 3,\n",
    "    'TA': 2,\n",
    "    'Fa': 1,\n",
    "    'Po': 0,})\n",
    "\n",
    "test['HeatingQC']=test['HeatingQC'].map({\n",
    "    'Ex': 4,\n",
    "    'Gd': 3,\n",
    "    'TA': 2,\n",
    "    'Fa': 1,\n",
    "    'Po': 0,})"
   ]
  },
  {
   "cell_type": "code",
   "execution_count": 97,
   "metadata": {
    "_cell_guid": "2be01751-33c9-4c8e-bbb7-baf538deb71a",
    "_uuid": "d24d0b07-804d-4d29-8d55-55ebe529cf41"
   },
   "outputs": [],
   "source": [
    "#CentralAir\n",
    "#label encode 1/0\n",
    "train['CentralAir'].replace(to_replace='Y', value=1, inplace=True) \n",
    "train['CentralAir'].replace(to_replace='N', value=0, inplace=True) \n",
    "test['CentralAir'].replace(to_replace='Y', value=1, inplace=True) \n",
    "test['CentralAir'].replace(to_replace='N', value=0, inplace=True)"
   ]
  },
  {
   "cell_type": "code",
   "execution_count": 98,
   "metadata": {
    "_cell_guid": "8ae346db-d998-4fc1-92ef-45f94edbb274",
    "_uuid": "0d8cb771-a710-4560-8a47-c2b7f80ef2ad"
   },
   "outputs": [],
   "source": [
    "#Electrical 1 null in train\n",
    "# FuseF FuseP Mix\n",
    "train.loc[(train['Electrical'] == 'FuseF') | (train['Electrical'] == 'FuseP') | (train['Electrical'] == 'Mix'), 'Electrical'] = 0\n",
    "train['Electrical'].replace(to_replace='FuseA', value=1, inplace=True) \n",
    "train['Electrical'].replace(to_replace='SBrkr', value=2, inplace=True) \n",
    "train['Electrical']=train['Electrical'].fillna(0).astype(int)\n",
    "\n",
    "test.loc[(test['Electrical'] == 'FuseF') | (test['Electrical'] == 'FuseP') | (test['Electrical'] == 'Mix'), 'Electrical'] = 0\n",
    "test['Electrical'].replace(to_replace='FuseA', value=1, inplace=True) \n",
    "test['Electrical'].replace(to_replace='SBrkr', value=2, inplace=True) \n",
    "test['Electrical']=test['Electrical'].fillna(0).astype(int)"
   ]
  },
  {
   "cell_type": "code",
   "execution_count": 99,
   "metadata": {
    "_cell_guid": "4c53c3c3-c2fb-4547-96e6-34f121018859",
    "_uuid": "c38441a5-5f78-4333-8c62-c5bd4da1acab"
   },
   "outputs": [],
   "source": [
    "#LowQualFinSF drop?\n",
    "train.loc[(train['LowQualFinSF'] != 0, 'LowQualFinSF')] = 1\n",
    "test.loc[(test['LowQualFinSF'] != 0, 'LowQualFinSF')] = 1"
   ]
  },
  {
   "cell_type": "code",
   "execution_count": 100,
   "metadata": {
    "_cell_guid": "2e95a48e-bca2-41bd-b252-799721cb210d",
    "_uuid": "45005971-4447-4bbc-acd7-f82e1c1814d1"
   },
   "outputs": [],
   "source": [
    "#BsmtFullBath\n",
    "#null in test.\n",
    "test['BsmtFullBath']=test['BsmtFullBath'].fillna(0).astype(int)\n",
    "\n",
    "train['BsmtFullBath'].replace(to_replace=3, value=0, inplace=True)\n",
    "test['BsmtFullBath'].replace(to_replace=3, value=0, inplace=True)"
   ]
  },
  {
   "cell_type": "code",
   "execution_count": 101,
   "metadata": {
    "_cell_guid": "2e9f91a8-f948-4136-aab1-ecb8841a1bfa",
    "_uuid": "aed00b32-b8d5-4cfc-9a61-0285144a9807"
   },
   "outputs": [],
   "source": [
    "#BsmtHalfBath\n",
    "#null in test.\n",
    "test['BsmtHalfBath']=test['BsmtHalfBath'].fillna(0).astype(int)\n",
    "\n",
    "train['BsmtHalfBath'].replace(to_replace=2, value=0, inplace=True)\n",
    "test['BsmtHalfBath'].replace(to_replace=2, value=0, inplace=True)"
   ]
  },
  {
   "cell_type": "code",
   "execution_count": 102,
   "metadata": {
    "_cell_guid": "b6a6ea77-0ad7-4050-8f60-33aac184a087",
    "_uuid": "ab1bf03b-9dcb-4e2a-bbfb-6386ad8f965f"
   },
   "outputs": [],
   "source": [
    "#FullBath combined 0 and 1\n",
    "train['FullBath'].replace(to_replace=0, value=1, inplace=True)\n",
    "test['FullBath'].replace(to_replace=0, value=1, inplace=True)"
   ]
  },
  {
   "cell_type": "code",
   "execution_count": 103,
   "metadata": {
    "_cell_guid": "29d5b5e7-d9bc-4699-8e35-cad769d4fe04",
    "_uuid": "bb421e2b-93f9-4b59-b2b0-431a57e6bc64"
   },
   "outputs": [],
   "source": [
    "#HalfBath combined 2 and 1\n",
    "train['HalfBath'].replace(to_replace=2, value=1, inplace=True)\n",
    "test['HalfBath'].replace(to_replace=2, value=1, inplace=True)"
   ]
  },
  {
   "cell_type": "code",
   "execution_count": 104,
   "metadata": {
    "_cell_guid": "d6acefde-e1b3-461d-bd57-7d2409b3da0d",
    "_uuid": "51adbefb-d06e-4d83-a339-4da6520bf091"
   },
   "outputs": [],
   "source": [
    "#Bedroom removed 6 0 5 8. why is 1 higher than 2?\n",
    "train['BedroomAbvGr'].replace(to_replace=6, value=3, inplace=True)\n",
    "train['BedroomAbvGr'].replace(to_replace=8, value=3, inplace=True)\n",
    "train['BedroomAbvGr'].replace(to_replace=5, value=3, inplace=True)\n",
    "train['BedroomAbvGr'].replace(to_replace=0, value=3, inplace=True)\n",
    "\n",
    "test['BedroomAbvGr'].replace(to_replace=6, value=3, inplace=True)\n",
    "test['BedroomAbvGr'].replace(to_replace=8, value=3, inplace=True)\n",
    "test['BedroomAbvGr'].replace(to_replace=5, value=3, inplace=True)\n",
    "test['BedroomAbvGr'].replace(to_replace=0, value=3, inplace=True)"
   ]
  },
  {
   "cell_type": "code",
   "execution_count": 105,
   "metadata": {
    "_cell_guid": "5c477d47-12dd-4fe1-ae3e-86fe6949fe19",
    "_uuid": "bbd03077-65f9-4990-a0f6-c25847848566"
   },
   "outputs": [],
   "source": [
    "#KitchenAbvGr combined 0,1 and 2,3\n",
    "train['KitchenAbvGr'].replace(to_replace=0, value=1, inplace=True)\n",
    "train['KitchenAbvGr'].replace(to_replace=3, value=2, inplace=True)\n",
    "test['KitchenAbvGr'].replace(to_replace=0, value=1, inplace=True)\n",
    "test['KitchenAbvGr'].replace(to_replace=3, value=2, inplace=True)"
   ]
  },
  {
   "cell_type": "code",
   "execution_count": 106,
   "metadata": {
    "_cell_guid": "02c9d91c-8ba1-4d06-aa8a-a7512d675e06",
    "_uuid": "867dcbf5-e0e6-4e1a-b330-c4a50443340a"
   },
   "outputs": [],
   "source": [
    "#KitchenQual null in test\n",
    "test['KitchenQual']=test['KitchenQual'].fillna(train['KitchenQual'].value_counts().index[0])\n",
    "train['KitchenQual']=train['KitchenQual'].map({\n",
    "    'Ex': 4,\n",
    "    'Gd': 3,\n",
    "    'TA': 2,\n",
    "    'Fa': 1,\n",
    "    'Po': 0,})\n",
    "test['KitchenQual']=test['KitchenQual'].map({\n",
    "    'Ex': 4,\n",
    "    'Gd': 3,\n",
    "    'TA': 2,\n",
    "    'Fa': 1,\n",
    "    'Po': 0,})"
   ]
  },
  {
   "cell_type": "code",
   "execution_count": 107,
   "metadata": {
    "_cell_guid": "a0948e9f-a066-4c17-8af3-e664f6ef893b",
    "_uuid": "5cb97df7-5d33-42bc-b910-75b13c71c4e6"
   },
   "outputs": [],
   "source": [
    "#TotRmsAbvGrd. combine 11+ and 3-\n",
    "\n",
    "train.loc[(train['TotRmsAbvGrd'] >11), 'TotRmsAbvGrd'] = 11\n",
    "train.loc[(train['TotRmsAbvGrd'] <3), 'TotRmsAbvGrd'] = 3\n",
    "test.loc[(test['TotRmsAbvGrd'] >11), 'TotRmsAbvGrd'] = 11\n",
    "test.loc[(test['TotRmsAbvGrd'] <3), 'TotRmsAbvGrd'] = 3"
   ]
  },
  {
   "cell_type": "code",
   "execution_count": 108,
   "metadata": {
    "_cell_guid": "8cdbd310-cf7e-4622-93c2-c0a2d1b82348",
    "_uuid": "a0f88d73-563b-4771-a976-f7d3b379d5d3"
   },
   "outputs": [],
   "source": [
    "#Functional\n",
    "#null in test\n",
    "test['Functional']=test['Functional'].fillna('Typ')\n",
    "\n",
    "train['Functional']=train['Functional'].map({\n",
    "    'Typ': 4,\n",
    "    'Min1': 3,\n",
    "    'Min2': 2,\n",
    "    'Mod': 1,\n",
    "    'Maj1': 0,\n",
    "    'Maj2': 0,\n",
    "    'Sev': 0,\n",
    "})\n",
    "\n",
    "\n",
    "test['Functional']=test['Functional'].map({\n",
    "    'Typ': 4,\n",
    "    'Min1': 3,\n",
    "    'Min2': 2,\n",
    "    'Mod': 1,\n",
    "    'Maj1': 0,\n",
    "    'Maj2': 0,\n",
    "    'Sev': 0,\n",
    "})"
   ]
  },
  {
   "cell_type": "code",
   "execution_count": 109,
   "metadata": {
    "_cell_guid": "aab27b2c-5687-4429-9994-129ba7f2c5bb",
    "_uuid": "1fa84521-7e53-4a7e-b7a1-868579400b3e"
   },
   "outputs": [],
   "source": [
    "#FireplaceQu\n",
    "train['FireplaceQu']=train['FireplaceQu'].fillna('No')\n",
    "test['FireplaceQu']=test['FireplaceQu'].fillna('No')\n",
    "train['FireplaceQu']=train['FireplaceQu'].map({\n",
    "    'Ex': 5,\n",
    "    'Gd': 4,\n",
    "    'TA': 3,\n",
    "    'Fa': 2,\n",
    "    'Po': 0,\n",
    "    'No': 1,\n",
    "})\n",
    "test['FireplaceQu']=test['FireplaceQu'].map({\n",
    "    'Ex': 5,\n",
    "    'Gd': 4,\n",
    "    'TA': 3,\n",
    "    'Fa': 2,\n",
    "    'Po': 0,\n",
    "    'No': 1,\n",
    "})"
   ]
  },
  {
   "cell_type": "code",
   "execution_count": 110,
   "metadata": {
    "_cell_guid": "5bf3da0f-c131-4200-855b-67b3370acc1f",
    "_uuid": "b635fb12-03f7-4056-8779-5edbfc01e174"
   },
   "outputs": [],
   "source": [
    "#GarageType \n",
    "\n",
    "train['GarageType']=train['GarageType'].fillna('No')\n",
    "test['GarageType']=test['GarageType'].fillna('No')\n",
    "\n",
    "train.loc[(train['GarageType'] == 'CarPort') | (train['GarageType'] == '2Types') , 'GarageType'] = 'Other'\n",
    "test.loc[(test['GarageType'] == 'CarPort') | (test['GarageType'] == '2Types') , 'GarageType'] = 'Other'\n",
    "\n",
    "#encode\n",
    "train = pd.concat([train, pd.get_dummies(train['GarageType'], prefix='GarageType')], axis = 1)\n",
    "train=train.drop(columns=['GarageType', 'GarageType_Other'])\n",
    "test = pd.concat([test, pd.get_dummies(test['GarageType'],prefix='GarageType')], axis = 1)\n",
    "test=test.drop(columns=['GarageType', 'GarageType_Other'])"
   ]
  },
  {
   "cell_type": "code",
   "execution_count": 111,
   "metadata": {
    "_cell_guid": "210ecc06-d1c6-459d-92eb-282144296967",
    "_uuid": "12035980-9724-4768-b9da-abd7706c9bfb"
   },
   "outputs": [],
   "source": [
    "#GarageYrBlt\n",
    "#null values\n",
    "from sklearn.impute import KNNImputer\n",
    "imputer = KNNImputer(n_neighbors=5)\n",
    "train['GarageYrBlt'] = imputer.fit_transform(train['GarageYrBlt'].values.reshape(-1, 1))\n",
    "test['GarageYrBlt'] = imputer.transform(test['GarageYrBlt'].values.reshape(-1, 1))\n",
    "\n",
    "bins = pd.IntervalIndex.from_tuples([(1700, 1960), (1960, 1985), (1985,2000), (2000, 2005), (2005,3000)])\n",
    "train['GarageYrBlt']=pd.cut(train['GarageYrBlt'], bins=bins)\n",
    "test['GarageYrBlt']=pd.cut(test['GarageYrBlt'], bins=bins)\n",
    "train['GarageYrBlt'] = train['GarageYrBlt'].cat.codes\n",
    "test['GarageYrBlt'] = test['GarageYrBlt'].cat.codes"
   ]
  },
  {
   "cell_type": "code",
   "execution_count": 112,
   "metadata": {
    "_cell_guid": "83f1a3ee-fdfd-4c88-a5f5-86b3c4551bcd",
    "_uuid": "b16af6d7-e3f4-40fe-9b6b-0b508210f205"
   },
   "outputs": [],
   "source": [
    "#GarageFinish\n",
    "train['GarageFinish']=train['GarageFinish'].fillna('No')\n",
    "test['GarageFinish']=test['GarageFinish'].fillna('No')\n",
    "\n",
    "train['GarageFinish']=train['GarageFinish'].map({\n",
    "    'Fin': 3,\n",
    "    'RFn': 2,\n",
    "    'Unf': 1,\n",
    "    'No': 0,\n",
    "})\n",
    "test['GarageFinish']=test['GarageFinish'].map({\n",
    "    'Fin': 3,\n",
    "    'RFn': 2,\n",
    "    'Unf': 1,\n",
    "    'No': 0,\n",
    "})"
   ]
  },
  {
   "cell_type": "code",
   "execution_count": 113,
   "metadata": {
    "_cell_guid": "e30d06c7-dc8c-49e4-ac1c-9323032126d1",
    "_uuid": "e6f2e3f7-8cdc-41b9-aa44-e7b204dc8579"
   },
   "outputs": [],
   "source": [
    "#GarageCars grouped 3,3+\n",
    "#missing\n",
    "test['GarageCars']=test['GarageCars'].fillna(train['GarageCars'].value_counts().index[0])\n",
    "\n",
    "train.loc[(train['GarageCars'] >3 , 'GarageCars')] = 3\n",
    "test.loc[(test['GarageCars'] >3 , 'GarageCars')] = 3"
   ]
  },
  {
   "cell_type": "code",
   "execution_count": 114,
   "metadata": {
    "_cell_guid": "6ec51b54-5299-4011-865e-d51cd75f2886",
    "_uuid": "7fafeeaa-cbab-40a9-8cdc-0ec2440657c1"
   },
   "outputs": [],
   "source": [
    "#GarageArea\n",
    "#missing\n",
    "train['GarageArea']=train['GarageArea'].fillna(train['GarageCars'].mean())\n",
    "test['GarageArea']=test['GarageArea'].fillna(train['GarageCars'].mean())"
   ]
  },
  {
   "cell_type": "code",
   "execution_count": 115,
   "metadata": {
    "_cell_guid": "12dea67e-ad01-497b-aa8d-186d7c23aba3",
    "_uuid": "9efc0f88-3223-4ac2-830e-7f772bbe5af1"
   },
   "outputs": [],
   "source": [
    "#GarageQual\n",
    "#missing=no garage\n",
    "train['GarageQual']=train['GarageQual'].fillna('No')\n",
    "test['GarageQual']=test['GarageQual'].fillna('No')\n",
    "train['GarageQual']=train['GarageQual'].map({\n",
    "    'Ex': 5,\n",
    "    'Gd': 4,\n",
    "    'TA': 3,\n",
    "    'Fa': 2,\n",
    "    'Po': 0,\n",
    "    'No': 1,\n",
    "})\n",
    "test['GarageQual']=test['GarageQual'].map({\n",
    "    'Ex': 5,\n",
    "    'Gd': 4,\n",
    "    'TA': 3,\n",
    "    'Fa': 2,\n",
    "    'Po': 0,\n",
    "    'No': 1,\n",
    "})"
   ]
  },
  {
   "cell_type": "code",
   "execution_count": 116,
   "metadata": {
    "_cell_guid": "d857c6d3-b8c2-48a6-a236-deffc851e5eb",
    "_uuid": "bfe54e5c-e24a-40c2-826b-ed15c8e95cea"
   },
   "outputs": [],
   "source": [
    "#GarageCond\n",
    "#missing=no garage\n",
    "train['GarageCond']=train['GarageCond'].fillna('No')\n",
    "test['GarageCond']=test['GarageCond'].fillna('No')\n",
    "train['GarageCond']=train['GarageCond'].map({\n",
    "    'Ex': 2,\n",
    "    'Gd': 2,\n",
    "    'TA': 2,\n",
    "    'Fa': 1,\n",
    "    'Po': 1,\n",
    "    'No': 0,\n",
    "})\n",
    "test['GarageCond']=test['GarageCond'].map({\n",
    "    'Ex': 2,\n",
    "    'Gd': 2,\n",
    "    'TA': 2,\n",
    "    'Fa': 1,\n",
    "    'Po': 1,\n",
    "    'No': 0,\n",
    "})"
   ]
  },
  {
   "cell_type": "code",
   "execution_count": 117,
   "metadata": {
    "_cell_guid": "3ca92e89-7aff-4696-ae9d-a6432df050a6",
    "_uuid": "1b22899f-d304-492b-af48-5da9c38dec94"
   },
   "outputs": [],
   "source": [
    "#PavedDrive\n",
    "train['PavedDrive']=train['PavedDrive'].map({\n",
    "    'Y': 2,\n",
    "    'P': 1,\n",
    "    'N': 0,\n",
    "})\n",
    "test['PavedDrive']=test['PavedDrive'].map({\n",
    "    'Y': 2,\n",
    "    'P': 1,\n",
    "    'N': 0,\n",
    "})"
   ]
  },
  {
   "cell_type": "code",
   "execution_count": 118,
   "metadata": {
    "_cell_guid": "2e528000-6f86-40df-b070-cfafa58bbff0",
    "_uuid": "b2847990-212e-41a3-86e1-ff3a68ec51bd"
   },
   "outputs": [],
   "source": [
    "#WoodDeckSF bands\n",
    "bins = pd.IntervalIndex.from_tuples([(-1, 0), (0, 100), (100, 150), (150,20000)])\n",
    "\n",
    "test['WoodDeckSF']=test['WoodDeckSF'].fillna(train['WoodDeckSF'].mean())\n",
    "\n",
    "train['WoodDeckSF']=pd.cut(train['WoodDeckSF'], bins=bins)\n",
    "test['WoodDeckSF']=pd.cut(test['WoodDeckSF'], bins=bins)\n",
    "\n",
    "from sklearn import preprocessing\n",
    "le_wd = preprocessing.LabelEncoder()\n",
    "train['WoodDeckSF'] = le_wd.fit_transform(train['WoodDeckSF'])\n",
    "test['WoodDeckSF'] = le_wd.transform(test['WoodDeckSF'])"
   ]
  },
  {
   "cell_type": "code",
   "execution_count": 119,
   "metadata": {
    "_cell_guid": "d4859e54-90a1-4e8f-8e76-72a17ba5c7c5",
    "_uuid": "fda3630c-26e0-4150-9cf0-72cc6d7ebaf3"
   },
   "outputs": [],
   "source": [
    "#combine porch\n",
    "train[\"Porch\"] = train[\"OpenPorchSF\"] + train[\"EnclosedPorch\"] + train[\"3SsnPorch\"] + train[\"ScreenPorch\"]\n",
    "test[\"Porch\"] = test[\"OpenPorchSF\"] + test[\"EnclosedPorch\"] + test[\"3SsnPorch\"] + test[\"ScreenPorch\"]\n",
    "\n",
    "train=train.drop(columns=['OpenPorchSF','EnclosedPorch', '3SsnPorch', 'ScreenPorch'])\n",
    "test=test.drop(columns=['OpenPorchSF','EnclosedPorch', '3SsnPorch', 'ScreenPorch'])"
   ]
  },
  {
   "cell_type": "code",
   "execution_count": 120,
   "metadata": {
    "_cell_guid": "19478a7f-1d24-4a32-8804-36b4b7901ded",
    "_uuid": "4080c5be-ff69-4840-8e47-01f3b09d1041"
   },
   "outputs": [],
   "source": [
    "#PoolArea and PoolQC dropped\n",
    "train=train.drop(columns=['PoolArea','PoolQC'])\n",
    "test=test.drop(columns=['PoolArea','PoolQC'])"
   ]
  },
  {
   "cell_type": "code",
   "execution_count": 121,
   "metadata": {
    "_cell_guid": "28a93cdd-dd8f-470c-ad31-7594f9e63876",
    "_uuid": "5bdac84f-e8bf-439c-a1cb-f05436ec11c0"
   },
   "outputs": [],
   "source": [
    "#Fence drop\n",
    "train['Fence'].fillna(0, inplace=True)\n",
    "test['Fence'].fillna(0, inplace=True)\n",
    "\n",
    "train.loc[(train['Fence'] != 0) , 'Fence'] = 1\n",
    "test.loc[(test['Fence'] != 0) , 'Fence'] = 1\n",
    "\n",
    "train['Fence']=train['Fence'].astype(int)\n",
    "test['Fence']=test['Fence'].astype(int)\n",
    "\n",
    "train=train.drop(columns=['Fence'])\n",
    "test=test.drop(columns=['Fence'])"
   ]
  },
  {
   "cell_type": "code",
   "execution_count": 122,
   "metadata": {
    "_cell_guid": "a6f69ef1-e348-498d-9f18-5130d10a617a",
    "_uuid": "dd2a8a01-fe1e-48cf-9c3a-ed60d2a31265"
   },
   "outputs": [],
   "source": [
    "#MiscFeature drop\n",
    "train=train.drop(columns=['MiscFeature'])\n",
    "test=test.drop(columns=['MiscFeature'])"
   ]
  },
  {
   "cell_type": "code",
   "execution_count": 123,
   "metadata": {
    "_cell_guid": "a9d04ec1-d450-4926-a4d8-dca38d14566d",
    "_uuid": "b6664f76-7593-42fa-a5ed-eca0267164d4"
   },
   "outputs": [
    {
     "data": {
      "text/plain": [
       "6     253\n",
       "7     234\n",
       "5     204\n",
       "4     141\n",
       "8     122\n",
       "3     106\n",
       "10     89\n",
       "11     79\n",
       "9      63\n",
       "12     59\n",
       "1      57\n",
       "2      52\n",
       "Name: MoSold, dtype: int64"
      ]
     },
     "execution_count": 123,
     "metadata": {},
     "output_type": "execute_result"
    }
   ],
   "source": [
    "#MoSold YrSold drop?\n",
    "train['MoSold'].value_counts()"
   ]
  },
  {
   "cell_type": "code",
   "execution_count": 124,
   "metadata": {
    "_cell_guid": "470e575f-5cca-4613-ad94-c8246f80dcb2",
    "_uuid": "fb0ea0a6-c449-4d83-aef4-4ed8087f14f0"
   },
   "outputs": [],
   "source": [
    "#SaleType drop. overfit\n",
    "train=train.drop(columns=['SaleType'])\n",
    "test=test.drop(columns=['SaleType'])"
   ]
  },
  {
   "cell_type": "code",
   "execution_count": 125,
   "metadata": {
    "_cell_guid": "4b8e0c1f-9e9f-4c55-bec9-e2515749d0dc",
    "_uuid": "5c4c07e9-3e22-4ef9-9d22-6ec21aa86dcc"
   },
   "outputs": [],
   "source": [
    "#SaleCondition Alloca AdjLand\n",
    "train.loc[(train['SaleCondition'] != 'Partial'), 'SaleCondition'] = 0\n",
    "train.loc[(train['SaleCondition'] == 'Partial'), 'SaleCondition'] = 1\n",
    "\n",
    "test.loc[(test['SaleCondition'] != 'Partial'), 'SaleCondition'] = 0\n",
    "test.loc[(test['SaleCondition'] == 'Partial'), 'SaleCondition'] = 1\n",
    "\n",
    "train['SaleCondition']=train['SaleCondition'].astype(int)\n",
    "test['SaleCondition']=test['SaleCondition'].astype(int)"
   ]
  },
  {
   "cell_type": "code",
   "execution_count": 126,
   "metadata": {},
   "outputs": [],
   "source": [
    "#scale\n",
    "from sklearn.preprocessing import StandardScaler\n",
    "sc_sp = StandardScaler()\n",
    "train['SalePrice'] = sc_sp.fit_transform(train['SalePrice'].values.reshape(-1, 1))"
   ]
  },
  {
   "cell_type": "code",
   "execution_count": 127,
   "metadata": {
    "_cell_guid": "e795ecb5-81cf-4ce2-9a12-35ce71e7f300",
    "_uuid": "8832aae5-82b8-46f8-97f1-647321e9e75a"
   },
   "outputs": [],
   "source": [
    "y_train=train['SalePrice'].iloc[:].values\n",
    "x_train=train.drop(columns=['SalePrice'])\n",
    "x_test=test"
   ]
  },
  {
   "cell_type": "code",
   "execution_count": null,
   "metadata": {},
   "outputs": [],
   "source": [
    "from numpy import mean\n",
    "from numpy import std\n",
    "from sklearn.ensemble import GradientBoostingRegressor\n",
    "from sklearn.model_selection import GridSearchCV\n",
    "from sklearn.model_selection import RandomizedSearchCV\n",
    "\n",
    "parameters = {'learning_rate': [0.04],\n",
    "                  'subsample'    : [0.5],\n",
    "                  'n_estimators' : [550, 600, 650],\n",
    "                  'min_samples_split' : [2,3],\n",
    "                  'min_samples_leaf' : [1,2],\n",
    "                  'max_depth'    : [6]\n",
    "                 }\n",
    "grid_search = GridSearchCV(estimator=GradientBoostingRegressor(random_state=0), param_grid = parameters, cv = 5, n_jobs = -1)\n",
    "grid_search.fit(x_train, y_train)\n",
    "best_grid = grid_search.best_estimator_\n",
    "best_grid\n",
    "\n",
    "best_grid.fit(x_train, y_train)\n",
    "round(best_grid.score(x_train, y_train), 2)"
   ]
  },
  {
   "cell_type": "code",
   "execution_count": null,
   "metadata": {},
   "outputs": [],
   "source": [
    "from sklearn.model_selection import cross_val_score\n",
    "scores = cross_val_score(best_grid, x_train, y_train, scoring='r2', cv=5)\n",
    "scores\n",
    "\n",
    "print('MAE: %.3f (%.3f)' % (mean(scores), std(scores)))"
   ]
  },
  {
   "cell_type": "code",
   "execution_count": null,
   "metadata": {},
   "outputs": [],
   "source": [
    "grid_search.best_params_\n",
    "#{'learning_rate': 0.04, 'max_depth': 6, 'n_estimators': 500, 'subsample': 0.5}"
   ]
  },
  {
   "cell_type": "code",
   "execution_count": null,
   "metadata": {},
   "outputs": [],
   "source": [
    "results=best_grid.predict(x_test)\n",
    "results=sc_sp.inverse_transform(results)"
   ]
  },
  {
   "cell_type": "code",
   "execution_count": null,
   "metadata": {},
   "outputs": [],
   "source": [
    "result_data = pd.read_csv(\"sample_submission.csv\")\n",
    "result_data"
   ]
  },
  {
   "cell_type": "code",
   "execution_count": null,
   "metadata": {},
   "outputs": [],
   "source": [
    "output = pd.DataFrame({'Id': result_data.Id, 'SalePrice': results})\n",
    "output.to_csv('my_submission.csv', index=False)"
   ]
  },
  {
   "cell_type": "code",
   "execution_count": null,
   "metadata": {},
   "outputs": [],
   "source": [
    "# import statsmodels.api as sm\n",
    "# from sklearn.feature_selection import SelectFromModel\n",
    "# feat_labels=x_train.columns\n",
    "# for feature in zip(feat_labels, best_grid.feature_importances_*100):\n",
    "#     print(feature)\n",
    "    \n",
    "# sfm = SelectFromModel(best_grid, threshold=0.05)\n",
    "# sfm.fit(x_train, y_train)\n",
    "# for feature_list_index in sfm.get_support(indices=True):\n",
    "#     print(feat_labels[feature_list_index])"
   ]
  },
  {
   "cell_type": "code",
   "execution_count": null,
   "metadata": {},
   "outputs": [],
   "source": [
    "# Plot feature importance\n",
    "feature_importance = best_grid.feature_importances_\n",
    "\n",
    "# make importances relative to max importance\n",
    "feature_importance = 100.0 * (feature_importance / feature_importance.max())\n",
    "sorted_idx = np.argsort(feature_importance)\n",
    "pos = np.arange(sorted_idx.shape[0]) + .5\n",
    "# plt.subplot(1, 2, 2)\n",
    "plt.figure(figsize=(8, 18))\n",
    "plt.barh(pos, feature_importance[sorted_idx], align='center')\n",
    "plt.yticks(pos, x_train.keys()[sorted_idx])\n",
    "plt.xlabel('Relative Importance')\n",
    "plt.title('Variable Importance')\n",
    "plt.show()"
   ]
  },
  {
   "cell_type": "code",
   "execution_count": null,
   "metadata": {},
   "outputs": [],
   "source": [
    "#OverallQual: Rates the overall material and finish of the house\n",
    "plt.plot(train[['OverallQual', 'SalePrice']].groupby(['OverallQual'], as_index=True).mean())\n",
    "sns.pairplot(pd.DataFrame({'OverallQual':train[\"OverallQual\"] ,'SalePrice':train[\"SalePrice\"] }))\n",
    "plt.show()"
   ]
  },
  {
   "cell_type": "code",
   "execution_count": null,
   "metadata": {},
   "outputs": [],
   "source": [
    "sns.boxplot(x=\"OverallQual\", y=\"SalePrice\", linewidth=1, fliersize= 3.2 ,data=train, saturation=1, palette=\"YlOrRd\")\n",
    "sns.lmplot(data = train, x = 'OverallQual', y = 'SalePrice',lowess=True,scatter_kws={'alpha':0.01, 's':5,'color':'orange'},line_kws={'color':'red'})"
   ]
  },
  {
   "cell_type": "code",
   "execution_count": null,
   "metadata": {},
   "outputs": [],
   "source": [
    "#Above grade (ground) living area square feet\n",
    "sns.pairplot(pd.DataFrame({'GrLivArea':train[\"GrLivArea\"] ,'SalePrice':train[\"SalePrice\"] }))\n",
    "plt.show()\n",
    "plt.plot(train[['GrLivArea', 'SalePrice']].groupby(['GrLivArea'], as_index=True).mean())"
   ]
  },
  {
   "cell_type": "code",
   "execution_count": null,
   "metadata": {},
   "outputs": [],
   "source": [
    "#TotalBsmtSF: Total square feet of basement area"
   ]
  },
  {
   "cell_type": "code",
   "execution_count": null,
   "metadata": {},
   "outputs": [],
   "source": [
    "# 2ndFlrSF: Second floor square feet\n",
    "# 1stFlrSF: First Floor square feet\n",
    "#Above grade (ground) living area square feet\n",
    "sns.pairplot(pd.DataFrame({'2ndFlrSF':train[\"2ndFlrSF\"] ,'SalePrice':train[\"SalePrice\"] }))\n",
    "plt.show()"
   ]
  },
  {
   "cell_type": "code",
   "execution_count": null,
   "metadata": {},
   "outputs": [],
   "source": [
    "#GarageCars\n",
    "plt.plot(train[['GarageCars', 'SalePrice']].groupby(['GarageCars'], as_index=True).mean())"
   ]
  },
  {
   "cell_type": "markdown",
   "metadata": {},
   "source": [
    "The most vital aspects are the Overall Quality(material and finish of the house), living area square feet and Basement area square feet"
   ]
  }
 ],
 "metadata": {
  "kernelspec": {
   "display_name": "Python 3",
   "language": "python",
   "name": "python3"
  },
  "language_info": {
   "codemirror_mode": {
    "name": "ipython",
    "version": 3
   },
   "file_extension": ".py",
   "mimetype": "text/x-python",
   "name": "python",
   "nbconvert_exporter": "python",
   "pygments_lexer": "ipython3",
   "version": "3.8.5"
  }
 },
 "nbformat": 4,
 "nbformat_minor": 4
}
